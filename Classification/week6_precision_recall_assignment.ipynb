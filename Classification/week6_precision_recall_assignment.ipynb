{
 "cells": [
  {
   "cell_type": "markdown",
   "metadata": {},
   "source": [
    "# Exploring precision and recall\n",
    "\n",
    "The goal of this second notebook is to understand precision-recall in the context of classifiers.\n",
    "\n",
    " * Use Amazon review data in its entirety.\n",
    " * Train a logistic regression model.\n",
    " * Explore various evaluation metrics: accuracy, confusion matrix, precision, recall.\n",
    " * Explore how various metrics can be combined to produce a cost of making an error.\n",
    " * Explore precision and recall curves.\n",
    " \n",
    "Because we are using the full Amazon review dataset (not a subset of words or reviews), in this assignment we return to using GraphLab Create for its efficiency. As usual, let's start by **firing up GraphLab Create**.\n",
    "\n",
    "Make sure you have the latest version of GraphLab Create (1.8.3 or later). If you don't find the decision tree module, then you would need to upgrade graphlab-create using\n",
    "\n",
    "```\n",
    "   pip install graphlab-create --upgrade\n",
    "```\n",
    "See [this page](https://dato.com/download/) for detailed instructions on upgrading."
   ]
  },
  {
   "cell_type": "code",
   "execution_count": 1,
   "metadata": {
    "collapsed": false
   },
   "outputs": [
    {
     "name": "stderr",
     "output_type": "stream",
     "text": [
      "2016-03-24 22:41:57,483 [WARNING] root, 63: sklearn version 0.14.1 is not supported. Minimum required version: 0.15. sklearn support will be disabled.\n",
      "2016-03-24 22:42:03,096 [WARNING] graphlab.product_key, 191: Unable to write current GraphLab Create license to /home/yfliu/.graphlab/config. Ensure that this user account                         has write permission to /home/yfliu/.graphlab/config to save the license for offline use.\n",
      "2016-03-24 22:42:03,631 [INFO] graphlab.cython.cy_server, 176: GraphLab Create v1.8.5 started. Logging: /tmp/graphlab_server_1458830518.log\n",
      "2016-03-24 22:42:03,827 [WARNING] graphlab.deploy._session, 116: Unable to create session in specified location: '/home/yfliu/.graphlab/artifacts'. Using: '/var/tmp/graphlab-yfliu/2802/tmp_session_a9be9311-fe0d-482c-8eb4-82a976857f13'\n"
     ]
    },
    {
     "name": "stdout",
     "output_type": "stream",
     "text": [
      "This non-commercial license of GraphLab Create is assigned to yfliu87@gmail.com and will expire on November 09, 2016. For commercial licensing options, visit https://dato.com/buy/.\n"
     ]
    }
   ],
   "source": [
    "import graphlab\n",
    "from __future__ import division\n",
    "import numpy as np\n",
    "graphlab.canvas.set_target('ipynb')"
   ]
  },
  {
   "cell_type": "markdown",
   "metadata": {},
   "source": [
    "# Load amazon review dataset"
   ]
  },
  {
   "cell_type": "code",
   "execution_count": 2,
   "metadata": {
    "collapsed": false
   },
   "outputs": [],
   "source": [
    "products = graphlab.SFrame('week1_amazon_baby.gl/')"
   ]
  },
  {
   "cell_type": "markdown",
   "metadata": {},
   "source": [
    "# Extract word counts and sentiments"
   ]
  },
  {
   "cell_type": "markdown",
   "metadata": {},
   "source": [
    "As in the first assignment of this course, we compute the word counts for individual words and extract positive and negative sentiments from ratings. To summarize, we perform the following:\n",
    "\n",
    "1. Remove punctuation.\n",
    "2. Remove reviews with \"neutral\" sentiment (rating 3).\n",
    "3. Set reviews with rating 4 or more to be positive and those with 2 or less to be negative."
   ]
  },
  {
   "cell_type": "code",
   "execution_count": 3,
   "metadata": {
    "collapsed": true
   },
   "outputs": [],
   "source": [
    "def remove_punctuation(text):\n",
    "    import string\n",
    "    return text.translate(None, string.punctuation) \n",
    "\n",
    "# Remove punctuation.\n",
    "review_clean = products['review'].apply(remove_punctuation)\n",
    "\n",
    "# Count words\n",
    "products['word_count'] = graphlab.text_analytics.count_words(review_clean)\n",
    "\n",
    "# Drop neutral sentiment reviews.\n",
    "products = products[products['rating'] != 3]\n",
    "\n",
    "# Positive sentiment to +1 and negative sentiment to -1\n",
    "products['sentiment'] = products['rating'].apply(lambda rating : +1 if rating > 3 else -1)"
   ]
  },
  {
   "cell_type": "markdown",
   "metadata": {},
   "source": [
    "Now, let's remember what the dataset looks like by taking a quick peek:"
   ]
  },
  {
   "cell_type": "code",
   "execution_count": 4,
   "metadata": {
    "collapsed": false
   },
   "outputs": [
    {
     "data": {
      "text/html": [
       "<div style=\"max-height:1000px;max-width:1500px;overflow:auto;\"><table frame=\"box\" rules=\"cols\">\n",
       "    <tr>\n",
       "        <th style=\"padding-left: 1em; padding-right: 1em; text-align: center\">name</th>\n",
       "        <th style=\"padding-left: 1em; padding-right: 1em; text-align: center\">review</th>\n",
       "        <th style=\"padding-left: 1em; padding-right: 1em; text-align: center\">rating</th>\n",
       "        <th style=\"padding-left: 1em; padding-right: 1em; text-align: center\">word_count</th>\n",
       "        <th style=\"padding-left: 1em; padding-right: 1em; text-align: center\">sentiment</th>\n",
       "    </tr>\n",
       "    <tr>\n",
       "        <td style=\"padding-left: 1em; padding-right: 1em; text-align: center; vertical-align: top\">Planetwise Wipe Pouch</td>\n",
       "        <td style=\"padding-left: 1em; padding-right: 1em; text-align: center; vertical-align: top\">it came early and was not<br>disappointed. i love ...</td>\n",
       "        <td style=\"padding-left: 1em; padding-right: 1em; text-align: center; vertical-align: top\">5.0</td>\n",
       "        <td style=\"padding-left: 1em; padding-right: 1em; text-align: center; vertical-align: top\">{'and': 3, 'love': 1,<br>'it': 3, 'highly': 1, ...</td>\n",
       "        <td style=\"padding-left: 1em; padding-right: 1em; text-align: center; vertical-align: top\">1</td>\n",
       "    </tr>\n",
       "    <tr>\n",
       "        <td style=\"padding-left: 1em; padding-right: 1em; text-align: center; vertical-align: top\">Annas Dream Full Quilt<br>with 2 Shams ...</td>\n",
       "        <td style=\"padding-left: 1em; padding-right: 1em; text-align: center; vertical-align: top\">Very soft and comfortable<br>and warmer than it ...</td>\n",
       "        <td style=\"padding-left: 1em; padding-right: 1em; text-align: center; vertical-align: top\">5.0</td>\n",
       "        <td style=\"padding-left: 1em; padding-right: 1em; text-align: center; vertical-align: top\">{'and': 2, 'quilt': 1,<br>'it': 1, 'comfortable': ...</td>\n",
       "        <td style=\"padding-left: 1em; padding-right: 1em; text-align: center; vertical-align: top\">1</td>\n",
       "    </tr>\n",
       "    <tr>\n",
       "        <td style=\"padding-left: 1em; padding-right: 1em; text-align: center; vertical-align: top\">Stop Pacifier Sucking<br>without tears with ...</td>\n",
       "        <td style=\"padding-left: 1em; padding-right: 1em; text-align: center; vertical-align: top\">This is a product well<br>worth the purchase.  I ...</td>\n",
       "        <td style=\"padding-left: 1em; padding-right: 1em; text-align: center; vertical-align: top\">5.0</td>\n",
       "        <td style=\"padding-left: 1em; padding-right: 1em; text-align: center; vertical-align: top\">{'and': 3, 'ingenious':<br>1, 'love': 2, 'is': 4, ...</td>\n",
       "        <td style=\"padding-left: 1em; padding-right: 1em; text-align: center; vertical-align: top\">1</td>\n",
       "    </tr>\n",
       "    <tr>\n",
       "        <td style=\"padding-left: 1em; padding-right: 1em; text-align: center; vertical-align: top\">Stop Pacifier Sucking<br>without tears with ...</td>\n",
       "        <td style=\"padding-left: 1em; padding-right: 1em; text-align: center; vertical-align: top\">All of my kids have cried<br>non-stop when I tried to ...</td>\n",
       "        <td style=\"padding-left: 1em; padding-right: 1em; text-align: center; vertical-align: top\">5.0</td>\n",
       "        <td style=\"padding-left: 1em; padding-right: 1em; text-align: center; vertical-align: top\">{'and': 2, 'all': 2,<br>'help': 1, 'cried': 1, ...</td>\n",
       "        <td style=\"padding-left: 1em; padding-right: 1em; text-align: center; vertical-align: top\">1</td>\n",
       "    </tr>\n",
       "    <tr>\n",
       "        <td style=\"padding-left: 1em; padding-right: 1em; text-align: center; vertical-align: top\">Stop Pacifier Sucking<br>without tears with ...</td>\n",
       "        <td style=\"padding-left: 1em; padding-right: 1em; text-align: center; vertical-align: top\">When the Binky Fairy came<br>to our house, we didn't ...</td>\n",
       "        <td style=\"padding-left: 1em; padding-right: 1em; text-align: center; vertical-align: top\">5.0</td>\n",
       "        <td style=\"padding-left: 1em; padding-right: 1em; text-align: center; vertical-align: top\">{'and': 2, 'cute': 1,<br>'help': 2, 'habit': 1, ...</td>\n",
       "        <td style=\"padding-left: 1em; padding-right: 1em; text-align: center; vertical-align: top\">1</td>\n",
       "    </tr>\n",
       "    <tr>\n",
       "        <td style=\"padding-left: 1em; padding-right: 1em; text-align: center; vertical-align: top\">A Tale of Baby's Days<br>with Peter Rabbit ...</td>\n",
       "        <td style=\"padding-left: 1em; padding-right: 1em; text-align: center; vertical-align: top\">Lovely book, it's bound<br>tightly so you may no ...</td>\n",
       "        <td style=\"padding-left: 1em; padding-right: 1em; text-align: center; vertical-align: top\">4.0</td>\n",
       "        <td style=\"padding-left: 1em; padding-right: 1em; text-align: center; vertical-align: top\">{'shop': 1, 'be': 1,<br>'is': 1, 'bound': 1, ...</td>\n",
       "        <td style=\"padding-left: 1em; padding-right: 1em; text-align: center; vertical-align: top\">1</td>\n",
       "    </tr>\n",
       "    <tr>\n",
       "        <td style=\"padding-left: 1em; padding-right: 1em; text-align: center; vertical-align: top\">Baby Tracker&amp;reg; - Daily<br>Childcare Journal, ...</td>\n",
       "        <td style=\"padding-left: 1em; padding-right: 1em; text-align: center; vertical-align: top\">Perfect for new parents.<br>We were able to keep ...</td>\n",
       "        <td style=\"padding-left: 1em; padding-right: 1em; text-align: center; vertical-align: top\">5.0</td>\n",
       "        <td style=\"padding-left: 1em; padding-right: 1em; text-align: center; vertical-align: top\">{'and': 2, 'all': 1,<br>'right': 1, 'able': 1, ...</td>\n",
       "        <td style=\"padding-left: 1em; padding-right: 1em; text-align: center; vertical-align: top\">1</td>\n",
       "    </tr>\n",
       "    <tr>\n",
       "        <td style=\"padding-left: 1em; padding-right: 1em; text-align: center; vertical-align: top\">Baby Tracker&amp;reg; - Daily<br>Childcare Journal, ...</td>\n",
       "        <td style=\"padding-left: 1em; padding-right: 1em; text-align: center; vertical-align: top\">A friend of mine pinned<br>this product on Pinte ...</td>\n",
       "        <td style=\"padding-left: 1em; padding-right: 1em; text-align: center; vertical-align: top\">5.0</td>\n",
       "        <td style=\"padding-left: 1em; padding-right: 1em; text-align: center; vertical-align: top\">{'and': 1, 'fantastic':<br>1, 'help': 1, 'give': 1, ...</td>\n",
       "        <td style=\"padding-left: 1em; padding-right: 1em; text-align: center; vertical-align: top\">1</td>\n",
       "    </tr>\n",
       "    <tr>\n",
       "        <td style=\"padding-left: 1em; padding-right: 1em; text-align: center; vertical-align: top\">Baby Tracker&amp;reg; - Daily<br>Childcare Journal, ...</td>\n",
       "        <td style=\"padding-left: 1em; padding-right: 1em; text-align: center; vertical-align: top\">This has been an easy way<br>for my nanny to record ...</td>\n",
       "        <td style=\"padding-left: 1em; padding-right: 1em; text-align: center; vertical-align: top\">4.0</td>\n",
       "        <td style=\"padding-left: 1em; padding-right: 1em; text-align: center; vertical-align: top\">{'all': 1, 'standarad':<br>1, 'another': 1, ...</td>\n",
       "        <td style=\"padding-left: 1em; padding-right: 1em; text-align: center; vertical-align: top\">1</td>\n",
       "    </tr>\n",
       "    <tr>\n",
       "        <td style=\"padding-left: 1em; padding-right: 1em; text-align: center; vertical-align: top\">Baby Tracker&amp;reg; - Daily<br>Childcare Journal, ...</td>\n",
       "        <td style=\"padding-left: 1em; padding-right: 1em; text-align: center; vertical-align: top\">I love this journal and<br>our nanny uses it ...</td>\n",
       "        <td style=\"padding-left: 1em; padding-right: 1em; text-align: center; vertical-align: top\">4.0</td>\n",
       "        <td style=\"padding-left: 1em; padding-right: 1em; text-align: center; vertical-align: top\">{'all': 2, 'nannys': 1,<br>'just': 1, 'sleep': 2, ...</td>\n",
       "        <td style=\"padding-left: 1em; padding-right: 1em; text-align: center; vertical-align: top\">1</td>\n",
       "    </tr>\n",
       "</table>\n",
       "[166752 rows x 5 columns]<br/>Note: Only the head of the SFrame is printed.<br/>You can use print_rows(num_rows=m, num_columns=n) to print more rows and columns.\n",
       "</div>"
      ],
      "text/plain": [
       "Columns:\n",
       "\tname\tstr\n",
       "\treview\tstr\n",
       "\trating\tfloat\n",
       "\tword_count\tdict\n",
       "\tsentiment\tint\n",
       "\n",
       "Rows: 166752\n",
       "\n",
       "Data:\n",
       "+-------------------------------+-------------------------------+--------+\n",
       "|              name             |             review            | rating |\n",
       "+-------------------------------+-------------------------------+--------+\n",
       "|     Planetwise Wipe Pouch     | it came early and was not ... |  5.0   |\n",
       "| Annas Dream Full Quilt wit... | Very soft and comfortable ... |  5.0   |\n",
       "| Stop Pacifier Sucking with... | This is a product well wor... |  5.0   |\n",
       "| Stop Pacifier Sucking with... | All of my kids have cried ... |  5.0   |\n",
       "| Stop Pacifier Sucking with... | When the Binky Fairy came ... |  5.0   |\n",
       "| A Tale of Baby's Days with... | Lovely book, it's bound ti... |  4.0   |\n",
       "| Baby Tracker&reg; - Daily ... | Perfect for new parents. W... |  5.0   |\n",
       "| Baby Tracker&reg; - Daily ... | A friend of mine pinned th... |  5.0   |\n",
       "| Baby Tracker&reg; - Daily ... | This has been an easy way ... |  4.0   |\n",
       "| Baby Tracker&reg; - Daily ... | I love this journal and ou... |  4.0   |\n",
       "+-------------------------------+-------------------------------+--------+\n",
       "+-------------------------------+-----------+\n",
       "|           word_count          | sentiment |\n",
       "+-------------------------------+-----------+\n",
       "| {'and': 3, 'love': 1, 'it'... |     1     |\n",
       "| {'and': 2, 'quilt': 1, 'it... |     1     |\n",
       "| {'and': 3, 'ingenious': 1,... |     1     |\n",
       "| {'and': 2, 'all': 2, 'help... |     1     |\n",
       "| {'and': 2, 'cute': 1, 'hel... |     1     |\n",
       "| {'shop': 1, 'be': 1, 'is':... |     1     |\n",
       "| {'and': 2, 'all': 1, 'righ... |     1     |\n",
       "| {'and': 1, 'fantastic': 1,... |     1     |\n",
       "| {'all': 1, 'standarad': 1,... |     1     |\n",
       "| {'all': 2, 'nannys': 1, 'j... |     1     |\n",
       "+-------------------------------+-----------+\n",
       "[166752 rows x 5 columns]\n",
       "Note: Only the head of the SFrame is printed.\n",
       "You can use print_rows(num_rows=m, num_columns=n) to print more rows and columns."
      ]
     },
     "execution_count": 4,
     "metadata": {},
     "output_type": "execute_result"
    }
   ],
   "source": [
    "products"
   ]
  },
  {
   "cell_type": "markdown",
   "metadata": {},
   "source": [
    "## Split data into training and test sets\n",
    "\n",
    "We split the data into a 80-20 split where 80% is in the training set and 20% is in the test set."
   ]
  },
  {
   "cell_type": "code",
   "execution_count": 5,
   "metadata": {
    "collapsed": true
   },
   "outputs": [],
   "source": [
    "train_data, test_data = products.random_split(.8, seed=1)"
   ]
  },
  {
   "cell_type": "markdown",
   "metadata": {},
   "source": [
    "## Train a logistic regression classifier\n",
    "\n",
    "We will now train a logistic regression classifier with **sentiment** as the target and **word_count** as the features. We will set `validation_set=None` to make sure everyone gets exactly the same results.  \n",
    "\n",
    "Remember, even though we now know how to implement logistic regression, we will use GraphLab Create for its efficiency at processing this Amazon dataset in its entirety.  The focus of this assignment is instead on the topic of precision and recall."
   ]
  },
  {
   "cell_type": "code",
   "execution_count": 6,
   "metadata": {
    "collapsed": false,
    "scrolled": true
   },
   "outputs": [
    {
     "data": {
      "text/html": [
       "<pre>Logistic regression:</pre>"
      ],
      "text/plain": [
       "Logistic regression:"
      ]
     },
     "metadata": {},
     "output_type": "display_data"
    },
    {
     "data": {
      "text/html": [
       "<pre>--------------------------------------------------------</pre>"
      ],
      "text/plain": [
       "--------------------------------------------------------"
      ]
     },
     "metadata": {},
     "output_type": "display_data"
    },
    {
     "data": {
      "text/html": [
       "<pre>Number of examples          : 133416</pre>"
      ],
      "text/plain": [
       "Number of examples          : 133416"
      ]
     },
     "metadata": {},
     "output_type": "display_data"
    },
    {
     "data": {
      "text/html": [
       "<pre>Number of classes           : 2</pre>"
      ],
      "text/plain": [
       "Number of classes           : 2"
      ]
     },
     "metadata": {},
     "output_type": "display_data"
    },
    {
     "data": {
      "text/html": [
       "<pre>Number of feature columns   : 1</pre>"
      ],
      "text/plain": [
       "Number of feature columns   : 1"
      ]
     },
     "metadata": {},
     "output_type": "display_data"
    },
    {
     "data": {
      "text/html": [
       "<pre>Number of unpacked features : 121712</pre>"
      ],
      "text/plain": [
       "Number of unpacked features : 121712"
      ]
     },
     "metadata": {},
     "output_type": "display_data"
    },
    {
     "data": {
      "text/html": [
       "<pre>Number of coefficients    : 121713</pre>"
      ],
      "text/plain": [
       "Number of coefficients    : 121713"
      ]
     },
     "metadata": {},
     "output_type": "display_data"
    },
    {
     "data": {
      "text/html": [
       "<pre>Starting L-BFGS</pre>"
      ],
      "text/plain": [
       "Starting L-BFGS"
      ]
     },
     "metadata": {},
     "output_type": "display_data"
    },
    {
     "data": {
      "text/html": [
       "<pre>--------------------------------------------------------</pre>"
      ],
      "text/plain": [
       "--------------------------------------------------------"
      ]
     },
     "metadata": {},
     "output_type": "display_data"
    },
    {
     "data": {
      "text/html": [
       "<pre>+-----------+----------+-----------+--------------+-------------------+</pre>"
      ],
      "text/plain": [
       "+-----------+----------+-----------+--------------+-------------------+"
      ]
     },
     "metadata": {},
     "output_type": "display_data"
    },
    {
     "data": {
      "text/html": [
       "<pre>| Iteration | Passes   | Step size | Elapsed Time | Training-accuracy |</pre>"
      ],
      "text/plain": [
       "| Iteration | Passes   | Step size | Elapsed Time | Training-accuracy |"
      ]
     },
     "metadata": {},
     "output_type": "display_data"
    },
    {
     "data": {
      "text/html": [
       "<pre>+-----------+----------+-----------+--------------+-------------------+</pre>"
      ],
      "text/plain": [
       "+-----------+----------+-----------+--------------+-------------------+"
      ]
     },
     "metadata": {},
     "output_type": "display_data"
    },
    {
     "data": {
      "text/html": [
       "<pre>| 1         | 5        | 0.000002  | 2.622525     | 0.840754          |</pre>"
      ],
      "text/plain": [
       "| 1         | 5        | 0.000002  | 2.622525     | 0.840754          |"
      ]
     },
     "metadata": {},
     "output_type": "display_data"
    },
    {
     "data": {
      "text/html": [
       "<pre>| 2         | 9        | 3.000000  | 4.020311     | 0.931350          |</pre>"
      ],
      "text/plain": [
       "| 2         | 9        | 3.000000  | 4.020311     | 0.931350          |"
      ]
     },
     "metadata": {},
     "output_type": "display_data"
    },
    {
     "data": {
      "text/html": [
       "<pre>| 3         | 10       | 3.000000  | 4.564104     | 0.882046          |</pre>"
      ],
      "text/plain": [
       "| 3         | 10       | 3.000000  | 4.564104     | 0.882046          |"
      ]
     },
     "metadata": {},
     "output_type": "display_data"
    },
    {
     "data": {
      "text/html": [
       "<pre>| 4         | 11       | 3.000000  | 5.019714     | 0.954076          |</pre>"
      ],
      "text/plain": [
       "| 4         | 11       | 3.000000  | 5.019714     | 0.954076          |"
      ]
     },
     "metadata": {},
     "output_type": "display_data"
    },
    {
     "data": {
      "text/html": [
       "<pre>| 5         | 12       | 3.000000  | 5.491725     | 0.960964          |</pre>"
      ],
      "text/plain": [
       "| 5         | 12       | 3.000000  | 5.491725     | 0.960964          |"
      ]
     },
     "metadata": {},
     "output_type": "display_data"
    },
    {
     "data": {
      "text/html": [
       "<pre>| 6         | 13       | 3.000000  | 6.024100     | 0.975033          |</pre>"
      ],
      "text/plain": [
       "| 6         | 13       | 3.000000  | 6.024100     | 0.975033          |"
      ]
     },
     "metadata": {},
     "output_type": "display_data"
    },
    {
     "data": {
      "text/html": [
       "<pre>+-----------+----------+-----------+--------------+-------------------+</pre>"
      ],
      "text/plain": [
       "+-----------+----------+-----------+--------------+-------------------+"
      ]
     },
     "metadata": {},
     "output_type": "display_data"
    },
    {
     "data": {
      "text/html": [
       "<pre>TERMINATED: Terminated due to numerical difficulties.</pre>"
      ],
      "text/plain": [
       "TERMINATED: Terminated due to numerical difficulties."
      ]
     },
     "metadata": {},
     "output_type": "display_data"
    },
    {
     "data": {
      "text/html": [
       "<pre>This model may not be ideal. To improve it, consider doing one of the following:\n",
       "(a) Increasing the regularization.\n",
       "(b) Standardizing the input data.\n",
       "(c) Removing highly correlated features.\n",
       "(d) Removing `inf` and `NaN` values in the training data.</pre>"
      ],
      "text/plain": [
       "This model may not be ideal. To improve it, consider doing one of the following:\n",
       "(a) Increasing the regularization.\n",
       "(b) Standardizing the input data.\n",
       "(c) Removing highly correlated features.\n",
       "(d) Removing `inf` and `NaN` values in the training data."
      ]
     },
     "metadata": {},
     "output_type": "display_data"
    }
   ],
   "source": [
    "model = graphlab.logistic_classifier.create(train_data, target='sentiment',\n",
    "                                            features=['word_count'],\n",
    "                                            validation_set=None)"
   ]
  },
  {
   "cell_type": "markdown",
   "metadata": {},
   "source": [
    "# Model Evaluation"
   ]
  },
  {
   "cell_type": "markdown",
   "metadata": {},
   "source": [
    "We will explore the advanced model evaluation concepts that were discussed in the lectures.\n",
    "\n",
    "## Accuracy\n",
    "\n",
    "One performance metric we will use for our more advanced exploration is accuracy, which we have seen many times in past assignments.  Recall that the accuracy is given by\n",
    "\n",
    "$$\n",
    "\\mbox{accuracy} = \\frac{\\mbox{# correctly classified data points}}{\\mbox{# total data points}}\n",
    "$$\n",
    "\n",
    "To obtain the accuracy of our trained models using GraphLab Create, simply pass the option `metric='accuracy'` to the `evaluate` function. We compute the **accuracy** of our logistic regression model on the **test_data** as follows:"
   ]
  },
  {
   "cell_type": "code",
   "execution_count": 7,
   "metadata": {
    "collapsed": false
   },
   "outputs": [
    {
     "name": "stdout",
     "output_type": "stream",
     "text": [
      "Test Accuracy: 0.914536837053\n"
     ]
    }
   ],
   "source": [
    "accuracy= model.evaluate(test_data, metric='accuracy')['accuracy']\n",
    "print \"Test Accuracy: %s\" % accuracy"
   ]
  },
  {
   "cell_type": "markdown",
   "metadata": {},
   "source": [
    "## Baseline: Majority class prediction\n",
    "\n",
    "Recall from an earlier assignment that we used the **majority class classifier** as a baseline (i.e reference) model for a point of comparison with a more sophisticated classifier. The majority classifier model predicts the majority class for all data points. \n",
    "\n",
    "Typically, a good model should beat the majority class classifier. Since the majority class in this dataset is the positive class (i.e., there are more positive than negative reviews), the accuracy of the majority class classifier can be computed as follows:"
   ]
  },
  {
   "cell_type": "code",
   "execution_count": 8,
   "metadata": {
    "collapsed": false
   },
   "outputs": [
    {
     "name": "stdout",
     "output_type": "stream",
     "text": [
      "Baseline accuracy (majority class classifier): 0.842782577394\n"
     ]
    }
   ],
   "source": [
    "baseline = len(test_data[test_data['sentiment'] == 1])/len(test_data)\n",
    "print \"Baseline accuracy (majority class classifier): %s\" % baseline"
   ]
  },
  {
   "cell_type": "markdown",
   "metadata": {},
   "source": [
    "** Quiz Question:** Using accuracy as the evaluation metric, was our **logistic regression model** better than the baseline (majority class classifier)?"
   ]
  },
  {
   "cell_type": "markdown",
   "metadata": {},
   "source": [
    "## Confusion Matrix\n",
    "\n",
    "The accuracy, while convenient, does not tell the whole story. For a fuller picture, we turn to the **confusion matrix**. In the case of binary classification, the confusion matrix is a 2-by-2 matrix laying out correct and incorrect predictions made in each label as follows:\n",
    "```\n",
    "              +---------------------------------------------+\n",
    "              |                Predicted label              |\n",
    "              +----------------------+----------------------+\n",
    "              |          (+1)        |         (-1)         |\n",
    "+-------+-----+----------------------+----------------------+\n",
    "| True  |(+1) | # of true positives  | # of false negatives |\n",
    "| label +-----+----------------------+----------------------+\n",
    "|       |(-1) | # of false positives | # of true negatives  |\n",
    "+-------+-----+----------------------+----------------------+\n",
    "```\n",
    "To print out the confusion matrix for a classifier, use `metric='confusion_matrix'`:"
   ]
  },
  {
   "cell_type": "code",
   "execution_count": 9,
   "metadata": {
    "collapsed": false
   },
   "outputs": [
    {
     "data": {
      "text/html": [
       "<div style=\"max-height:1000px;max-width:1500px;overflow:auto;\"><table frame=\"box\" rules=\"cols\">\n",
       "    <tr>\n",
       "        <th style=\"padding-left: 1em; padding-right: 1em; text-align: center\">target_label</th>\n",
       "        <th style=\"padding-left: 1em; padding-right: 1em; text-align: center\">predicted_label</th>\n",
       "        <th style=\"padding-left: 1em; padding-right: 1em; text-align: center\">count</th>\n",
       "    </tr>\n",
       "    <tr>\n",
       "        <td style=\"padding-left: 1em; padding-right: 1em; text-align: center; vertical-align: top\">-1</td>\n",
       "        <td style=\"padding-left: 1em; padding-right: 1em; text-align: center; vertical-align: top\">-1</td>\n",
       "        <td style=\"padding-left: 1em; padding-right: 1em; text-align: center; vertical-align: top\">3798</td>\n",
       "    </tr>\n",
       "    <tr>\n",
       "        <td style=\"padding-left: 1em; padding-right: 1em; text-align: center; vertical-align: top\">-1</td>\n",
       "        <td style=\"padding-left: 1em; padding-right: 1em; text-align: center; vertical-align: top\">1</td>\n",
       "        <td style=\"padding-left: 1em; padding-right: 1em; text-align: center; vertical-align: top\">1443</td>\n",
       "    </tr>\n",
       "    <tr>\n",
       "        <td style=\"padding-left: 1em; padding-right: 1em; text-align: center; vertical-align: top\">1</td>\n",
       "        <td style=\"padding-left: 1em; padding-right: 1em; text-align: center; vertical-align: top\">-1</td>\n",
       "        <td style=\"padding-left: 1em; padding-right: 1em; text-align: center; vertical-align: top\">1406</td>\n",
       "    </tr>\n",
       "    <tr>\n",
       "        <td style=\"padding-left: 1em; padding-right: 1em; text-align: center; vertical-align: top\">1</td>\n",
       "        <td style=\"padding-left: 1em; padding-right: 1em; text-align: center; vertical-align: top\">1</td>\n",
       "        <td style=\"padding-left: 1em; padding-right: 1em; text-align: center; vertical-align: top\">26689</td>\n",
       "    </tr>\n",
       "</table>\n",
       "[4 rows x 3 columns]<br/>\n",
       "</div>"
      ],
      "text/plain": [
       "Columns:\n",
       "\ttarget_label\tint\n",
       "\tpredicted_label\tint\n",
       "\tcount\tint\n",
       "\n",
       "Rows: 4\n",
       "\n",
       "Data:\n",
       "+--------------+-----------------+-------+\n",
       "| target_label | predicted_label | count |\n",
       "+--------------+-----------------+-------+\n",
       "|      -1      |        -1       |  3798 |\n",
       "|      -1      |        1        |  1443 |\n",
       "|      1       |        -1       |  1406 |\n",
       "|      1       |        1        | 26689 |\n",
       "+--------------+-----------------+-------+\n",
       "[4 rows x 3 columns]"
      ]
     },
     "execution_count": 9,
     "metadata": {},
     "output_type": "execute_result"
    }
   ],
   "source": [
    "confusion_matrix = model.evaluate(test_data, metric='confusion_matrix')['confusion_matrix']\n",
    "confusion_matrix"
   ]
  },
  {
   "cell_type": "markdown",
   "metadata": {},
   "source": [
    "**Quiz Question**: How many predicted values in the **test set** are **false positives**?"
   ]
  },
  {
   "cell_type": "code",
   "execution_count": 10,
   "metadata": {
    "collapsed": false
   },
   "outputs": [],
   "source": [
    "false_positive = confusion_matrix[1]['count']\n",
    "false_negative = confusion_matrix[2]['count']"
   ]
  },
  {
   "cell_type": "markdown",
   "metadata": {},
   "source": [
    "## Computing the cost of mistakes\n",
    "\n",
    "\n",
    "Put yourself in the shoes of a manufacturer that sells a baby product on Amazon.com and you want to monitor your product's reviews in order to respond to complaints.  Even a few negative reviews may generate a lot of bad publicity about the product. So you don't want to miss any reviews with negative sentiments --- you'd rather put up with false alarms about potentially negative reviews instead of missing negative reviews entirely. In other words, **false positives cost more than false negatives**. (It may be the other way around for other scenarios, but let's stick with the manufacturer's scenario for now.)\n",
    "\n",
    "Suppose you know the costs involved in each kind of mistake: \n",
    "1. \\$100 for each false positive.\n",
    "2. \\$1 for each false negative.\n",
    "3. Correctly classified reviews incur no cost.\n",
    "\n",
    "**Quiz Question**: Given the stipulation, what is the cost associated with the logistic regression classifier's performance on the **test set**?"
   ]
  },
  {
   "cell_type": "code",
   "execution_count": 11,
   "metadata": {
    "collapsed": false
   },
   "outputs": [
    {
     "data": {
      "text/plain": [
       "145706"
      ]
     },
     "execution_count": 11,
     "metadata": {},
     "output_type": "execute_result"
    }
   ],
   "source": [
    "cost = false_positive * 100 + false_negative * 1\n",
    "cost"
   ]
  },
  {
   "cell_type": "markdown",
   "metadata": {},
   "source": [
    "## Precision and Recall"
   ]
  },
  {
   "cell_type": "markdown",
   "metadata": {},
   "source": [
    "You may not have exact dollar amounts for each kind of mistake. Instead, you may simply prefer to reduce the percentage of false positives to be less than, say, 3.5% of all positive predictions. This is where **precision** comes in:\n",
    "\n",
    "$$\n",
    "[\\text{precision}] = \\frac{[\\text{# positive data points with positive predicitions}]}{\\text{[# all data points with positive predictions]}} = \\frac{[\\text{# true positives}]}{[\\text{# true positives}] + [\\text{# false positives}]}\n",
    "$$"
   ]
  },
  {
   "cell_type": "markdown",
   "metadata": {},
   "source": [
    "So to keep the percentage of false positives below 3.5% of positive predictions, we must raise the precision to 96.5% or higher. \n",
    "\n",
    "**First**, let us compute the precision of the logistic regression classifier on the **test_data**."
   ]
  },
  {
   "cell_type": "code",
   "execution_count": 12,
   "metadata": {
    "collapsed": false
   },
   "outputs": [
    {
     "name": "stdout",
     "output_type": "stream",
     "text": [
      "Precision on test data: 0.948706099815\n"
     ]
    }
   ],
   "source": [
    "precision = model.evaluate(test_data, metric='precision')['precision']\n",
    "print \"Precision on test data: %s\" % precision"
   ]
  },
  {
   "cell_type": "markdown",
   "metadata": {},
   "source": [
    "**Quiz Question**: Out of all reviews in the **test set** that are predicted to be positive, what fraction of them are **false positives**? (Round to the second decimal place e.g. 0.25)"
   ]
  },
  {
   "cell_type": "code",
   "execution_count": 13,
   "metadata": {
    "collapsed": false
   },
   "outputs": [
    {
     "data": {
      "text/plain": [
       "0.05129390018484288"
      ]
     },
     "execution_count": 13,
     "metadata": {},
     "output_type": "execute_result"
    }
   ],
   "source": [
    "true_positive = confusion_matrix[3]['count']\n",
    "float(false_positive)/(false_positive + true_positive)"
   ]
  },
  {
   "cell_type": "markdown",
   "metadata": {},
   "source": [
    "**Quiz Question:** Based on what we learned in lecture, if we wanted to reduce this fraction of false positives to be below 3.5%, we would: (see the quiz)"
   ]
  },
  {
   "cell_type": "markdown",
   "metadata": {},
   "source": [
    "A complementary metric is **recall**, which measures the ratio between the number of true positives and that of (ground-truth) positive reviews:\n",
    "\n",
    "$$\n",
    "[\\text{recall}] = \\frac{[\\text{# positive data points with positive predicitions}]}{\\text{[# all positive data points]}} = \\frac{[\\text{# true positives}]}{[\\text{# true positives}] + [\\text{# false negatives}]}\n",
    "$$\n",
    "\n",
    "Let us compute the recall on the **test_data**."
   ]
  },
  {
   "cell_type": "code",
   "execution_count": 14,
   "metadata": {
    "collapsed": false
   },
   "outputs": [
    {
     "name": "stdout",
     "output_type": "stream",
     "text": [
      "Recall on test data: 0.949955508098\n"
     ]
    }
   ],
   "source": [
    "recall = model.evaluate(test_data, metric='recall')['recall']\n",
    "print \"Recall on test data: %s\" % recall"
   ]
  },
  {
   "cell_type": "markdown",
   "metadata": {},
   "source": [
    "**Quiz Question**: What fraction of the positive reviews in the **test_set** were correctly predicted as positive by the classifier?\n",
    "\n",
    "**Quiz Question**: What is the recall value for a classifier that predicts **+1** for all data points in the **test_data**?"
   ]
  },
  {
   "cell_type": "markdown",
   "metadata": {
    "collapsed": true
   },
   "source": [
    "# Precision-recall tradeoff\n",
    "\n",
    "In this part, we will explore the trade-off between precision and recall discussed in the lecture.  We first examine what happens when we use a different threshold value for making class predictions.  We then explore a range of threshold values and plot the associated precision-recall curve.  \n"
   ]
  },
  {
   "cell_type": "markdown",
   "metadata": {},
   "source": [
    "## Varying the threshold\n",
    "\n",
    "False positives are costly in our example, so we may want to be more conservative about making positive predictions. To achieve this, instead of thresholding class probabilities at 0.5, we can choose a higher threshold. \n",
    "\n",
    "Write a function called `apply_threshold` that accepts two things\n",
    "* `probabilities` (an SArray of probability values)\n",
    "* `threshold` (a float between 0 and 1).\n",
    "\n",
    "The function should return an array, where each element is set to +1 or -1 depending whether the corresponding probability exceeds `threshold`."
   ]
  },
  {
   "cell_type": "code",
   "execution_count": 28,
   "metadata": {
    "collapsed": false
   },
   "outputs": [],
   "source": [
    "def apply_threshold(probabilities, threshold):\n",
    "    ### YOUR CODE GOES HERE\n",
    "    # +1 if >= threshold and -1 otherwise.\n",
    "    return probabilities.apply(lambda item: 1 if item >= threshold else -1)"
   ]
  },
  {
   "cell_type": "markdown",
   "metadata": {},
   "source": [
    "Run prediction with `output_type='probability'` to get the list of probability values. Then use thresholds set at 0.5 (default) and 0.9 to make predictions from these probability values."
   ]
  },
  {
   "cell_type": "code",
   "execution_count": 29,
   "metadata": {
    "collapsed": false
   },
   "outputs": [],
   "source": [
    "probabilities = model.predict(test_data, output_type='probability')\n",
    "predictions_with_default_threshold = apply_threshold(probabilities, 0.5)\n",
    "predictions_with_high_threshold = apply_threshold(probabilities, 0.9)"
   ]
  },
  {
   "cell_type": "code",
   "execution_count": 30,
   "metadata": {
    "collapsed": false
   },
   "outputs": [
    {
     "name": "stdout",
     "output_type": "stream",
     "text": [
      "Number of positive predicted reviews (threshold = 0.5): 28132\n"
     ]
    }
   ],
   "source": [
    "print \"Number of positive predicted reviews (threshold = 0.5): %s\" % (predictions_with_default_threshold == 1).sum()"
   ]
  },
  {
   "cell_type": "code",
   "execution_count": 31,
   "metadata": {
    "collapsed": false
   },
   "outputs": [
    {
     "name": "stdout",
     "output_type": "stream",
     "text": [
      "Number of positive predicted reviews (threshold = 0.9): 25630\n"
     ]
    }
   ],
   "source": [
    "print \"Number of positive predicted reviews (threshold = 0.9): %s\" % (predictions_with_high_threshold == 1).sum()"
   ]
  },
  {
   "cell_type": "markdown",
   "metadata": {},
   "source": [
    "**Quiz Question**: What happens to the number of positive predicted reviews as the threshold increased from 0.5 to 0.9?"
   ]
  },
  {
   "cell_type": "markdown",
   "metadata": {},
   "source": [
    "## Exploring the associated precision and recall as the threshold varies"
   ]
  },
  {
   "cell_type": "markdown",
   "metadata": {},
   "source": [
    "By changing the probability threshold, it is possible to influence precision and recall. We can explore this as follows:"
   ]
  },
  {
   "cell_type": "code",
   "execution_count": 32,
   "metadata": {
    "collapsed": true
   },
   "outputs": [],
   "source": [
    "# Threshold = 0.5\n",
    "precision_with_default_threshold = graphlab.evaluation.precision(test_data['sentiment'],\n",
    "                                        predictions_with_default_threshold)\n",
    "\n",
    "recall_with_default_threshold = graphlab.evaluation.recall(test_data['sentiment'],\n",
    "                                        predictions_with_default_threshold)\n",
    "\n",
    "# Threshold = 0.9\n",
    "precision_with_high_threshold = graphlab.evaluation.precision(test_data['sentiment'],\n",
    "                                        predictions_with_high_threshold)\n",
    "recall_with_high_threshold = graphlab.evaluation.recall(test_data['sentiment'],\n",
    "                                        predictions_with_high_threshold)"
   ]
  },
  {
   "cell_type": "code",
   "execution_count": 33,
   "metadata": {
    "collapsed": false
   },
   "outputs": [
    {
     "name": "stdout",
     "output_type": "stream",
     "text": [
      "Precision (threshold = 0.5): 0.948706099815\n",
      "Recall (threshold = 0.5)   : 0.949955508098\n"
     ]
    }
   ],
   "source": [
    "print \"Precision (threshold = 0.5): %s\" % precision_with_default_threshold\n",
    "print \"Recall (threshold = 0.5)   : %s\" % recall_with_default_threshold"
   ]
  },
  {
   "cell_type": "code",
   "execution_count": 34,
   "metadata": {
    "collapsed": false
   },
   "outputs": [
    {
     "name": "stdout",
     "output_type": "stream",
     "text": [
      "Precision (threshold = 0.9): 0.969527896996\n",
      "Recall (threshold = 0.9)   : 0.884463427656\n"
     ]
    }
   ],
   "source": [
    "print \"Precision (threshold = 0.9): %s\" % precision_with_high_threshold\n",
    "print \"Recall (threshold = 0.9)   : %s\" % recall_with_high_threshold"
   ]
  },
  {
   "cell_type": "markdown",
   "metadata": {},
   "source": [
    "**Quiz Question (variant 1)**: Does the **precision** increase with a higher threshold?\n",
    "\n",
    "**Quiz Question (variant 2)**: Does the **recall** increase with a higher threshold?"
   ]
  },
  {
   "cell_type": "markdown",
   "metadata": {},
   "source": [
    "## Precision-recall curve\n",
    "\n",
    "Now, we will explore various different values of tresholds, compute the precision and recall scores, and then plot the precision-recall curve."
   ]
  },
  {
   "cell_type": "code",
   "execution_count": 35,
   "metadata": {
    "collapsed": false
   },
   "outputs": [
    {
     "name": "stdout",
     "output_type": "stream",
     "text": [
      "[ 0.5         0.50505051  0.51010101  0.51515152  0.52020202  0.52525253\n",
      "  0.53030303  0.53535354  0.54040404  0.54545455  0.55050505  0.55555556\n",
      "  0.56060606  0.56565657  0.57070707  0.57575758  0.58080808  0.58585859\n",
      "  0.59090909  0.5959596   0.6010101   0.60606061  0.61111111  0.61616162\n",
      "  0.62121212  0.62626263  0.63131313  0.63636364  0.64141414  0.64646465\n",
      "  0.65151515  0.65656566  0.66161616  0.66666667  0.67171717  0.67676768\n",
      "  0.68181818  0.68686869  0.69191919  0.6969697   0.7020202   0.70707071\n",
      "  0.71212121  0.71717172  0.72222222  0.72727273  0.73232323  0.73737374\n",
      "  0.74242424  0.74747475  0.75252525  0.75757576  0.76262626  0.76767677\n",
      "  0.77272727  0.77777778  0.78282828  0.78787879  0.79292929  0.7979798\n",
      "  0.8030303   0.80808081  0.81313131  0.81818182  0.82323232  0.82828283\n",
      "  0.83333333  0.83838384  0.84343434  0.84848485  0.85353535  0.85858586\n",
      "  0.86363636  0.86868687  0.87373737  0.87878788  0.88383838  0.88888889\n",
      "  0.89393939  0.8989899   0.9040404   0.90909091  0.91414141  0.91919192\n",
      "  0.92424242  0.92929293  0.93434343  0.93939394  0.94444444  0.94949495\n",
      "  0.95454545  0.95959596  0.96464646  0.96969697  0.97474747  0.97979798\n",
      "  0.98484848  0.98989899  0.99494949  1.        ]\n"
     ]
    }
   ],
   "source": [
    "threshold_values = np.linspace(0.5, 1, num=100)\n",
    "print threshold_values"
   ]
  },
  {
   "cell_type": "markdown",
   "metadata": {},
   "source": [
    "For each of the values of threshold, we compute the precision and recall scores."
   ]
  },
  {
   "cell_type": "code",
   "execution_count": 36,
   "metadata": {
    "collapsed": false
   },
   "outputs": [],
   "source": [
    "precision_all = []\n",
    "recall_all = []\n",
    "\n",
    "probabilities = model.predict(test_data, output_type='probability')\n",
    "for threshold in threshold_values:\n",
    "    predictions = apply_threshold(probabilities, threshold)\n",
    "    \n",
    "    precision = graphlab.evaluation.precision(test_data['sentiment'], predictions)\n",
    "    recall = graphlab.evaluation.recall(test_data['sentiment'], predictions)\n",
    "    \n",
    "    precision_all.append(precision)\n",
    "    recall_all.append(recall)"
   ]
  },
  {
   "cell_type": "markdown",
   "metadata": {},
   "source": [
    "Now, let's plot the precision-recall curve to visualize the precision-recall tradeoff as we vary the threshold."
   ]
  },
  {
   "cell_type": "code",
   "execution_count": 37,
   "metadata": {
    "collapsed": false
   },
   "outputs": [
    {
     "data": {
      "application/javascript": [
       "/* Put everything inside the global mpl namespace */\n",
       "window.mpl = {};\n",
       "\n",
       "mpl.get_websocket_type = function() {\n",
       "    if (typeof(WebSocket) !== 'undefined') {\n",
       "        return WebSocket;\n",
       "    } else if (typeof(MozWebSocket) !== 'undefined') {\n",
       "        return MozWebSocket;\n",
       "    } else {\n",
       "        alert('Your browser does not have WebSocket support.' +\n",
       "              'Please try Chrome, Safari or Firefox ≥ 6. ' +\n",
       "              'Firefox 4 and 5 are also supported but you ' +\n",
       "              'have to enable WebSockets in about:config.');\n",
       "    };\n",
       "}\n",
       "\n",
       "mpl.figure = function(figure_id, websocket, ondownload, parent_element) {\n",
       "    this.id = figure_id;\n",
       "\n",
       "    this.ws = websocket;\n",
       "\n",
       "    this.supports_binary = (this.ws.binaryType != undefined);\n",
       "\n",
       "    if (!this.supports_binary) {\n",
       "        var warnings = document.getElementById(\"mpl-warnings\");\n",
       "        if (warnings) {\n",
       "            warnings.style.display = 'block';\n",
       "            warnings.textContent = (\n",
       "                \"This browser does not support binary websocket messages. \" +\n",
       "                    \"Performance may be slow.\");\n",
       "        }\n",
       "    }\n",
       "\n",
       "    this.imageObj = new Image();\n",
       "\n",
       "    this.context = undefined;\n",
       "    this.message = undefined;\n",
       "    this.canvas = undefined;\n",
       "    this.rubberband_canvas = undefined;\n",
       "    this.rubberband_context = undefined;\n",
       "    this.format_dropdown = undefined;\n",
       "\n",
       "    this.image_mode = 'full';\n",
       "\n",
       "    this.root = $('<div/>');\n",
       "    this._root_extra_style(this.root)\n",
       "    this.root.attr('style', 'display: inline-block');\n",
       "\n",
       "    $(parent_element).append(this.root);\n",
       "\n",
       "    this._init_header(this);\n",
       "    this._init_canvas(this);\n",
       "    this._init_toolbar(this);\n",
       "\n",
       "    var fig = this;\n",
       "\n",
       "    this.waiting = false;\n",
       "\n",
       "    this.ws.onopen =  function () {\n",
       "            fig.send_message(\"supports_binary\", {value: fig.supports_binary});\n",
       "            fig.send_message(\"send_image_mode\", {});\n",
       "            fig.send_message(\"refresh\", {});\n",
       "        }\n",
       "\n",
       "    this.imageObj.onload = function() {\n",
       "            if (fig.image_mode == 'full') {\n",
       "                // Full images could contain transparency (where diff images\n",
       "                // almost always do), so we need to clear the canvas so that\n",
       "                // there is no ghosting.\n",
       "                fig.context.clearRect(0, 0, fig.canvas.width, fig.canvas.height);\n",
       "            }\n",
       "            fig.context.drawImage(fig.imageObj, 0, 0);\n",
       "        };\n",
       "\n",
       "    this.imageObj.onunload = function() {\n",
       "        this.ws.close();\n",
       "    }\n",
       "\n",
       "    this.ws.onmessage = this._make_on_message_function(this);\n",
       "\n",
       "    this.ondownload = ondownload;\n",
       "}\n",
       "\n",
       "mpl.figure.prototype._init_header = function() {\n",
       "    var titlebar = $(\n",
       "        '<div class=\"ui-dialog-titlebar ui-widget-header ui-corner-all ' +\n",
       "        'ui-helper-clearfix\"/>');\n",
       "    var titletext = $(\n",
       "        '<div class=\"ui-dialog-title\" style=\"width: 100%; ' +\n",
       "        'text-align: center; padding: 3px;\"/>');\n",
       "    titlebar.append(titletext)\n",
       "    this.root.append(titlebar);\n",
       "    this.header = titletext[0];\n",
       "}\n",
       "\n",
       "\n",
       "\n",
       "mpl.figure.prototype._canvas_extra_style = function(canvas_div) {\n",
       "\n",
       "}\n",
       "\n",
       "\n",
       "mpl.figure.prototype._root_extra_style = function(canvas_div) {\n",
       "\n",
       "}\n",
       "\n",
       "mpl.figure.prototype._init_canvas = function() {\n",
       "    var fig = this;\n",
       "\n",
       "    var canvas_div = $('<div/>');\n",
       "\n",
       "    canvas_div.attr('style', 'position: relative; clear: both; outline: 0');\n",
       "\n",
       "    function canvas_keyboard_event(event) {\n",
       "        return fig.key_event(event, event['data']);\n",
       "    }\n",
       "\n",
       "    canvas_div.keydown('key_press', canvas_keyboard_event);\n",
       "    canvas_div.keyup('key_release', canvas_keyboard_event);\n",
       "    this.canvas_div = canvas_div\n",
       "    this._canvas_extra_style(canvas_div)\n",
       "    this.root.append(canvas_div);\n",
       "\n",
       "    var canvas = $('<canvas/>');\n",
       "    canvas.addClass('mpl-canvas');\n",
       "    canvas.attr('style', \"left: 0; top: 0; z-index: 0; outline: 0\")\n",
       "\n",
       "    this.canvas = canvas[0];\n",
       "    this.context = canvas[0].getContext(\"2d\");\n",
       "\n",
       "    var rubberband = $('<canvas/>');\n",
       "    rubberband.attr('style', \"position: absolute; left: 0; top: 0; z-index: 1;\")\n",
       "\n",
       "    var pass_mouse_events = true;\n",
       "\n",
       "    canvas_div.resizable({\n",
       "        start: function(event, ui) {\n",
       "            pass_mouse_events = false;\n",
       "        },\n",
       "        resize: function(event, ui) {\n",
       "            fig.request_resize(ui.size.width, ui.size.height);\n",
       "        },\n",
       "        stop: function(event, ui) {\n",
       "            pass_mouse_events = true;\n",
       "            fig.request_resize(ui.size.width, ui.size.height);\n",
       "        },\n",
       "    });\n",
       "\n",
       "    function mouse_event_fn(event) {\n",
       "        if (pass_mouse_events)\n",
       "            return fig.mouse_event(event, event['data']);\n",
       "    }\n",
       "\n",
       "    rubberband.mousedown('button_press', mouse_event_fn);\n",
       "    rubberband.mouseup('button_release', mouse_event_fn);\n",
       "    // Throttle sequential mouse events to 1 every 20ms.\n",
       "    rubberband.mousemove('motion_notify', mouse_event_fn);\n",
       "\n",
       "    rubberband.mouseenter('figure_enter', mouse_event_fn);\n",
       "    rubberband.mouseleave('figure_leave', mouse_event_fn);\n",
       "\n",
       "    canvas_div.on(\"wheel\", function (event) {\n",
       "        event = event.originalEvent;\n",
       "        event['data'] = 'scroll'\n",
       "        if (event.deltaY < 0) {\n",
       "            event.step = 1;\n",
       "        } else {\n",
       "            event.step = -1;\n",
       "        }\n",
       "        mouse_event_fn(event);\n",
       "    });\n",
       "\n",
       "    canvas_div.append(canvas);\n",
       "    canvas_div.append(rubberband);\n",
       "\n",
       "    this.rubberband = rubberband;\n",
       "    this.rubberband_canvas = rubberband[0];\n",
       "    this.rubberband_context = rubberband[0].getContext(\"2d\");\n",
       "    this.rubberband_context.strokeStyle = \"#000000\";\n",
       "\n",
       "    this._resize_canvas = function(width, height) {\n",
       "        // Keep the size of the canvas, canvas container, and rubber band\n",
       "        // canvas in synch.\n",
       "        canvas_div.css('width', width)\n",
       "        canvas_div.css('height', height)\n",
       "\n",
       "        canvas.attr('width', width);\n",
       "        canvas.attr('height', height);\n",
       "\n",
       "        rubberband.attr('width', width);\n",
       "        rubberband.attr('height', height);\n",
       "    }\n",
       "\n",
       "    // Set the figure to an initial 600x600px, this will subsequently be updated\n",
       "    // upon first draw.\n",
       "    this._resize_canvas(600, 600);\n",
       "\n",
       "    // Disable right mouse context menu.\n",
       "    $(this.rubberband_canvas).bind(\"contextmenu\",function(e){\n",
       "        return false;\n",
       "    });\n",
       "\n",
       "    function set_focus () {\n",
       "        canvas.focus();\n",
       "        canvas_div.focus();\n",
       "    }\n",
       "\n",
       "    window.setTimeout(set_focus, 100);\n",
       "}\n",
       "\n",
       "mpl.figure.prototype._init_toolbar = function() {\n",
       "    var fig = this;\n",
       "\n",
       "    var nav_element = $('<div/>')\n",
       "    nav_element.attr('style', 'width: 100%');\n",
       "    this.root.append(nav_element);\n",
       "\n",
       "    // Define a callback function for later on.\n",
       "    function toolbar_event(event) {\n",
       "        return fig.toolbar_button_onclick(event['data']);\n",
       "    }\n",
       "    function toolbar_mouse_event(event) {\n",
       "        return fig.toolbar_button_onmouseover(event['data']);\n",
       "    }\n",
       "\n",
       "    for(var toolbar_ind in mpl.toolbar_items) {\n",
       "        var name = mpl.toolbar_items[toolbar_ind][0];\n",
       "        var tooltip = mpl.toolbar_items[toolbar_ind][1];\n",
       "        var image = mpl.toolbar_items[toolbar_ind][2];\n",
       "        var method_name = mpl.toolbar_items[toolbar_ind][3];\n",
       "\n",
       "        if (!name) {\n",
       "            // put a spacer in here.\n",
       "            continue;\n",
       "        }\n",
       "        var button = $('<button/>');\n",
       "        button.addClass('ui-button ui-widget ui-state-default ui-corner-all ' +\n",
       "                        'ui-button-icon-only');\n",
       "        button.attr('role', 'button');\n",
       "        button.attr('aria-disabled', 'false');\n",
       "        button.click(method_name, toolbar_event);\n",
       "        button.mouseover(tooltip, toolbar_mouse_event);\n",
       "\n",
       "        var icon_img = $('<span/>');\n",
       "        icon_img.addClass('ui-button-icon-primary ui-icon');\n",
       "        icon_img.addClass(image);\n",
       "        icon_img.addClass('ui-corner-all');\n",
       "\n",
       "        var tooltip_span = $('<span/>');\n",
       "        tooltip_span.addClass('ui-button-text');\n",
       "        tooltip_span.html(tooltip);\n",
       "\n",
       "        button.append(icon_img);\n",
       "        button.append(tooltip_span);\n",
       "\n",
       "        nav_element.append(button);\n",
       "    }\n",
       "\n",
       "    var fmt_picker_span = $('<span/>');\n",
       "\n",
       "    var fmt_picker = $('<select/>');\n",
       "    fmt_picker.addClass('mpl-toolbar-option ui-widget ui-widget-content');\n",
       "    fmt_picker_span.append(fmt_picker);\n",
       "    nav_element.append(fmt_picker_span);\n",
       "    this.format_dropdown = fmt_picker[0];\n",
       "\n",
       "    for (var ind in mpl.extensions) {\n",
       "        var fmt = mpl.extensions[ind];\n",
       "        var option = $(\n",
       "            '<option/>', {selected: fmt === mpl.default_extension}).html(fmt);\n",
       "        fmt_picker.append(option)\n",
       "    }\n",
       "\n",
       "    // Add hover states to the ui-buttons\n",
       "    $( \".ui-button\" ).hover(\n",
       "        function() { $(this).addClass(\"ui-state-hover\");},\n",
       "        function() { $(this).removeClass(\"ui-state-hover\");}\n",
       "    );\n",
       "\n",
       "    var status_bar = $('<span class=\"mpl-message\"/>');\n",
       "    nav_element.append(status_bar);\n",
       "    this.message = status_bar[0];\n",
       "}\n",
       "\n",
       "mpl.figure.prototype.request_resize = function(x_pixels, y_pixels) {\n",
       "    // Request matplotlib to resize the figure. Matplotlib will then trigger a resize in the client,\n",
       "    // which will in turn request a refresh of the image.\n",
       "    this.send_message('resize', {'width': x_pixels, 'height': y_pixels});\n",
       "}\n",
       "\n",
       "mpl.figure.prototype.send_message = function(type, properties) {\n",
       "    properties['type'] = type;\n",
       "    properties['figure_id'] = this.id;\n",
       "    this.ws.send(JSON.stringify(properties));\n",
       "}\n",
       "\n",
       "mpl.figure.prototype.send_draw_message = function() {\n",
       "    if (!this.waiting) {\n",
       "        this.waiting = true;\n",
       "        this.ws.send(JSON.stringify({type: \"draw\", figure_id: this.id}));\n",
       "    }\n",
       "}\n",
       "\n",
       "\n",
       "mpl.figure.prototype.handle_save = function(fig, msg) {\n",
       "    var format_dropdown = fig.format_dropdown;\n",
       "    var format = format_dropdown.options[format_dropdown.selectedIndex].value;\n",
       "    fig.ondownload(fig, format);\n",
       "}\n",
       "\n",
       "\n",
       "mpl.figure.prototype.handle_resize = function(fig, msg) {\n",
       "    var size = msg['size'];\n",
       "    if (size[0] != fig.canvas.width || size[1] != fig.canvas.height) {\n",
       "        fig._resize_canvas(size[0], size[1]);\n",
       "        fig.send_message(\"refresh\", {});\n",
       "    };\n",
       "}\n",
       "\n",
       "mpl.figure.prototype.handle_rubberband = function(fig, msg) {\n",
       "    var x0 = msg['x0'];\n",
       "    var y0 = fig.canvas.height - msg['y0'];\n",
       "    var x1 = msg['x1'];\n",
       "    var y1 = fig.canvas.height - msg['y1'];\n",
       "    x0 = Math.floor(x0) + 0.5;\n",
       "    y0 = Math.floor(y0) + 0.5;\n",
       "    x1 = Math.floor(x1) + 0.5;\n",
       "    y1 = Math.floor(y1) + 0.5;\n",
       "    var min_x = Math.min(x0, x1);\n",
       "    var min_y = Math.min(y0, y1);\n",
       "    var width = Math.abs(x1 - x0);\n",
       "    var height = Math.abs(y1 - y0);\n",
       "\n",
       "    fig.rubberband_context.clearRect(\n",
       "        0, 0, fig.canvas.width, fig.canvas.height);\n",
       "\n",
       "    fig.rubberband_context.strokeRect(min_x, min_y, width, height);\n",
       "}\n",
       "\n",
       "mpl.figure.prototype.handle_figure_label = function(fig, msg) {\n",
       "    // Updates the figure title.\n",
       "    fig.header.textContent = msg['label'];\n",
       "}\n",
       "\n",
       "mpl.figure.prototype.handle_cursor = function(fig, msg) {\n",
       "    var cursor = msg['cursor'];\n",
       "    switch(cursor)\n",
       "    {\n",
       "    case 0:\n",
       "        cursor = 'pointer';\n",
       "        break;\n",
       "    case 1:\n",
       "        cursor = 'default';\n",
       "        break;\n",
       "    case 2:\n",
       "        cursor = 'crosshair';\n",
       "        break;\n",
       "    case 3:\n",
       "        cursor = 'move';\n",
       "        break;\n",
       "    }\n",
       "    fig.rubberband_canvas.style.cursor = cursor;\n",
       "}\n",
       "\n",
       "mpl.figure.prototype.handle_message = function(fig, msg) {\n",
       "    fig.message.textContent = msg['message'];\n",
       "}\n",
       "\n",
       "mpl.figure.prototype.handle_draw = function(fig, msg) {\n",
       "    // Request the server to send over a new figure.\n",
       "    fig.send_draw_message();\n",
       "}\n",
       "\n",
       "mpl.figure.prototype.handle_image_mode = function(fig, msg) {\n",
       "    fig.image_mode = msg['mode'];\n",
       "}\n",
       "\n",
       "mpl.figure.prototype.updated_canvas_event = function() {\n",
       "    // Called whenever the canvas gets updated.\n",
       "    this.send_message(\"ack\", {});\n",
       "}\n",
       "\n",
       "// A function to construct a web socket function for onmessage handling.\n",
       "// Called in the figure constructor.\n",
       "mpl.figure.prototype._make_on_message_function = function(fig) {\n",
       "    return function socket_on_message(evt) {\n",
       "        if (evt.data instanceof Blob) {\n",
       "            /* FIXME: We get \"Resource interpreted as Image but\n",
       "             * transferred with MIME type text/plain:\" errors on\n",
       "             * Chrome.  But how to set the MIME type?  It doesn't seem\n",
       "             * to be part of the websocket stream */\n",
       "            evt.data.type = \"image/png\";\n",
       "\n",
       "            /* Free the memory for the previous frames */\n",
       "            if (fig.imageObj.src) {\n",
       "                (window.URL || window.webkitURL).revokeObjectURL(\n",
       "                    fig.imageObj.src);\n",
       "            }\n",
       "\n",
       "            fig.imageObj.src = (window.URL || window.webkitURL).createObjectURL(\n",
       "                evt.data);\n",
       "            fig.updated_canvas_event();\n",
       "            fig.waiting = false;\n",
       "            return;\n",
       "        }\n",
       "        else if (typeof evt.data === 'string' && evt.data.slice(0, 21) == \"data:image/png;base64\") {\n",
       "            fig.imageObj.src = evt.data;\n",
       "            fig.updated_canvas_event();\n",
       "            fig.waiting = false;\n",
       "            return;\n",
       "        }\n",
       "\n",
       "        var msg = JSON.parse(evt.data);\n",
       "        var msg_type = msg['type'];\n",
       "\n",
       "        // Call the  \"handle_{type}\" callback, which takes\n",
       "        // the figure and JSON message as its only arguments.\n",
       "        try {\n",
       "            var callback = fig[\"handle_\" + msg_type];\n",
       "        } catch (e) {\n",
       "            console.log(\"No handler for the '\" + msg_type + \"' message type: \", msg);\n",
       "            return;\n",
       "        }\n",
       "\n",
       "        if (callback) {\n",
       "            try {\n",
       "                // console.log(\"Handling '\" + msg_type + \"' message: \", msg);\n",
       "                callback(fig, msg);\n",
       "            } catch (e) {\n",
       "                console.log(\"Exception inside the 'handler_\" + msg_type + \"' callback:\", e, e.stack, msg);\n",
       "            }\n",
       "        }\n",
       "    };\n",
       "}\n",
       "\n",
       "// from http://stackoverflow.com/questions/1114465/getting-mouse-location-in-canvas\n",
       "mpl.findpos = function(e) {\n",
       "    //this section is from http://www.quirksmode.org/js/events_properties.html\n",
       "    var targ;\n",
       "    if (!e)\n",
       "        e = window.event;\n",
       "    if (e.target)\n",
       "        targ = e.target;\n",
       "    else if (e.srcElement)\n",
       "        targ = e.srcElement;\n",
       "    if (targ.nodeType == 3) // defeat Safari bug\n",
       "        targ = targ.parentNode;\n",
       "\n",
       "    // jQuery normalizes the pageX and pageY\n",
       "    // pageX,Y are the mouse positions relative to the document\n",
       "    // offset() returns the position of the element relative to the document\n",
       "    var x = e.pageX - $(targ).offset().left;\n",
       "    var y = e.pageY - $(targ).offset().top;\n",
       "\n",
       "    return {\"x\": x, \"y\": y};\n",
       "};\n",
       "\n",
       "/*\n",
       " * return a copy of an object with only non-object keys\n",
       " * we need this to avoid circular references\n",
       " * http://stackoverflow.com/a/24161582/3208463\n",
       " */\n",
       "function simpleKeys (original) {\n",
       "  return Object.keys(original).reduce(function (obj, key) {\n",
       "    if (typeof original[key] !== 'object')\n",
       "        obj[key] = original[key]\n",
       "    return obj;\n",
       "  }, {});\n",
       "}\n",
       "\n",
       "mpl.figure.prototype.mouse_event = function(event, name) {\n",
       "    var canvas_pos = mpl.findpos(event)\n",
       "\n",
       "    if (name === 'button_press')\n",
       "    {\n",
       "        this.canvas.focus();\n",
       "        this.canvas_div.focus();\n",
       "    }\n",
       "\n",
       "    var x = canvas_pos.x;\n",
       "    var y = canvas_pos.y;\n",
       "\n",
       "    this.send_message(name, {x: x, y: y, button: event.button,\n",
       "                             step: event.step,\n",
       "                             guiEvent: simpleKeys(event)});\n",
       "\n",
       "    /* This prevents the web browser from automatically changing to\n",
       "     * the text insertion cursor when the button is pressed.  We want\n",
       "     * to control all of the cursor setting manually through the\n",
       "     * 'cursor' event from matplotlib */\n",
       "    event.preventDefault();\n",
       "    return false;\n",
       "}\n",
       "\n",
       "mpl.figure.prototype._key_event_extra = function(event, name) {\n",
       "    // Handle any extra behaviour associated with a key event\n",
       "}\n",
       "\n",
       "mpl.figure.prototype.key_event = function(event, name) {\n",
       "\n",
       "    // Prevent repeat events\n",
       "    if (name == 'key_press')\n",
       "    {\n",
       "        if (event.which === this._key)\n",
       "            return;\n",
       "        else\n",
       "            this._key = event.which;\n",
       "    }\n",
       "    if (name == 'key_release')\n",
       "        this._key = null;\n",
       "\n",
       "    var value = '';\n",
       "    if (event.ctrlKey && event.which != 17)\n",
       "        value += \"ctrl+\";\n",
       "    if (event.altKey && event.which != 18)\n",
       "        value += \"alt+\";\n",
       "    if (event.shiftKey && event.which != 16)\n",
       "        value += \"shift+\";\n",
       "\n",
       "    value += 'k';\n",
       "    value += event.which.toString();\n",
       "\n",
       "    this._key_event_extra(event, name);\n",
       "\n",
       "    this.send_message(name, {key: value,\n",
       "                             guiEvent: simpleKeys(event)});\n",
       "    return false;\n",
       "}\n",
       "\n",
       "mpl.figure.prototype.toolbar_button_onclick = function(name) {\n",
       "    if (name == 'download') {\n",
       "        this.handle_save(this, null);\n",
       "    } else {\n",
       "        this.send_message(\"toolbar_button\", {name: name});\n",
       "    }\n",
       "};\n",
       "\n",
       "mpl.figure.prototype.toolbar_button_onmouseover = function(tooltip) {\n",
       "    this.message.textContent = tooltip;\n",
       "};\n",
       "mpl.toolbar_items = [[\"Home\", \"Reset original view\", \"fa fa-home icon-home\", \"home\"], [\"Back\", \"Back to  previous view\", \"fa fa-arrow-left icon-arrow-left\", \"back\"], [\"Forward\", \"Forward to next view\", \"fa fa-arrow-right icon-arrow-right\", \"forward\"], [\"\", \"\", \"\", \"\"], [\"Pan\", \"Pan axes with left mouse, zoom with right\", \"fa fa-arrows icon-move\", \"pan\"], [\"Zoom\", \"Zoom to rectangle\", \"fa fa-square-o icon-check-empty\", \"zoom\"], [\"\", \"\", \"\", \"\"], [\"Download\", \"Download plot\", \"fa fa-floppy-o icon-save\", \"download\"]];\n",
       "\n",
       "mpl.extensions = [\"eps\", \"jpeg\", \"pdf\", \"png\", \"ps\", \"raw\", \"svg\", \"tif\"];\n",
       "\n",
       "mpl.default_extension = \"png\";var comm_websocket_adapter = function(comm) {\n",
       "    // Create a \"websocket\"-like object which calls the given IPython comm\n",
       "    // object with the appropriate methods. Currently this is a non binary\n",
       "    // socket, so there is still some room for performance tuning.\n",
       "    var ws = {};\n",
       "\n",
       "    ws.close = function() {\n",
       "        comm.close()\n",
       "    };\n",
       "    ws.send = function(m) {\n",
       "        //console.log('sending', m);\n",
       "        comm.send(m);\n",
       "    };\n",
       "    // Register the callback with on_msg.\n",
       "    comm.on_msg(function(msg) {\n",
       "        //console.log('receiving', msg['content']['data'], msg);\n",
       "        // Pass the mpl event to the overriden (by mpl) onmessage function.\n",
       "        ws.onmessage(msg['content']['data'])\n",
       "    });\n",
       "    return ws;\n",
       "}\n",
       "\n",
       "mpl.mpl_figure_comm = function(comm, msg) {\n",
       "    // This is the function which gets called when the mpl process\n",
       "    // starts-up an IPython Comm through the \"matplotlib\" channel.\n",
       "\n",
       "    var id = msg.content.data.id;\n",
       "    // Get hold of the div created by the display call when the Comm\n",
       "    // socket was opened in Python.\n",
       "    var element = $(\"#\" + id);\n",
       "    var ws_proxy = comm_websocket_adapter(comm)\n",
       "\n",
       "    function ondownload(figure, format) {\n",
       "        window.open(figure.imageObj.src);\n",
       "    }\n",
       "\n",
       "    var fig = new mpl.figure(id, ws_proxy,\n",
       "                           ondownload,\n",
       "                           element.get(0));\n",
       "\n",
       "    // Call onopen now - mpl needs it, as it is assuming we've passed it a real\n",
       "    // web socket which is closed, not our websocket->open comm proxy.\n",
       "    ws_proxy.onopen();\n",
       "\n",
       "    fig.parent_element = element.get(0);\n",
       "    fig.cell_info = mpl.find_output_cell(\"<div id='\" + id + \"'></div>\");\n",
       "    if (!fig.cell_info) {\n",
       "        console.error(\"Failed to find cell for figure\", id, fig);\n",
       "        return;\n",
       "    }\n",
       "\n",
       "    var output_index = fig.cell_info[2]\n",
       "    var cell = fig.cell_info[0];\n",
       "\n",
       "};\n",
       "\n",
       "mpl.figure.prototype.handle_close = function(fig, msg) {\n",
       "    // Update the output cell to use the data from the current canvas.\n",
       "    fig.push_to_output();\n",
       "    var dataURL = fig.canvas.toDataURL();\n",
       "    // Re-enable the keyboard manager in IPython - without this line, in FF,\n",
       "    // the notebook keyboard shortcuts fail.\n",
       "    IPython.keyboard_manager.enable()\n",
       "    $(fig.parent_element).html('<img src=\"' + dataURL + '\">');\n",
       "    fig.send_message('closing', {});\n",
       "    fig.ws.close()\n",
       "}\n",
       "\n",
       "mpl.figure.prototype.push_to_output = function(remove_interactive) {\n",
       "    // Turn the data on the canvas into data in the output cell.\n",
       "    var dataURL = this.canvas.toDataURL();\n",
       "    this.cell_info[1]['text/html'] = '<img src=\"' + dataURL + '\">';\n",
       "}\n",
       "\n",
       "mpl.figure.prototype.updated_canvas_event = function() {\n",
       "    // Tell IPython that the notebook contents must change.\n",
       "    IPython.notebook.set_dirty(true);\n",
       "    this.send_message(\"ack\", {});\n",
       "    var fig = this;\n",
       "    // Wait a second, then push the new image to the DOM so\n",
       "    // that it is saved nicely (might be nice to debounce this).\n",
       "    setTimeout(function () { fig.push_to_output() }, 1000);\n",
       "}\n",
       "\n",
       "mpl.figure.prototype._init_toolbar = function() {\n",
       "    var fig = this;\n",
       "\n",
       "    var nav_element = $('<div/>')\n",
       "    nav_element.attr('style', 'width: 100%');\n",
       "    this.root.append(nav_element);\n",
       "\n",
       "    // Define a callback function for later on.\n",
       "    function toolbar_event(event) {\n",
       "        return fig.toolbar_button_onclick(event['data']);\n",
       "    }\n",
       "    function toolbar_mouse_event(event) {\n",
       "        return fig.toolbar_button_onmouseover(event['data']);\n",
       "    }\n",
       "\n",
       "    for(var toolbar_ind in mpl.toolbar_items){\n",
       "        var name = mpl.toolbar_items[toolbar_ind][0];\n",
       "        var tooltip = mpl.toolbar_items[toolbar_ind][1];\n",
       "        var image = mpl.toolbar_items[toolbar_ind][2];\n",
       "        var method_name = mpl.toolbar_items[toolbar_ind][3];\n",
       "\n",
       "        if (!name) { continue; };\n",
       "\n",
       "        var button = $('<button class=\"btn btn-default\" href=\"#\" title=\"' + name + '\"><i class=\"fa ' + image + ' fa-lg\"></i></button>');\n",
       "        button.click(method_name, toolbar_event);\n",
       "        button.mouseover(tooltip, toolbar_mouse_event);\n",
       "        nav_element.append(button);\n",
       "    }\n",
       "\n",
       "    // Add the status bar.\n",
       "    var status_bar = $('<span class=\"mpl-message\" style=\"text-align:right; float: right;\"/>');\n",
       "    nav_element.append(status_bar);\n",
       "    this.message = status_bar[0];\n",
       "\n",
       "    // Add the close button to the window.\n",
       "    var buttongrp = $('<div class=\"btn-group inline pull-right\"></div>');\n",
       "    var button = $('<button class=\"btn btn-mini btn-danger\" href=\"#\" title=\"Close figure\"><i class=\"fa fa-times icon-remove icon-large\"></i></button>');\n",
       "    button.click(function (evt) { fig.handle_close(fig, {}); } );\n",
       "    button.mouseover('Close figure', toolbar_mouse_event);\n",
       "    buttongrp.append(button);\n",
       "    var titlebar = this.root.find($('.ui-dialog-titlebar'));\n",
       "    titlebar.prepend(buttongrp);\n",
       "}\n",
       "\n",
       "\n",
       "mpl.figure.prototype._canvas_extra_style = function(el){\n",
       "    // this is important to make the div 'focusable\n",
       "    el.attr('tabindex', 0)\n",
       "    // reach out to IPython and tell the keyboard manager to turn it's self\n",
       "    // off when our div gets focus\n",
       "\n",
       "    // location in version 3\n",
       "    if (IPython.notebook.keyboard_manager) {\n",
       "        IPython.notebook.keyboard_manager.register_events(el);\n",
       "    }\n",
       "    else {\n",
       "        // location in version 2\n",
       "        IPython.keyboard_manager.register_events(el);\n",
       "    }\n",
       "\n",
       "}\n",
       "\n",
       "mpl.figure.prototype._key_event_extra = function(event, name) {\n",
       "    var manager = IPython.notebook.keyboard_manager;\n",
       "    if (!manager)\n",
       "        manager = IPython.keyboard_manager;\n",
       "\n",
       "    // Check for shift+enter\n",
       "    if (event.shiftKey && event.which == 13) {\n",
       "        this.canvas_div.blur();\n",
       "        event.shiftKey = false;\n",
       "        // Send a \"J\" for go to next cell\n",
       "        event.which = 74;\n",
       "        event.keyCode = 74;\n",
       "        manager.command_mode();\n",
       "        manager.handle_keydown(event);\n",
       "    }\n",
       "}\n",
       "\n",
       "mpl.figure.prototype.handle_save = function(fig, msg) {\n",
       "    fig.ondownload(fig, null);\n",
       "}\n",
       "\n",
       "\n",
       "mpl.find_output_cell = function(html_output) {\n",
       "    // Return the cell and output element which can be found *uniquely* in the notebook.\n",
       "    // Note - this is a bit hacky, but it is done because the \"notebook_saving.Notebook\"\n",
       "    // IPython event is triggered only after the cells have been serialised, which for\n",
       "    // our purposes (turning an active figure into a static one), is too late.\n",
       "    var cells = IPython.notebook.get_cells();\n",
       "    var ncells = cells.length;\n",
       "    for (var i=0; i<ncells; i++) {\n",
       "        var cell = cells[i];\n",
       "        if (cell.cell_type === 'code'){\n",
       "            for (var j=0; j<cell.output_area.outputs.length; j++) {\n",
       "                var data = cell.output_area.outputs[j];\n",
       "                if (data.data) {\n",
       "                    // IPython >= 3 moved mimebundle to data attribute of output\n",
       "                    data = data.data;\n",
       "                }\n",
       "                if (data['text/html'] == html_output) {\n",
       "                    return [cell, data, j];\n",
       "                }\n",
       "            }\n",
       "        }\n",
       "    }\n",
       "}\n",
       "\n",
       "// Register the function which deals with the matplotlib target/channel.\n",
       "// The kernel may be null if the page has been refreshed.\n",
       "if (IPython.notebook.kernel != null) {\n",
       "    IPython.notebook.kernel.comm_manager.register_target('matplotlib', mpl.mpl_figure_comm);\n",
       "}\n"
      ],
      "text/plain": [
       "<IPython.core.display.Javascript object>"
      ]
     },
     "metadata": {},
     "output_type": "display_data"
    },
    {
     "data": {
      "text/html": [
       "<img src=\"data:image/png;base64,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\">"
      ],
      "text/plain": [
       "<IPython.core.display.HTML object>"
      ]
     },
     "metadata": {},
     "output_type": "display_data"
    }
   ],
   "source": [
    "import matplotlib.pyplot as plt\n",
    "%matplotlib notebook\n",
    "\n",
    "def plot_pr_curve(precision, recall, title):\n",
    "    plt.rcParams['figure.figsize'] = 7, 5\n",
    "    plt.locator_params(axis = 'x', nbins = 5)\n",
    "    plt.plot(precision, recall, 'b-', linewidth=4.0, color = '#B0017F')\n",
    "    plt.title(title)\n",
    "    plt.xlabel('Precision')\n",
    "    plt.ylabel('Recall')\n",
    "    plt.rcParams.update({'font.size': 16})\n",
    "    \n",
    "plot_pr_curve(precision_all, recall_all, 'Precision recall curve (all)')"
   ]
  },
  {
   "cell_type": "markdown",
   "metadata": {},
   "source": [
    "**Quiz Question**: Among all the threshold values tried, what is the **smallest** threshold value that achieves a precision of 96.5% or better? Round your answer to 3 decimal places."
   ]
  },
  {
   "cell_type": "code",
   "execution_count": 38,
   "metadata": {
    "collapsed": false
   },
   "outputs": [
    {
     "data": {
      "text/plain": [
       "0.83838383838383845"
      ]
     },
     "execution_count": 38,
     "metadata": {},
     "output_type": "execute_result"
    }
   ],
   "source": [
    "min(threshold_values[np.array(precision_all) >= 0.965])"
   ]
  },
  {
   "cell_type": "markdown",
   "metadata": {},
   "source": [
    "**Quiz Question**: Using `threshold` = 0.98, how many **false negatives** do we get on the **test_data**? (**Hint**: You may use the `graphlab.evaluation.confusion_matrix` function implemented in GraphLab Create.)"
   ]
  },
  {
   "cell_type": "code",
   "execution_count": 41,
   "metadata": {
    "collapsed": false
   },
   "outputs": [
    {
     "data": {
      "text/html": [
       "<div style=\"max-height:1000px;max-width:1500px;overflow:auto;\"><table frame=\"box\" rules=\"cols\">\n",
       "    <tr>\n",
       "        <th style=\"padding-left: 1em; padding-right: 1em; text-align: center\">target_label</th>\n",
       "        <th style=\"padding-left: 1em; padding-right: 1em; text-align: center\">predicted_label</th>\n",
       "        <th style=\"padding-left: 1em; padding-right: 1em; text-align: center\">count</th>\n",
       "    </tr>\n",
       "    <tr>\n",
       "        <td style=\"padding-left: 1em; padding-right: 1em; text-align: center; vertical-align: top\">1</td>\n",
       "        <td style=\"padding-left: 1em; padding-right: 1em; text-align: center; vertical-align: top\">-1</td>\n",
       "        <td style=\"padding-left: 1em; padding-right: 1em; text-align: center; vertical-align: top\">5826</td>\n",
       "    </tr>\n",
       "    <tr>\n",
       "        <td style=\"padding-left: 1em; padding-right: 1em; text-align: center; vertical-align: top\">1</td>\n",
       "        <td style=\"padding-left: 1em; padding-right: 1em; text-align: center; vertical-align: top\">1</td>\n",
       "        <td style=\"padding-left: 1em; padding-right: 1em; text-align: center; vertical-align: top\">22269</td>\n",
       "    </tr>\n",
       "    <tr>\n",
       "        <td style=\"padding-left: 1em; padding-right: 1em; text-align: center; vertical-align: top\">-1</td>\n",
       "        <td style=\"padding-left: 1em; padding-right: 1em; text-align: center; vertical-align: top\">-1</td>\n",
       "        <td style=\"padding-left: 1em; padding-right: 1em; text-align: center; vertical-align: top\">4754</td>\n",
       "    </tr>\n",
       "    <tr>\n",
       "        <td style=\"padding-left: 1em; padding-right: 1em; text-align: center; vertical-align: top\">-1</td>\n",
       "        <td style=\"padding-left: 1em; padding-right: 1em; text-align: center; vertical-align: top\">1</td>\n",
       "        <td style=\"padding-left: 1em; padding-right: 1em; text-align: center; vertical-align: top\">487</td>\n",
       "    </tr>\n",
       "</table>\n",
       "[4 rows x 3 columns]<br/>\n",
       "</div>"
      ],
      "text/plain": [
       "Columns:\n",
       "\ttarget_label\tint\n",
       "\tpredicted_label\tint\n",
       "\tcount\tint\n",
       "\n",
       "Rows: 4\n",
       "\n",
       "Data:\n",
       "+--------------+-----------------+-------+\n",
       "| target_label | predicted_label | count |\n",
       "+--------------+-----------------+-------+\n",
       "|      1       |        -1       |  5826 |\n",
       "|      1       |        1        | 22269 |\n",
       "|      -1      |        -1       |  4754 |\n",
       "|      -1      |        1        |  487  |\n",
       "+--------------+-----------------+-------+\n",
       "[4 rows x 3 columns]"
      ]
     },
     "execution_count": 41,
     "metadata": {},
     "output_type": "execute_result"
    }
   ],
   "source": [
    "probabilities = model.predict(test_data, output_type='probability')\n",
    "predictions = apply_threshold(probabilities, 0.98)\n",
    "graphlab.evaluation.confusion_matrix(test_data['sentiment'], predictions)"
   ]
  },
  {
   "cell_type": "markdown",
   "metadata": {
    "collapsed": false
   },
   "source": [
    "This is the number of false negatives (i.e the number of reviews to look at when not needed) that we have to deal with using this classifier."
   ]
  },
  {
   "cell_type": "markdown",
   "metadata": {},
   "source": [
    "# Evaluating specific search terms"
   ]
  },
  {
   "cell_type": "markdown",
   "metadata": {},
   "source": [
    "So far, we looked at the number of false positives for the **entire test set**. In this section, let's select reviews using a specific search term and optimize the precision on these reviews only. After all, a manufacturer would be interested in tuning the false positive rate just for their products (the reviews they want to read) rather than that of the entire set of products on Amazon.\n",
    "\n",
    "## Precision-Recall on all baby related items\n",
    "\n",
    "From the **test set**, select all the reviews for all products with the word 'baby' in them."
   ]
  },
  {
   "cell_type": "code",
   "execution_count": 42,
   "metadata": {
    "collapsed": false
   },
   "outputs": [],
   "source": [
    "baby_reviews =  test_data[test_data['name'].apply(lambda x: 'baby' in x.lower())]"
   ]
  },
  {
   "cell_type": "markdown",
   "metadata": {},
   "source": [
    "Now, let's predict the probability of classifying these reviews as positive:"
   ]
  },
  {
   "cell_type": "code",
   "execution_count": 43,
   "metadata": {
    "collapsed": false
   },
   "outputs": [],
   "source": [
    "probabilities = model.predict(baby_reviews, output_type='probability')"
   ]
  },
  {
   "cell_type": "markdown",
   "metadata": {},
   "source": [
    "Let's plot the precision-recall curve for the **baby_reviews** dataset.\n",
    "\n",
    "**First**, let's consider the following `threshold_values` ranging from 0.5 to 1:"
   ]
  },
  {
   "cell_type": "code",
   "execution_count": 44,
   "metadata": {
    "collapsed": true
   },
   "outputs": [],
   "source": [
    "threshold_values = np.linspace(0.5, 1, num=100)"
   ]
  },
  {
   "cell_type": "markdown",
   "metadata": {},
   "source": [
    "**Second**, as we did above, let's compute precision and recall for each value in `threshold_values` on the **baby_reviews** dataset.  Complete the code block below."
   ]
  },
  {
   "cell_type": "code",
   "execution_count": 45,
   "metadata": {
    "collapsed": false
   },
   "outputs": [],
   "source": [
    "precision_all = []\n",
    "recall_all = []\n",
    "\n",
    "for threshold in threshold_values:\n",
    "    \n",
    "    # Make predictions. Use the `apply_threshold` function \n",
    "    ## YOUR CODE HERE \n",
    "    predictions = apply_threshold(probabilities, threshold)\n",
    "\n",
    "    # Calculate the precision.\n",
    "    # YOUR CODE HERE\n",
    "    precision = graphlab.evaluation.precision(baby_reviews['sentiment'], predictions)\n",
    "    \n",
    "    # YOUR CODE HERE\n",
    "    recall = graphlab.evaluation.recall(baby_reviews['sentiment'], predictions)\n",
    "    \n",
    "    # Append the precision and recall scores.\n",
    "    precision_all.append(precision)\n",
    "    recall_all.append(recall)"
   ]
  },
  {
   "cell_type": "markdown",
   "metadata": {},
   "source": [
    "**Quiz Question**: Among all the threshold values tried, what is the **smallest** threshold value that achieves a precision of 96.5% or better for the reviews of data in **baby_reviews**? Round your answer to 3 decimal places."
   ]
  },
  {
   "cell_type": "code",
   "execution_count": 46,
   "metadata": {
    "collapsed": false
   },
   "outputs": [
    {
     "data": {
      "text/plain": [
       "0.86363636363636365"
      ]
     },
     "execution_count": 46,
     "metadata": {},
     "output_type": "execute_result"
    }
   ],
   "source": [
    "min(threshold_values[np.array(precision_all) >= 0.965])"
   ]
  },
  {
   "cell_type": "markdown",
   "metadata": {},
   "source": [
    "**Quiz Question:** Is this threshold value smaller or larger than the threshold used for the entire dataset to achieve the same specified precision of 96.5%?\n",
    "\n",
    "**Finally**, let's plot the precision recall curve."
   ]
  },
  {
   "cell_type": "code",
   "execution_count": 47,
   "metadata": {
    "collapsed": false
   },
   "outputs": [],
   "source": [
    "plot_pr_curve(precision_all, recall_all, \"Precision-Recall (Baby)\")"
   ]
  },
  {
   "cell_type": "code",
   "execution_count": null,
   "metadata": {
    "collapsed": true
   },
   "outputs": [],
   "source": []
  }
 ],
 "metadata": {
  "kernelspec": {
   "display_name": "Python 2",
   "language": "python",
   "name": "python2"
  },
  "language_info": {
   "codemirror_mode": {
    "name": "ipython",
    "version": 2
   },
   "file_extension": ".py",
   "mimetype": "text/x-python",
   "name": "python",
   "nbconvert_exporter": "python",
   "pygments_lexer": "ipython2",
   "version": "2.7.6"
  }
 },
 "nbformat": 4,
 "nbformat_minor": 0
}
