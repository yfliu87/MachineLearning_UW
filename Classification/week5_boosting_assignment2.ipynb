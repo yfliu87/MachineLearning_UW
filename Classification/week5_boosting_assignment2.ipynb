{
 "cells": [
  {
   "cell_type": "markdown",
   "metadata": {},
   "source": [
    "# Boosting a decision stump\n",
    "\n",
    "The goal of this notebook is to implement your own boosting module.\n",
    "\n",
    "**Brace yourselves**! This is going to be a fun and challenging assignment.\n",
    "\n",
    "\n",
    "* Use SFrames to do some feature engineering.\n",
    "* Modify the decision trees to incorporate weights.\n",
    "* Implement Adaboost ensembling.\n",
    "* Use your implementation of Adaboost to train a boosted decision stump ensemble.\n",
    "* Evaluate the effect of boosting (adding more decision stumps) on performance of the model.\n",
    "* Explore the robustness of Adaboost to overfitting.\n",
    "\n",
    "Let's get started!"
   ]
  },
  {
   "cell_type": "markdown",
   "metadata": {},
   "source": [
    "## Fire up GraphLab Create"
   ]
  },
  {
   "cell_type": "markdown",
   "metadata": {},
   "source": [
    "Make sure you have the latest version of GraphLab Create **(1.8.3 or newer)**. Upgrade by\n",
    "```\n",
    "   pip install graphlab-create --upgrade\n",
    "```\n",
    "See [this page](https://dato.com/download/) for detailed instructions on upgrading."
   ]
  },
  {
   "cell_type": "code",
   "execution_count": 124,
   "metadata": {
    "collapsed": false
   },
   "outputs": [],
   "source": [
    "import graphlab\n",
    "import matplotlib.pyplot as plt\n",
    "%matplotlib notebook"
   ]
  },
  {
   "cell_type": "markdown",
   "metadata": {},
   "source": [
    "# Getting the data ready"
   ]
  },
  {
   "cell_type": "markdown",
   "metadata": {},
   "source": [
    "We will be using the same [LendingClub](https://www.lendingclub.com/) dataset as in the previous assignment."
   ]
  },
  {
   "cell_type": "code",
   "execution_count": 3,
   "metadata": {
    "collapsed": false
   },
   "outputs": [],
   "source": [
    "loans = graphlab.SFrame('week3_lending_club_data.gl/')"
   ]
  },
  {
   "cell_type": "markdown",
   "metadata": {},
   "source": [
    "### Extracting the target and the feature columns\n",
    "\n",
    "We will now repeat some of the feature processing steps that we saw in the previous assignment:\n",
    "\n",
    "First, we re-assign the target to have +1 as a safe (good) loan, and -1 as a risky (bad) loan.\n",
    "\n",
    "Next, we select four categorical features: \n",
    "1. grade of the loan \n",
    "2. the length of the loan term\n",
    "3. the home ownership status: own, mortgage, rent\n",
    "4. number of years of employment."
   ]
  },
  {
   "cell_type": "code",
   "execution_count": 4,
   "metadata": {
    "collapsed": false
   },
   "outputs": [],
   "source": [
    "features = ['grade',              # grade of the loan\n",
    "            'term',               # the term of the loan\n",
    "            'home_ownership',     # home ownership status: own, mortgage or rent\n",
    "            'emp_length',         # number of years of employment\n",
    "           ]\n",
    "loans['safe_loans'] = loans['bad_loans'].apply(lambda x : +1 if x==0 else -1)\n",
    "loans.remove_column('bad_loans')\n",
    "target = 'safe_loans'\n",
    "loans = loans[features + [target]]"
   ]
  },
  {
   "cell_type": "markdown",
   "metadata": {},
   "source": [
    "### Subsample dataset to make sure classes are balanced"
   ]
  },
  {
   "cell_type": "markdown",
   "metadata": {},
   "source": [
    "Just as we did in the previous assignment, we will undersample the larger class (safe loans) in order to balance out our dataset. This means we are throwing away many data points. We use `seed=1` so everyone gets the same results."
   ]
  },
  {
   "cell_type": "code",
   "execution_count": 5,
   "metadata": {
    "collapsed": false
   },
   "outputs": [
    {
     "name": "stdout",
     "output_type": "stream",
     "text": [
      "Percentage of safe loans                 : 0.502236174422\n",
      "Percentage of risky loans                : 0.497763825578\n",
      "Total number of loans in our new dataset : 46508\n"
     ]
    }
   ],
   "source": [
    "safe_loans_raw = loans[loans[target] == 1]\n",
    "risky_loans_raw = loans[loans[target] == -1]\n",
    "\n",
    "# Undersample the safe loans.\n",
    "percentage = len(risky_loans_raw)/float(len(safe_loans_raw))\n",
    "risky_loans = risky_loans_raw\n",
    "safe_loans = safe_loans_raw.sample(percentage, seed=1)\n",
    "loans_data = risky_loans_raw.append(safe_loans)\n",
    "\n",
    "print \"Percentage of safe loans                 :\", len(safe_loans) / float(len(loans_data))\n",
    "print \"Percentage of risky loans                :\", len(risky_loans) / float(len(loans_data))\n",
    "print \"Total number of loans in our new dataset :\", len(loans_data)"
   ]
  },
  {
   "cell_type": "markdown",
   "metadata": {},
   "source": [
    "**Note:** There are many approaches for dealing with imbalanced data, including some where we modify the learning algorithm. These approaches are beyond the scope of this course, but some of them are reviewed in this [paper](http://ieeexplore.ieee.org/xpl/login.jsp?tp=&arnumber=5128907&url=http%3A%2F%2Fieeexplore.ieee.org%2Fiel5%2F69%2F5173046%2F05128907.pdf%3Farnumber%3D5128907 ). For this assignment, we use the simplest possible approach, where we subsample the overly represented class to get a more balanced dataset. In general, and especially when the data is highly imbalanced, we recommend using more advanced methods."
   ]
  },
  {
   "cell_type": "markdown",
   "metadata": {},
   "source": [
    "### Transform categorical data into binary features"
   ]
  },
  {
   "cell_type": "markdown",
   "metadata": {},
   "source": [
    "In this assignment, we will work with **binary decision trees**. Since all of our features are currently categorical features, we want to turn them into binary features using 1-hot encoding. \n",
    "\n",
    "We can do so with the following code block (see the first assignments for more details):"
   ]
  },
  {
   "cell_type": "code",
   "execution_count": 6,
   "metadata": {
    "collapsed": true
   },
   "outputs": [],
   "source": [
    "loans_data = risky_loans.append(safe_loans)\n",
    "for feature in features:\n",
    "    loans_data_one_hot_encoded = loans_data[feature].apply(lambda x: {x: 1})    \n",
    "    loans_data_unpacked = loans_data_one_hot_encoded.unpack(column_name_prefix=feature)\n",
    "    \n",
    "    # Change None's to 0's\n",
    "    for column in loans_data_unpacked.column_names():\n",
    "        loans_data_unpacked[column] = loans_data_unpacked[column].fillna(0)\n",
    "\n",
    "    loans_data.remove_column(feature)\n",
    "    loans_data.add_columns(loans_data_unpacked)"
   ]
  },
  {
   "cell_type": "markdown",
   "metadata": {},
   "source": [
    "Let's see what the feature columns look like now:"
   ]
  },
  {
   "cell_type": "code",
   "execution_count": 7,
   "metadata": {
    "collapsed": false
   },
   "outputs": [
    {
     "data": {
      "text/plain": [
       "['grade.A',\n",
       " 'grade.B',\n",
       " 'grade.C',\n",
       " 'grade.D',\n",
       " 'grade.E',\n",
       " 'grade.F',\n",
       " 'grade.G',\n",
       " 'term. 36 months',\n",
       " 'term. 60 months',\n",
       " 'home_ownership.MORTGAGE',\n",
       " 'home_ownership.OTHER',\n",
       " 'home_ownership.OWN',\n",
       " 'home_ownership.RENT',\n",
       " 'emp_length.1 year',\n",
       " 'emp_length.10+ years',\n",
       " 'emp_length.2 years',\n",
       " 'emp_length.3 years',\n",
       " 'emp_length.4 years',\n",
       " 'emp_length.5 years',\n",
       " 'emp_length.6 years',\n",
       " 'emp_length.7 years',\n",
       " 'emp_length.8 years',\n",
       " 'emp_length.9 years',\n",
       " 'emp_length.< 1 year',\n",
       " 'emp_length.n/a']"
      ]
     },
     "execution_count": 7,
     "metadata": {},
     "output_type": "execute_result"
    }
   ],
   "source": [
    "features = loans_data.column_names()\n",
    "features.remove('safe_loans')  # Remove the response variable\n",
    "features"
   ]
  },
  {
   "cell_type": "markdown",
   "metadata": {},
   "source": [
    "### Train-test split\n",
    "\n",
    "We split the data into training and test sets with 80% of the data in the training set and 20% of the data in the test set. We use `seed=1` so that everyone gets the same result."
   ]
  },
  {
   "cell_type": "code",
   "execution_count": 8,
   "metadata": {
    "collapsed": true
   },
   "outputs": [],
   "source": [
    "train_data, test_data = loans_data.random_split(0.8, seed=1)"
   ]
  },
  {
   "cell_type": "markdown",
   "metadata": {},
   "source": [
    "# Weighted decision trees"
   ]
  },
  {
   "cell_type": "markdown",
   "metadata": {},
   "source": [
    "Let's modify our decision tree code from Module 5 to support weighting of individual data points."
   ]
  },
  {
   "cell_type": "markdown",
   "metadata": {},
   "source": [
    "### Weighted error definition\n",
    "\n",
    "Consider a model with $N$ data points with:\n",
    "* Predictions $\\hat{y}_1 ... \\hat{y}_n$ \n",
    "* Target $y_1 ... y_n$ \n",
    "* Data point weights $\\alpha_1 ... \\alpha_n$.\n",
    "\n",
    "Then the **weighted error** is defined by:\n",
    "$$\n",
    "\\mathrm{E}(\\mathbf{\\alpha}, \\mathbf{\\hat{y}}) = \\frac{\\sum_{i=1}^{n} \\alpha_i \\times 1[y_i \\neq \\hat{y_i}]}{\\sum_{i=1}^{n} \\alpha_i}\n",
    "$$\n",
    "where $1[y_i \\neq \\hat{y_i}]$ is an indicator function that is set to $1$ if $y_i \\neq \\hat{y_i}$.\n",
    "\n",
    "\n",
    "### Write a function to compute weight of mistakes\n",
    "\n",
    "Write a function that calculates the weight of mistakes for making the \"weighted-majority\" predictions for a dataset. The function accepts two inputs:\n",
    "* `labels_in_node`: Targets $y_1 ... y_n$ \n",
    "* `data_weights`: Data point weights $\\alpha_1 ... \\alpha_n$\n",
    "\n",
    "We are interested in computing the (total) weight of mistakes, i.e.\n",
    "$$\n",
    "\\mathrm{WM}(\\mathbf{\\alpha}, \\mathbf{\\hat{y}}) = \\sum_{i=1}^{n} \\alpha_i \\times 1[y_i \\neq \\hat{y_i}].\n",
    "$$\n",
    "This quantity is analogous to the number of mistakes, except that each mistake now carries different weight. It is related to the weighted error in the following way:\n",
    "$$\n",
    "\\mathrm{E}(\\mathbf{\\alpha}, \\mathbf{\\hat{y}}) = \\frac{\\mathrm{WM}(\\mathbf{\\alpha}, \\mathbf{\\hat{y}})}{\\sum_{i=1}^{n} \\alpha_i}\n",
    "$$\n",
    "\n",
    "The function **intermediate_node_weighted_mistakes** should first compute two weights: \n",
    " * $\\mathrm{WM}_{-1}$: weight of mistakes when all predictions are $\\hat{y}_i = -1$ i.e $\\mathrm{WM}(\\mathbf{\\alpha}, \\mathbf{-1}$)\n",
    " * $\\mathrm{WM}_{+1}$: weight of mistakes when all predictions are $\\hat{y}_i = +1$ i.e $\\mbox{WM}(\\mathbf{\\alpha}, \\mathbf{+1}$)\n",
    " \n",
    " where $\\mathbf{-1}$ and $\\mathbf{+1}$ are vectors where all values are -1 and +1 respectively.\n",
    " \n",
    "After computing $\\mathrm{WM}_{-1}$ and $\\mathrm{WM}_{+1}$, the function **intermediate_node_weighted_mistakes** should return the lower of the two weights of mistakes, along with the class associated with that weight. We have provided a skeleton for you with `YOUR CODE HERE` to be filled in several places."
   ]
  },
  {
   "cell_type": "code",
   "execution_count": 9,
   "metadata": {
    "collapsed": true
   },
   "outputs": [],
   "source": [
    "def intermediate_node_weighted_mistakes(labels_in_node, data_weights):\n",
    "    # Sum the weights of all entries with label +1\n",
    "    total_weight_positive = sum(data_weights[labels_in_node == +1])\n",
    "    \n",
    "    # Weight of mistakes for predicting all -1's is equal to the sum above\n",
    "    ### YOUR CODE HERE\n",
    "    weighted_mistakes_all_negative = total_weight_positive\n",
    "    \n",
    "    # Sum the weights of all entries with label -1\n",
    "    ### YOUR CODE HERE\n",
    "    total_weight_negative = sum(data_weights[labels_in_node == -1])\n",
    "    \n",
    "    # Weight of mistakes for predicting all +1's is equal to the sum above\n",
    "    ### YOUR CODE HERE\n",
    "    weighted_mistakes_all_positive = total_weight_negative\n",
    "    \n",
    "    # Return the tuple (weight, class_label) representing the lower of the two weights\n",
    "    #    class_label should be an integer of value +1 or -1.\n",
    "    # If the two weights are identical, return (weighted_mistakes_all_positive,+1)\n",
    "    ### YOUR CODE HERE\n",
    "    if weighted_mistakes_all_negative >= weighted_mistakes_all_positive:\n",
    "        return (weighted_mistakes_all_positive, +1)\n",
    "    else:\n",
    "        return (weighted_mistakes_all_negative, -1)"
   ]
  },
  {
   "cell_type": "markdown",
   "metadata": {},
   "source": [
    "**Checkpoint:** Test your **intermediate_node_weighted_mistakes** function, run the following cell:"
   ]
  },
  {
   "cell_type": "code",
   "execution_count": 10,
   "metadata": {
    "collapsed": false
   },
   "outputs": [
    {
     "name": "stdout",
     "output_type": "stream",
     "text": [
      "Test passed!\n"
     ]
    }
   ],
   "source": [
    "example_labels = graphlab.SArray([-1, -1, 1, 1, 1])\n",
    "example_data_weights = graphlab.SArray([1., 2., .5, 1., 1.])\n",
    "if intermediate_node_weighted_mistakes(example_labels, example_data_weights) == (2.5, -1):\n",
    "    print 'Test passed!'\n",
    "else:\n",
    "    print 'Test failed... try again!'"
   ]
  },
  {
   "cell_type": "markdown",
   "metadata": {},
   "source": [
    "Recall that the **classification error** is defined as follows:\n",
    "$$\n",
    "\\mbox{classification error} = \\frac{\\mbox{# mistakes}}{\\mbox{# all data points}}\n",
    "$$\n",
    "\n",
    "**Quiz Question:** If we set the weights $\\mathbf{\\alpha} = 1$ for all data points, how is the weight of mistakes $\\mbox{WM}(\\mathbf{\\alpha}, \\mathbf{\\hat{y}})$ related to the `classification error`?"
   ]
  },
  {
   "cell_type": "markdown",
   "metadata": {},
   "source": [
    "### Function to pick best feature to split on"
   ]
  },
  {
   "cell_type": "markdown",
   "metadata": {
    "collapsed": false
   },
   "source": [
    "We continue modifying our decision tree code from the earlier assignment to incorporate weighting of individual data points. The next step is to pick the best feature to split on.\n",
    "\n",
    "The **best_splitting_feature** function is similar to the one from the earlier assignment with two minor modifications:\n",
    "  1. The function **best_splitting_feature** should now accept an extra parameter `data_weights` to take account of weights of data points.\n",
    "  2. Instead of computing the number of mistakes in the left and right side of the split, we compute the weight of mistakes for both sides, add up the two weights, and divide it by the total weight of the data.\n",
    "  \n",
    "Complete the following function. Comments starting with `DIFFERENT HERE` mark the sections where the weighted version differs from the original implementation."
   ]
  },
  {
   "cell_type": "code",
   "execution_count": 24,
   "metadata": {
    "collapsed": false
   },
   "outputs": [],
   "source": [
    "# If the data is identical in each feature, this function should return None\n",
    "\n",
    "def best_splitting_feature(data, features, target, data_weights):\n",
    "    \n",
    "    # These variables will keep track of the best feature and the corresponding error\n",
    "    best_feature = None\n",
    "    best_error = float('+inf') \n",
    "    num_points = float(len(data))\n",
    "\n",
    "    # Loop through each feature to consider splitting on that feature\n",
    "    for feature in features:\n",
    "        \n",
    "        # The left split will have all data points where the feature value is 0\n",
    "        # The right split will have all data points where the feature value is 1\n",
    "        left_split = data[data[feature] == 0]\n",
    "        right_split = data[data[feature] == 1]\n",
    "        \n",
    "        # Apply the same filtering to data_weights to create left_data_weights, right_data_weights\n",
    "        ## YOUR CODE HERE\n",
    "        left_data_weights = data_weights[data[feature] == 0]\n",
    "        right_data_weights = data_weights[data[feature] == 1]\n",
    "                    \n",
    "        # DIFFERENT HERE\n",
    "        # Calculate the weight of mistakes for left and right sides\n",
    "        ## YOUR CODE HERE\n",
    "        left_weighted_mistakes, left_class = intermediate_node_weighted_mistakes(left_split[target], left_data_weights)\n",
    "        right_weighted_mistakes, right_class = intermediate_node_weighted_mistakes(right_split[target], right_data_weights)\n",
    "        \n",
    "        # DIFFERENT HERE\n",
    "        # Compute weighted error by computing\n",
    "        #  ( [weight of mistakes (left)] + [weight of mistakes (right)] ) / [total weight of all data points]\n",
    "        ## YOUR CODE HERE\n",
    "        error = (left_weighted_mistakes + right_weighted_mistakes)/float(sum(data_weights))\n",
    "        \n",
    "        # If this is the best error we have found so far, store the feature and the error\n",
    "        if error < best_error:\n",
    "            best_feature = feature\n",
    "            best_error = error\n",
    "    \n",
    "    # Return the best feature we found\n",
    "    return best_feature"
   ]
  },
  {
   "cell_type": "markdown",
   "metadata": {},
   "source": [
    "**Checkpoint:** Now, we have another checkpoint to make sure you are on the right track."
   ]
  },
  {
   "cell_type": "code",
   "execution_count": 25,
   "metadata": {
    "collapsed": false
   },
   "outputs": [
    {
     "name": "stdout",
     "output_type": "stream",
     "text": [
      "Test passed!\n"
     ]
    }
   ],
   "source": [
    "example_data_weights = graphlab.SArray(len(train_data)* [1.5])\n",
    "if best_splitting_feature(train_data, features, target, example_data_weights) == 'term. 36 months':\n",
    "    print 'Test passed!'\n",
    "else:\n",
    "    print 'Test failed... try again!'"
   ]
  },
  {
   "cell_type": "markdown",
   "metadata": {},
   "source": [
    "**Note**. If you get an exception in the line of \"the logical filter has different size than the array\", try upgradting your GraphLab Create installation to 1.8.3 or newer."
   ]
  },
  {
   "cell_type": "markdown",
   "metadata": {},
   "source": [
    "**Very Optional**. Relationship between weighted error and weight of mistakes\n",
    "\n",
    "By definition, the weighted error is the weight of mistakes divided by the weight of all data points, so\n",
    "$$\n",
    "\\mathrm{E}(\\mathbf{\\alpha}, \\mathbf{\\hat{y}}) = \\frac{\\sum_{i=1}^{n} \\alpha_i \\times 1[y_i \\neq \\hat{y_i}]}{\\sum_{i=1}^{n} \\alpha_i} = \\frac{\\mathrm{WM}(\\mathbf{\\alpha}, \\mathbf{\\hat{y}})}{\\sum_{i=1}^{n} \\alpha_i}.\n",
    "$$\n",
    "\n",
    "In the code above, we obtain $\\mathrm{E}(\\mathbf{\\alpha}, \\mathbf{\\hat{y}})$ from the two weights of mistakes from both sides, $\\mathrm{WM}(\\mathbf{\\alpha}_{\\mathrm{left}}, \\mathbf{\\hat{y}}_{\\mathrm{left}})$ and $\\mathrm{WM}(\\mathbf{\\alpha}_{\\mathrm{right}}, \\mathbf{\\hat{y}}_{\\mathrm{right}})$. First, notice that the overall weight of mistakes $\\mathrm{WM}(\\mathbf{\\alpha}, \\mathbf{\\hat{y}})$ can be broken into two weights of mistakes over either side of the split:\n",
    "$$\n",
    "\\mathrm{WM}(\\mathbf{\\alpha}, \\mathbf{\\hat{y}})\n",
    "= \\sum_{i=1}^{n} \\alpha_i \\times 1[y_i \\neq \\hat{y_i}]\n",
    "= \\sum_{\\mathrm{left}} \\alpha_i \\times 1[y_i \\neq \\hat{y_i}]\n",
    " + \\sum_{\\mathrm{right}} \\alpha_i \\times 1[y_i \\neq \\hat{y_i}]\\\\\n",
    "= \\mathrm{WM}(\\mathbf{\\alpha}_{\\mathrm{left}}, \\mathbf{\\hat{y}}_{\\mathrm{left}}) + \\mathrm{WM}(\\mathbf{\\alpha}_{\\mathrm{right}}, \\mathbf{\\hat{y}}_{\\mathrm{right}})\n",
    "$$\n",
    "We then divide through by the total weight of all data points to obtain $\\mathrm{E}(\\mathbf{\\alpha}, \\mathbf{\\hat{y}})$:\n",
    "$$\n",
    "\\mathrm{E}(\\mathbf{\\alpha}, \\mathbf{\\hat{y}})\n",
    "= \\frac{\\mathrm{WM}(\\mathbf{\\alpha}_{\\mathrm{left}}, \\mathbf{\\hat{y}}_{\\mathrm{left}}) + \\mathrm{WM}(\\mathbf{\\alpha}_{\\mathrm{right}}, \\mathbf{\\hat{y}}_{\\mathrm{right}})}{\\sum_{i=1}^{n} \\alpha_i}\n",
    "$$"
   ]
  },
  {
   "cell_type": "markdown",
   "metadata": {},
   "source": [
    "### Building the tree\n",
    "\n",
    "With the above functions implemented correctly, we are now ready to build our decision tree. Recall from the previous assignments that each node in the decision tree is represented as a dictionary which contains the following keys:\n",
    "\n",
    "    { \n",
    "       'is_leaf'            : True/False.\n",
    "       'prediction'         : Prediction at the leaf node.\n",
    "       'left'               : (dictionary corresponding to the left tree).\n",
    "       'right'              : (dictionary corresponding to the right tree).\n",
    "       'features_remaining' : List of features that are posible splits.\n",
    "    }\n",
    "    \n",
    "Let us start with a function that creates a leaf node given a set of target values:"
   ]
  },
  {
   "cell_type": "code",
   "execution_count": 26,
   "metadata": {
    "collapsed": true
   },
   "outputs": [],
   "source": [
    "def create_leaf(target_values, data_weights):\n",
    "    \n",
    "    # Create a leaf node\n",
    "    leaf = {'splitting_feature' : None,\n",
    "            'is_leaf': True}\n",
    "    \n",
    "    # Computed weight of mistakes.\n",
    "    weighted_error, best_class = intermediate_node_weighted_mistakes(target_values, data_weights)\n",
    "    # Store the predicted class (1 or -1) in leaf['prediction']\n",
    "    leaf['prediction'] = best_class ## YOUR CODE HERE\n",
    "    \n",
    "    return leaf "
   ]
  },
  {
   "cell_type": "markdown",
   "metadata": {},
   "source": [
    "We provide a function that learns a weighted decision tree recursively and implements 3 stopping conditions:\n",
    "1. All data points in a node are from the same class.\n",
    "2. No more features to split on.\n",
    "3. Stop growing the tree when the tree depth reaches **max_depth**. "
   ]
  },
  {
   "cell_type": "code",
   "execution_count": 27,
   "metadata": {
    "collapsed": false
   },
   "outputs": [],
   "source": [
    "def weighted_decision_tree_create(data, features, target, data_weights, current_depth = 1, max_depth = 10):\n",
    "    remaining_features = features[:] # Make a copy of the features.\n",
    "    target_values = data[target]\n",
    "    print \"--------------------------------------------------------------------\"\n",
    "    print \"Subtree, depth = %s (%s data points).\" % (current_depth, len(target_values))\n",
    "    \n",
    "    # Stopping condition 1. Error is 0.\n",
    "    if intermediate_node_weighted_mistakes(target_values, data_weights)[0] <= 1e-15:\n",
    "        print \"Stopping condition 1 reached.\"                \n",
    "        return create_leaf(target_values, data_weights)\n",
    "    \n",
    "    # Stopping condition 2. No more features.\n",
    "    if remaining_features == []:\n",
    "        print \"Stopping condition 2 reached.\"                \n",
    "        return create_leaf(target_values, data_weights)    \n",
    "    \n",
    "    # Additional stopping condition (limit tree depth)\n",
    "    if current_depth > max_depth:\n",
    "        print \"Reached maximum depth. Stopping for now.\"\n",
    "        return create_leaf(target_values, data_weights)\n",
    "    \n",
    "    # If all the datapoints are the same, splitting_feature will be None. Create a leaf\n",
    "    splitting_feature = best_splitting_feature(data, features, target, data_weights)\n",
    "    remaining_features.remove(splitting_feature)\n",
    "        \n",
    "    left_split = data[data[splitting_feature] == 0]\n",
    "    right_split = data[data[splitting_feature] == 1]\n",
    "    \n",
    "    left_data_weights = data_weights[data[splitting_feature] == 0]\n",
    "    right_data_weights = data_weights[data[splitting_feature] == 1]\n",
    "    \n",
    "    print \"Split on feature %s. (%s, %s)\" % (\\\n",
    "              splitting_feature, len(left_split), len(right_split))\n",
    "    \n",
    "    # Create a leaf node if the split is \"perfect\"\n",
    "    if len(left_split) == len(data):\n",
    "        print \"Creating leaf node.\"\n",
    "        return create_leaf(left_split[target], data_weights)\n",
    "    if len(right_split) == len(data):\n",
    "        print \"Creating leaf node.\"\n",
    "        return create_leaf(right_split[target], data_weights)\n",
    "    \n",
    "    # Repeat (recurse) on left and right subtrees\n",
    "    left_tree = weighted_decision_tree_create(\n",
    "        left_split, remaining_features, target, left_data_weights, current_depth + 1, max_depth)\n",
    "    right_tree = weighted_decision_tree_create(\n",
    "        right_split, remaining_features, target, right_data_weights, current_depth + 1, max_depth)\n",
    "    \n",
    "    return {'is_leaf'          : False, \n",
    "            'prediction'       : None,\n",
    "            'splitting_feature': splitting_feature,\n",
    "            'left'             : left_tree, \n",
    "            'right'            : right_tree}"
   ]
  },
  {
   "cell_type": "markdown",
   "metadata": {},
   "source": [
    "Here is a recursive function to count the nodes in your tree:"
   ]
  },
  {
   "cell_type": "code",
   "execution_count": 28,
   "metadata": {
    "collapsed": false
   },
   "outputs": [],
   "source": [
    "def count_nodes(tree):\n",
    "    if tree['is_leaf']:\n",
    "        return 1\n",
    "    return 1 + count_nodes(tree['left']) + count_nodes(tree['right'])"
   ]
  },
  {
   "cell_type": "markdown",
   "metadata": {},
   "source": [
    "Run the following test code to check your implementation. Make sure you get **'Test passed'** before proceeding."
   ]
  },
  {
   "cell_type": "code",
   "execution_count": 29,
   "metadata": {
    "collapsed": false
   },
   "outputs": [
    {
     "name": "stdout",
     "output_type": "stream",
     "text": [
      "--------------------------------------------------------------------\n",
      "Subtree, depth = 1 (37224 data points).\n",
      "Split on feature term. 36 months. (9223, 28001)\n",
      "--------------------------------------------------------------------\n",
      "Subtree, depth = 2 (9223 data points).\n",
      "Split on feature grade.A. (9122, 101)\n",
      "--------------------------------------------------------------------\n",
      "Subtree, depth = 3 (9122 data points).\n",
      "Reached maximum depth. Stopping for now.\n",
      "--------------------------------------------------------------------\n",
      "Subtree, depth = 3 (101 data points).\n",
      "Reached maximum depth. Stopping for now.\n",
      "--------------------------------------------------------------------\n",
      "Subtree, depth = 2 (28001 data points).\n",
      "Split on feature grade.D. (23300, 4701)\n",
      "--------------------------------------------------------------------\n",
      "Subtree, depth = 3 (23300 data points).\n",
      "Reached maximum depth. Stopping for now.\n",
      "--------------------------------------------------------------------\n",
      "Subtree, depth = 3 (4701 data points).\n",
      "Reached maximum depth. Stopping for now.\n",
      "Test passed!\n"
     ]
    }
   ],
   "source": [
    "example_data_weights = graphlab.SArray([1.0 for i in range(len(train_data))])\n",
    "small_data_decision_tree = weighted_decision_tree_create(train_data, features, target,\n",
    "                                        example_data_weights, max_depth=2)\n",
    "if count_nodes(small_data_decision_tree) == 7:\n",
    "    print 'Test passed!'\n",
    "else:\n",
    "    print 'Test failed... try again!'\n",
    "    print 'Number of nodes found:', count_nodes(small_data_decision_tree)\n",
    "    print 'Number of nodes that should be there: 7' "
   ]
  },
  {
   "cell_type": "markdown",
   "metadata": {},
   "source": [
    "Let us take a quick look at what the trained tree is like. You should get something that looks like the following\n",
    "\n",
    "```\n",
    "{'is_leaf': False,\n",
    "    'left': {'is_leaf': False,\n",
    "        'left': {'is_leaf': True, 'prediction': -1, 'splitting_feature': None},\n",
    "        'prediction': None,\n",
    "        'right': {'is_leaf': True, 'prediction': 1, 'splitting_feature': None},\n",
    "        'splitting_feature': 'grade.A'\n",
    "     },\n",
    "    'prediction': None,\n",
    "    'right': {'is_leaf': False,\n",
    "        'left': {'is_leaf': True, 'prediction': 1, 'splitting_feature': None},\n",
    "        'prediction': None,\n",
    "        'right': {'is_leaf': True, 'prediction': -1, 'splitting_feature': None},\n",
    "        'splitting_feature': 'grade.D'\n",
    "     },\n",
    "     'splitting_feature': 'term. 36 months'\n",
    "}```"
   ]
  },
  {
   "cell_type": "code",
   "execution_count": 30,
   "metadata": {
    "collapsed": false
   },
   "outputs": [
    {
     "data": {
      "text/plain": [
       "{'is_leaf': False,\n",
       " 'left': {'is_leaf': False,\n",
       "  'left': {'is_leaf': True, 'prediction': -1, 'splitting_feature': None},\n",
       "  'prediction': None,\n",
       "  'right': {'is_leaf': True, 'prediction': 1, 'splitting_feature': None},\n",
       "  'splitting_feature': 'grade.A'},\n",
       " 'prediction': None,\n",
       " 'right': {'is_leaf': False,\n",
       "  'left': {'is_leaf': True, 'prediction': 1, 'splitting_feature': None},\n",
       "  'prediction': None,\n",
       "  'right': {'is_leaf': True, 'prediction': -1, 'splitting_feature': None},\n",
       "  'splitting_feature': 'grade.D'},\n",
       " 'splitting_feature': 'term. 36 months'}"
      ]
     },
     "execution_count": 30,
     "metadata": {},
     "output_type": "execute_result"
    }
   ],
   "source": [
    "small_data_decision_tree"
   ]
  },
  {
   "cell_type": "markdown",
   "metadata": {},
   "source": [
    "### Making predictions with a weighted decision tree"
   ]
  },
  {
   "cell_type": "markdown",
   "metadata": {},
   "source": [
    "We give you a function that classifies one data point. It can also return the probability if you want to play around with that as well."
   ]
  },
  {
   "cell_type": "code",
   "execution_count": 31,
   "metadata": {
    "collapsed": true
   },
   "outputs": [],
   "source": [
    "def classify(tree, x, annotate = False):   \n",
    "    # If the node is a leaf node.\n",
    "    if tree['is_leaf']:\n",
    "        if annotate: \n",
    "            print \"At leaf, predicting %s\" % tree['prediction']\n",
    "        return tree['prediction'] \n",
    "    else:\n",
    "        # Split on feature.\n",
    "        split_feature_value = x[tree['splitting_feature']]\n",
    "        if annotate: \n",
    "            print \"Split on %s = %s\" % (tree['splitting_feature'], split_feature_value)\n",
    "        if split_feature_value == 0:\n",
    "            return classify(tree['left'], x, annotate)\n",
    "        else:\n",
    "            return classify(tree['right'], x, annotate)"
   ]
  },
  {
   "cell_type": "markdown",
   "metadata": {},
   "source": [
    "### Evaluating the tree\n",
    "\n",
    "Now, we will write a function to evaluate a decision tree by computing the classification error of the tree on the given dataset.\n",
    "\n",
    "Again, recall that the **classification error** is defined as follows:\n",
    "$$\n",
    "\\mbox{classification error} = \\frac{\\mbox{# mistakes}}{\\mbox{# all data points}}\n",
    "$$\n",
    "\n",
    "The function called **evaluate_classification_error** takes in as input:\n",
    "1. `tree` (as described above)\n",
    "2. `data` (an SFrame)\n",
    "\n",
    "The function does not change because of adding data point weights."
   ]
  },
  {
   "cell_type": "code",
   "execution_count": 32,
   "metadata": {
    "collapsed": true
   },
   "outputs": [],
   "source": [
    "def evaluate_classification_error(tree, data):\n",
    "    # Apply the classify(tree, x) to each row in your data\n",
    "    prediction = data.apply(lambda x: classify(tree, x))\n",
    "    \n",
    "    # Once you've made the predictions, calculate the classification error\n",
    "    return (prediction != data[target]).sum() / float(len(data))"
   ]
  },
  {
   "cell_type": "code",
   "execution_count": 33,
   "metadata": {
    "collapsed": false
   },
   "outputs": [
    {
     "data": {
      "text/plain": [
       "0.3981042654028436"
      ]
     },
     "execution_count": 33,
     "metadata": {},
     "output_type": "execute_result"
    }
   ],
   "source": [
    "evaluate_classification_error(small_data_decision_tree, test_data)"
   ]
  },
  {
   "cell_type": "markdown",
   "metadata": {},
   "source": [
    "### Example: Training a weighted decision tree\n",
    "\n",
    "To build intuition on how weighted data points affect the tree being built, consider the following:\n",
    "\n",
    "Suppose we only care about making good predictions for the **first 10 and last 10 items** in `train_data`, we assign weights:\n",
    "* 1 to the last 10 items \n",
    "* 1 to the first 10 items \n",
    "* and 0 to the rest. \n",
    "\n",
    "Let us fit a weighted decision tree with `max_depth = 2`."
   ]
  },
  {
   "cell_type": "code",
   "execution_count": 34,
   "metadata": {
    "collapsed": false
   },
   "outputs": [
    {
     "name": "stdout",
     "output_type": "stream",
     "text": [
      "--------------------------------------------------------------------\n",
      "Subtree, depth = 1 (37224 data points).\n",
      "Split on feature home_ownership.RENT. (20514, 16710)\n",
      "--------------------------------------------------------------------\n",
      "Subtree, depth = 2 (20514 data points).\n",
      "Split on feature grade.F. (19613, 901)\n",
      "--------------------------------------------------------------------\n",
      "Subtree, depth = 3 (19613 data points).\n",
      "Reached maximum depth. Stopping for now.\n",
      "--------------------------------------------------------------------\n",
      "Subtree, depth = 3 (901 data points).\n",
      "Stopping condition 1 reached.\n",
      "--------------------------------------------------------------------\n",
      "Subtree, depth = 2 (16710 data points).\n",
      "Split on feature grade.D. (13315, 3395)\n",
      "--------------------------------------------------------------------\n",
      "Subtree, depth = 3 (13315 data points).\n",
      "Stopping condition 1 reached.\n",
      "--------------------------------------------------------------------\n",
      "Subtree, depth = 3 (3395 data points).\n",
      "Stopping condition 1 reached.\n"
     ]
    }
   ],
   "source": [
    "# Assign weights\n",
    "example_data_weights = graphlab.SArray([1.] * 10 + [0.]*(len(train_data) - 20) + [1.] * 10)\n",
    "\n",
    "# Train a weighted decision tree model.\n",
    "small_data_decision_tree_subset_20 = weighted_decision_tree_create(train_data, features, target,\n",
    "                         example_data_weights, max_depth=2)"
   ]
  },
  {
   "cell_type": "markdown",
   "metadata": {},
   "source": [
    "Now, we will compute the classification error on the `subset_20`, i.e. the subset of data points whose weight is 1 (namely the first and last 10 data points)."
   ]
  },
  {
   "cell_type": "code",
   "execution_count": 35,
   "metadata": {
    "collapsed": false
   },
   "outputs": [
    {
     "data": {
      "text/plain": [
       "0.05"
      ]
     },
     "execution_count": 35,
     "metadata": {},
     "output_type": "execute_result"
    }
   ],
   "source": [
    "subset_20 = train_data.head(10).append(train_data.tail(10))\n",
    "evaluate_classification_error(small_data_decision_tree_subset_20, subset_20)"
   ]
  },
  {
   "cell_type": "markdown",
   "metadata": {},
   "source": [
    "Now, let us compare the classification error of the model `small_data_decision_tree_subset_20` on the entire test set `train_data`:"
   ]
  },
  {
   "cell_type": "code",
   "execution_count": 36,
   "metadata": {
    "collapsed": false
   },
   "outputs": [
    {
     "data": {
      "text/plain": [
       "0.48124865678057166"
      ]
     },
     "execution_count": 36,
     "metadata": {},
     "output_type": "execute_result"
    }
   ],
   "source": [
    "evaluate_classification_error(small_data_decision_tree_subset_20, train_data)"
   ]
  },
  {
   "cell_type": "markdown",
   "metadata": {},
   "source": [
    "The model `small_data_decision_tree_subset_20` performs **a lot** better on `subset_20` than on `train_data`.\n",
    "\n",
    "So, what does this mean?\n",
    "* The points with higher weights are the ones that are more important during the training process of the weighted decision tree.\n",
    "* The points with zero weights are basically ignored during training.\n",
    "\n",
    "**Quiz Question**: Will you get the same model as `small_data_decision_tree_subset_20` if you trained a decision tree with only the 20 data points with non-zero weights from the set of points in `subset_20`?"
   ]
  },
  {
   "cell_type": "markdown",
   "metadata": {},
   "source": [
    "# Implementing your own Adaboost (on decision stumps)"
   ]
  },
  {
   "cell_type": "markdown",
   "metadata": {},
   "source": [
    "Now that we have a weighted decision tree working, it takes only a bit of work to implement Adaboost. For the sake of simplicity, let us stick with **decision tree stumps** by training trees with **`max_depth=1`**."
   ]
  },
  {
   "cell_type": "markdown",
   "metadata": {},
   "source": [
    "Recall from the lecture the procedure for Adaboost:\n",
    "\n",
    "1\\. Start with unweighted data with $\\alpha_j = 1$\n",
    "\n",
    "2\\. For t = 1,...T:\n",
    "  * Learn $f_t(x)$ with data weights $\\alpha_j$\n",
    "  * Compute coefficient $\\hat{w}_t$:\n",
    "     $$\\hat{w}_t = \\frac{1}{2}\\ln{\\left(\\frac{1- \\mbox{E}(\\mathbf{\\alpha}, \\mathbf{\\hat{y}})}{\\mbox{E}(\\mathbf{\\alpha}, \\mathbf{\\hat{y}})}\\right)}$$\n",
    "  * Re-compute weights $\\alpha_j$:\n",
    "     $$\\alpha_j \\gets \\begin{cases}\n",
    "     \\alpha_j \\exp{(-\\hat{w}_t)} & \\text{ if }f_t(x_j) = y_j\\\\\n",
    "     \\alpha_j \\exp{(\\hat{w}_t)} & \\text{ if }f_t(x_j) \\neq y_j\n",
    "     \\end{cases}$$\n",
    "  * Normalize weights $\\alpha_j$:\n",
    "      $$\\alpha_j \\gets \\frac{\\alpha_j}{\\sum_{i=1}^{N}{\\alpha_i}} $$\n",
    "  \n",
    "Complete the skeleton for the following code to implement **adaboost_with_tree_stumps**. Fill in the places with `YOUR CODE HERE`."
   ]
  },
  {
   "cell_type": "code",
   "execution_count": 48,
   "metadata": {
    "collapsed": false
   },
   "outputs": [],
   "source": [
    "from math import log\n",
    "from math import exp\n",
    "\n",
    "def adaboost_with_tree_stumps(data, features, target, num_tree_stumps):\n",
    "    # start with unweighted data\n",
    "    alpha = graphlab.SArray([1.]*len(data))\n",
    "    weights = []\n",
    "    tree_stumps = []\n",
    "    target_values = data[target]\n",
    "    \n",
    "    for t in xrange(num_tree_stumps):\n",
    "        print '====================================================='\n",
    "        print 'Adaboost Iteration %d' % t\n",
    "        print '====================================================='        \n",
    "        # Learn a weighted decision tree stump. Use max_depth=1\n",
    "        tree_stump = weighted_decision_tree_create(data, features, target, data_weights=alpha, max_depth=1)\n",
    "        tree_stumps.append(tree_stump)\n",
    "        \n",
    "        # Make predictions\n",
    "        predictions = data.apply(lambda x: classify(tree_stump, x))\n",
    "        \n",
    "        # Produce a Boolean array indicating whether\n",
    "        # each data point was correctly classified\n",
    "        is_correct = predictions == target_values\n",
    "        is_wrong   = predictions != target_values\n",
    "        \n",
    "        # Compute weighted error\n",
    "        # YOUR CODE HERE\n",
    "        weighted_error = sum(alpha[is_wrong])/sum(alpha)\n",
    "        \n",
    "        # Compute model coefficient using weighted error\n",
    "        # YOUR CODE HERE\n",
    "        weight = 0.5*log((1 - weighted_error)/float(weighted_error))\n",
    "        weights.append(weight)\n",
    "        \n",
    "        # Adjust weights on data point\n",
    "        adjustment = is_correct.apply(lambda is_correct : exp(-weight) if is_correct else exp(weight))\n",
    "        \n",
    "        # Scale alpha by multiplying by adjustment \n",
    "        # Then normalize data points weights\n",
    "        ## YOUR CODE HERE \n",
    "        alpha = alpha * adjustment / sum(alpha)\n",
    "    \n",
    "    return weights, tree_stumps"
   ]
  },
  {
   "cell_type": "markdown",
   "metadata": {},
   "source": [
    "### Checking your Adaboost code\n",
    "\n",
    "Train an ensemble of **two** tree stumps and see which features those stumps split on. We will run the algorithm with the following parameters:\n",
    "* `train_data`\n",
    "* `features`\n",
    "* `target`\n",
    "* `num_tree_stumps = 2`"
   ]
  },
  {
   "cell_type": "code",
   "execution_count": 49,
   "metadata": {
    "collapsed": false
   },
   "outputs": [
    {
     "name": "stdout",
     "output_type": "stream",
     "text": [
      "=====================================================\n",
      "Adaboost Iteration 0\n",
      "=====================================================\n",
      "--------------------------------------------------------------------\n",
      "Subtree, depth = 1 (37224 data points).\n",
      "Split on feature term. 36 months. (9223, 28001)\n",
      "--------------------------------------------------------------------\n",
      "Subtree, depth = 2 (9223 data points).\n",
      "Reached maximum depth. Stopping for now.\n",
      "--------------------------------------------------------------------\n",
      "Subtree, depth = 2 (28001 data points).\n",
      "Reached maximum depth. Stopping for now.\n",
      "=====================================================\n",
      "Adaboost Iteration 1\n",
      "=====================================================\n",
      "--------------------------------------------------------------------\n",
      "Subtree, depth = 1 (37224 data points).\n",
      "Split on feature grade.A. (32094, 5130)\n",
      "--------------------------------------------------------------------\n",
      "Subtree, depth = 2 (32094 data points).\n",
      "Reached maximum depth. Stopping for now.\n",
      "--------------------------------------------------------------------\n",
      "Subtree, depth = 2 (5130 data points).\n",
      "Reached maximum depth. Stopping for now.\n"
     ]
    }
   ],
   "source": [
    "stump_weights, tree_stumps = adaboost_with_tree_stumps(train_data, features, target, num_tree_stumps=2)"
   ]
  },
  {
   "cell_type": "code",
   "execution_count": 50,
   "metadata": {
    "collapsed": true
   },
   "outputs": [],
   "source": [
    "def print_stump(tree):\n",
    "    split_name = tree['splitting_feature'] # split_name is something like 'term. 36 months'\n",
    "    if split_name is None:\n",
    "        print \"(leaf, label: %s)\" % tree['prediction']\n",
    "        return None\n",
    "    split_feature, split_value = split_name.split('.')\n",
    "    print '                       root'\n",
    "    print '         |---------------|----------------|'\n",
    "    print '         |                                |'\n",
    "    print '         |                                |'\n",
    "    print '         |                                |'\n",
    "    print '  [{0} == 0]{1}[{0} == 1]    '.format(split_name, ' '*(27-len(split_name)))\n",
    "    print '         |                                |'\n",
    "    print '         |                                |'\n",
    "    print '         |                                |'\n",
    "    print '    (%s)                 (%s)' \\\n",
    "        % (('leaf, label: ' + str(tree['left']['prediction']) if tree['left']['is_leaf'] else 'subtree'),\n",
    "           ('leaf, label: ' + str(tree['right']['prediction']) if tree['right']['is_leaf'] else 'subtree'))"
   ]
  },
  {
   "cell_type": "markdown",
   "metadata": {},
   "source": [
    "Here is what the first stump looks like:"
   ]
  },
  {
   "cell_type": "code",
   "execution_count": 51,
   "metadata": {
    "collapsed": false
   },
   "outputs": [
    {
     "name": "stdout",
     "output_type": "stream",
     "text": [
      "                       root\n",
      "         |---------------|----------------|\n",
      "         |                                |\n",
      "         |                                |\n",
      "         |                                |\n",
      "  [term. 36 months == 0]            [term. 36 months == 1]    \n",
      "         |                                |\n",
      "         |                                |\n",
      "         |                                |\n",
      "    (leaf, label: -1)                 (leaf, label: 1)\n"
     ]
    }
   ],
   "source": [
    "print_stump(tree_stumps[0])"
   ]
  },
  {
   "cell_type": "markdown",
   "metadata": {},
   "source": [
    "Here is what the next stump looks like:"
   ]
  },
  {
   "cell_type": "code",
   "execution_count": 52,
   "metadata": {
    "collapsed": false
   },
   "outputs": [
    {
     "name": "stdout",
     "output_type": "stream",
     "text": [
      "                       root\n",
      "         |---------------|----------------|\n",
      "         |                                |\n",
      "         |                                |\n",
      "         |                                |\n",
      "  [grade.A == 0]                    [grade.A == 1]    \n",
      "         |                                |\n",
      "         |                                |\n",
      "         |                                |\n",
      "    (leaf, label: -1)                 (leaf, label: 1)\n"
     ]
    }
   ],
   "source": [
    "print_stump(tree_stumps[1])"
   ]
  },
  {
   "cell_type": "code",
   "execution_count": 53,
   "metadata": {
    "collapsed": false
   },
   "outputs": [
    {
     "name": "stdout",
     "output_type": "stream",
     "text": [
      "[0.15802933659263743, 0.17682363293605327]\n"
     ]
    }
   ],
   "source": [
    "print stump_weights"
   ]
  },
  {
   "cell_type": "markdown",
   "metadata": {},
   "source": [
    "If your Adaboost is correctly implemented, the following things should be true:\n",
    "\n",
    "* `tree_stumps[0]` should split on **term. 36 months** with the prediction -1 on the left and +1 on the right.\n",
    "* `tree_stumps[1]` should split on **grade.A** with the prediction -1 on the left and +1 on the right.\n",
    "* Weights should be approximately `[0.158, 0.177]` \n",
    "\n",
    "**Reminders**\n",
    "- Stump weights ($\\mathbf{\\hat{w}}$) and data point weights ($\\mathbf{\\alpha}$) are two different concepts.\n",
    "- Stump weights ($\\mathbf{\\hat{w}}$) tell you how important each stump is while making predictions with the entire boosted ensemble.\n",
    "- Data point weights ($\\mathbf{\\alpha}$) tell you how important each data point is while training a decision stump."
   ]
  },
  {
   "cell_type": "markdown",
   "metadata": {},
   "source": [
    "### Training a boosted ensemble of 10 stumps"
   ]
  },
  {
   "cell_type": "markdown",
   "metadata": {},
   "source": [
    "Let us train an ensemble of 10 decision tree stumps with Adaboost. We run the **adaboost_with_tree_stumps** function with the following parameters:\n",
    "* `train_data`\n",
    "* `features`\n",
    "* `target`\n",
    "* `num_tree_stumps = 10`"
   ]
  },
  {
   "cell_type": "code",
   "execution_count": 54,
   "metadata": {
    "collapsed": false,
    "scrolled": true
   },
   "outputs": [
    {
     "name": "stdout",
     "output_type": "stream",
     "text": [
      "=====================================================\n",
      "Adaboost Iteration 0\n",
      "=====================================================\n",
      "--------------------------------------------------------------------\n",
      "Subtree, depth = 1 (37224 data points).\n",
      "Split on feature term. 36 months. (9223, 28001)\n",
      "--------------------------------------------------------------------\n",
      "Subtree, depth = 2 (9223 data points).\n",
      "Reached maximum depth. Stopping for now.\n",
      "--------------------------------------------------------------------\n",
      "Subtree, depth = 2 (28001 data points).\n",
      "Reached maximum depth. Stopping for now.\n",
      "=====================================================\n",
      "Adaboost Iteration 1\n",
      "=====================================================\n",
      "--------------------------------------------------------------------\n",
      "Subtree, depth = 1 (37224 data points).\n",
      "Split on feature grade.A. (32094, 5130)\n",
      "--------------------------------------------------------------------\n",
      "Subtree, depth = 2 (32094 data points).\n",
      "Reached maximum depth. Stopping for now.\n",
      "--------------------------------------------------------------------\n",
      "Subtree, depth = 2 (5130 data points).\n",
      "Reached maximum depth. Stopping for now.\n",
      "=====================================================\n",
      "Adaboost Iteration 2\n",
      "=====================================================\n",
      "--------------------------------------------------------------------\n",
      "Subtree, depth = 1 (37224 data points).\n",
      "Split on feature grade.D. (30465, 6759)\n",
      "--------------------------------------------------------------------\n",
      "Subtree, depth = 2 (30465 data points).\n",
      "Reached maximum depth. Stopping for now.\n",
      "--------------------------------------------------------------------\n",
      "Subtree, depth = 2 (6759 data points).\n",
      "Reached maximum depth. Stopping for now.\n",
      "=====================================================\n",
      "Adaboost Iteration 3\n",
      "=====================================================\n",
      "--------------------------------------------------------------------\n",
      "Subtree, depth = 1 (37224 data points).\n",
      "Split on feature home_ownership.MORTGAGE. (19846, 17378)\n",
      "--------------------------------------------------------------------\n",
      "Subtree, depth = 2 (19846 data points).\n",
      "Reached maximum depth. Stopping for now.\n",
      "--------------------------------------------------------------------\n",
      "Subtree, depth = 2 (17378 data points).\n",
      "Reached maximum depth. Stopping for now.\n",
      "=====================================================\n",
      "Adaboost Iteration 4\n",
      "=====================================================\n",
      "--------------------------------------------------------------------\n",
      "Subtree, depth = 1 (37224 data points).\n",
      "Split on feature grade.B. (26858, 10366)\n",
      "--------------------------------------------------------------------\n",
      "Subtree, depth = 2 (26858 data points).\n",
      "Reached maximum depth. Stopping for now.\n",
      "--------------------------------------------------------------------\n",
      "Subtree, depth = 2 (10366 data points).\n",
      "Reached maximum depth. Stopping for now.\n",
      "=====================================================\n",
      "Adaboost Iteration 5\n",
      "=====================================================\n",
      "--------------------------------------------------------------------\n",
      "Subtree, depth = 1 (37224 data points).\n",
      "Split on feature grade.E. (33815, 3409)\n",
      "--------------------------------------------------------------------\n",
      "Subtree, depth = 2 (33815 data points).\n",
      "Reached maximum depth. Stopping for now.\n",
      "--------------------------------------------------------------------\n",
      "Subtree, depth = 2 (3409 data points).\n",
      "Reached maximum depth. Stopping for now.\n",
      "=====================================================\n",
      "Adaboost Iteration 6\n",
      "=====================================================\n",
      "--------------------------------------------------------------------\n",
      "Subtree, depth = 1 (37224 data points).\n",
      "Split on feature grade.A. (32094, 5130)\n",
      "--------------------------------------------------------------------\n",
      "Subtree, depth = 2 (32094 data points).\n",
      "Reached maximum depth. Stopping for now.\n",
      "--------------------------------------------------------------------\n",
      "Subtree, depth = 2 (5130 data points).\n",
      "Reached maximum depth. Stopping for now.\n",
      "=====================================================\n",
      "Adaboost Iteration 7\n",
      "=====================================================\n",
      "--------------------------------------------------------------------\n",
      "Subtree, depth = 1 (37224 data points).\n",
      "Split on feature grade.F. (35512, 1712)\n",
      "--------------------------------------------------------------------\n",
      "Subtree, depth = 2 (35512 data points).\n",
      "Reached maximum depth. Stopping for now.\n",
      "--------------------------------------------------------------------\n",
      "Subtree, depth = 2 (1712 data points).\n",
      "Reached maximum depth. Stopping for now.\n",
      "=====================================================\n",
      "Adaboost Iteration 8\n",
      "=====================================================\n",
      "--------------------------------------------------------------------\n",
      "Subtree, depth = 1 (37224 data points).\n",
      "Split on feature grade.A. (32094, 5130)\n",
      "--------------------------------------------------------------------\n",
      "Subtree, depth = 2 (32094 data points).\n",
      "Reached maximum depth. Stopping for now.\n",
      "--------------------------------------------------------------------\n",
      "Subtree, depth = 2 (5130 data points).\n",
      "Reached maximum depth. Stopping for now.\n",
      "=====================================================\n",
      "Adaboost Iteration 9\n",
      "=====================================================\n",
      "--------------------------------------------------------------------\n",
      "Subtree, depth = 1 (37224 data points).\n",
      "Split on feature emp_length.n/a. (35781, 1443)\n",
      "--------------------------------------------------------------------\n",
      "Subtree, depth = 2 (35781 data points).\n",
      "Reached maximum depth. Stopping for now.\n",
      "--------------------------------------------------------------------\n",
      "Subtree, depth = 2 (1443 data points).\n",
      "Reached maximum depth. Stopping for now.\n"
     ]
    }
   ],
   "source": [
    "stump_weights, tree_stumps = adaboost_with_tree_stumps(train_data, features, \n",
    "                                target, num_tree_stumps=10)"
   ]
  },
  {
   "cell_type": "markdown",
   "metadata": {},
   "source": [
    "## Making predictions\n",
    "\n",
    "Recall from the lecture that in order to make predictions, we use the following formula:\n",
    "$$\n",
    "\\hat{y} = sign\\left(\\sum_{t=1}^T \\hat{w}_t f_t(x)\\right)\n",
    "$$\n",
    "\n",
    "We need to do the following things:\n",
    "- Compute the predictions $f_t(x)$ using the $t$-th decision tree\n",
    "- Compute $\\hat{w}_t f_t(x)$ by multiplying the `stump_weights` with the predictions $f_t(x)$ from the decision trees\n",
    "- Sum the weighted predictions over each stump in the ensemble.\n",
    "\n",
    "Complete the following skeleton for making predictions:"
   ]
  },
  {
   "cell_type": "code",
   "execution_count": 117,
   "metadata": {
    "collapsed": false
   },
   "outputs": [],
   "source": [
    "def predict_adaboost(stump_weights, tree_stumps, data):\n",
    "    scores = graphlab.SArray([0.]*len(data))\n",
    "    \n",
    "    for i, tree_stump in enumerate(tree_stumps):\n",
    "        predictions = data.apply(lambda x: classify(tree_stump, x))\n",
    "        \n",
    "        # Accumulate predictions on scores array\n",
    "        # YOUR CODE HERE\n",
    "        scores += stump_weights[i] * predictions\n",
    "        \n",
    "    return scores.apply(lambda score : +1 if score > 0 else -1)"
   ]
  },
  {
   "cell_type": "code",
   "execution_count": 118,
   "metadata": {
    "collapsed": false
   },
   "outputs": [
    {
     "name": "stdout",
     "output_type": "stream",
     "text": [
      "Accuracy of 10-component ensemble = 0.623222748815\n"
     ]
    }
   ],
   "source": [
    "predictions = predict_adaboost(stump_weights, tree_stumps, test_data)\n",
    "accuracy = graphlab.evaluation.accuracy(test_data[target], predictions)\n",
    "print 'Accuracy of 10-component ensemble = %s' % accuracy "
   ]
  },
  {
   "cell_type": "markdown",
   "metadata": {},
   "source": [
    "Now, let us take a quick look what the `stump_weights` look like at the end of each iteration of the 10-stump ensemble:"
   ]
  },
  {
   "cell_type": "code",
   "execution_count": 119,
   "metadata": {
    "collapsed": false
   },
   "outputs": [
    {
     "data": {
      "text/plain": [
       "[0.15802933659263743,\n",
       " 0.17682363293605327,\n",
       " 0.09311888971195705,\n",
       " 0.0728888552581495,\n",
       " 0.06706306914131716,\n",
       " 0.06456916961613322,\n",
       " 0.05456055779221647,\n",
       " 0.04351093673354489,\n",
       " 0.028988711500059067,\n",
       " 0.0259625096913776,\n",
       " 0.03077442149249198,\n",
       " 0.02443728597275978,\n",
       " 0.02754746795930101,\n",
       " 0.02217501979794535,\n",
       " 0.017345529206632352,\n",
       " 0.0193341342767334,\n",
       " 0.014652160100807958,\n",
       " 0.019624249376937433,\n",
       " 0.020904230647963512,\n",
       " 0.014384029614748989,\n",
       " 0.017487855788347443,\n",
       " 0.017321692640520515,\n",
       " 0.011341390494246862,\n",
       " 0.017916047935662784,\n",
       " 0.013086015870991802,\n",
       " 0.014564409289955943,\n",
       " 0.0117025799444247,\n",
       " 0.013631478294304916,\n",
       " 0.011495143663985796,\n",
       " 0.011303573315283633]"
      ]
     },
     "execution_count": 119,
     "metadata": {},
     "output_type": "execute_result"
    }
   ],
   "source": [
    "stump_weights"
   ]
  },
  {
   "cell_type": "markdown",
   "metadata": {},
   "source": [
    "**Quiz Question:** Are the weights monotonically decreasing, monotonically increasing, or neither?\n",
    "\n",
    "**Reminder**: Stump weights ($\\mathbf{\\hat{w}}$) tell you how important each stump is while making predictions with the entire boosted ensemble."
   ]
  },
  {
   "cell_type": "markdown",
   "metadata": {},
   "source": [
    "# Performance plots\n",
    "\n",
    "In this section, we will try to reproduce some of the performance plots dicussed in the lecture.\n",
    "\n",
    "### How does accuracy change with adding stumps to the ensemble?\n",
    "\n",
    "We will now train an ensemble with:\n",
    "* `train_data`\n",
    "* `features`\n",
    "* `target`\n",
    "* `num_tree_stumps = 30`\n",
    "\n",
    "Once we are done with this, we will then do the following:\n",
    "* Compute the classification error at the end of each iteration.\n",
    "* Plot a curve of classification error vs iteration.\n",
    "\n",
    "First, lets train the model."
   ]
  },
  {
   "cell_type": "code",
   "execution_count": 87,
   "metadata": {
    "collapsed": false,
    "scrolled": true
   },
   "outputs": [
    {
     "name": "stdout",
     "output_type": "stream",
     "text": [
      "=====================================================\n",
      "Adaboost Iteration 0\n",
      "=====================================================\n",
      "--------------------------------------------------------------------\n",
      "Subtree, depth = 1 (37224 data points).\n",
      "Split on feature term. 36 months. (9223, 28001)\n",
      "--------------------------------------------------------------------\n",
      "Subtree, depth = 2 (9223 data points).\n",
      "Reached maximum depth. Stopping for now.\n",
      "--------------------------------------------------------------------\n",
      "Subtree, depth = 2 (28001 data points).\n",
      "Reached maximum depth. Stopping for now.\n",
      "=====================================================\n",
      "Adaboost Iteration 1\n",
      "=====================================================\n",
      "--------------------------------------------------------------------\n",
      "Subtree, depth = 1 (37224 data points).\n",
      "Split on feature grade.A. (32094, 5130)\n",
      "--------------------------------------------------------------------\n",
      "Subtree, depth = 2 (32094 data points).\n",
      "Reached maximum depth. Stopping for now.\n",
      "--------------------------------------------------------------------\n",
      "Subtree, depth = 2 (5130 data points).\n",
      "Reached maximum depth. Stopping for now.\n",
      "=====================================================\n",
      "Adaboost Iteration 2\n",
      "=====================================================\n",
      "--------------------------------------------------------------------\n",
      "Subtree, depth = 1 (37224 data points).\n",
      "Split on feature grade.D. (30465, 6759)\n",
      "--------------------------------------------------------------------\n",
      "Subtree, depth = 2 (30465 data points).\n",
      "Reached maximum depth. Stopping for now.\n",
      "--------------------------------------------------------------------\n",
      "Subtree, depth = 2 (6759 data points).\n",
      "Reached maximum depth. Stopping for now.\n",
      "=====================================================\n",
      "Adaboost Iteration 3\n",
      "=====================================================\n",
      "--------------------------------------------------------------------\n",
      "Subtree, depth = 1 (37224 data points).\n",
      "Split on feature home_ownership.MORTGAGE. (19846, 17378)\n",
      "--------------------------------------------------------------------\n",
      "Subtree, depth = 2 (19846 data points).\n",
      "Reached maximum depth. Stopping for now.\n",
      "--------------------------------------------------------------------\n",
      "Subtree, depth = 2 (17378 data points).\n",
      "Reached maximum depth. Stopping for now.\n",
      "=====================================================\n",
      "Adaboost Iteration 4\n",
      "=====================================================\n",
      "--------------------------------------------------------------------\n",
      "Subtree, depth = 1 (37224 data points).\n",
      "Split on feature grade.B. (26858, 10366)\n",
      "--------------------------------------------------------------------\n",
      "Subtree, depth = 2 (26858 data points).\n",
      "Reached maximum depth. Stopping for now.\n",
      "--------------------------------------------------------------------\n",
      "Subtree, depth = 2 (10366 data points).\n",
      "Reached maximum depth. Stopping for now.\n",
      "=====================================================\n",
      "Adaboost Iteration 5\n",
      "=====================================================\n",
      "--------------------------------------------------------------------\n",
      "Subtree, depth = 1 (37224 data points).\n",
      "Split on feature grade.E. (33815, 3409)\n",
      "--------------------------------------------------------------------\n",
      "Subtree, depth = 2 (33815 data points).\n",
      "Reached maximum depth. Stopping for now.\n",
      "--------------------------------------------------------------------\n",
      "Subtree, depth = 2 (3409 data points).\n",
      "Reached maximum depth. Stopping for now.\n",
      "=====================================================\n",
      "Adaboost Iteration 6\n",
      "=====================================================\n",
      "--------------------------------------------------------------------\n",
      "Subtree, depth = 1 (37224 data points).\n",
      "Split on feature grade.A. (32094, 5130)\n",
      "--------------------------------------------------------------------\n",
      "Subtree, depth = 2 (32094 data points).\n",
      "Reached maximum depth. Stopping for now.\n",
      "--------------------------------------------------------------------\n",
      "Subtree, depth = 2 (5130 data points).\n",
      "Reached maximum depth. Stopping for now.\n",
      "=====================================================\n",
      "Adaboost Iteration 7\n",
      "=====================================================\n",
      "--------------------------------------------------------------------\n",
      "Subtree, depth = 1 (37224 data points).\n",
      "Split on feature grade.F. (35512, 1712)\n",
      "--------------------------------------------------------------------\n",
      "Subtree, depth = 2 (35512 data points).\n",
      "Reached maximum depth. Stopping for now.\n",
      "--------------------------------------------------------------------\n",
      "Subtree, depth = 2 (1712 data points).\n",
      "Reached maximum depth. Stopping for now.\n",
      "=====================================================\n",
      "Adaboost Iteration 8\n",
      "=====================================================\n",
      "--------------------------------------------------------------------\n",
      "Subtree, depth = 1 (37224 data points).\n",
      "Split on feature grade.A. (32094, 5130)\n",
      "--------------------------------------------------------------------\n",
      "Subtree, depth = 2 (32094 data points).\n",
      "Reached maximum depth. Stopping for now.\n",
      "--------------------------------------------------------------------\n",
      "Subtree, depth = 2 (5130 data points).\n",
      "Reached maximum depth. Stopping for now.\n",
      "=====================================================\n",
      "Adaboost Iteration 9\n",
      "=====================================================\n",
      "--------------------------------------------------------------------\n",
      "Subtree, depth = 1 (37224 data points).\n",
      "Split on feature emp_length.n/a. (35781, 1443)\n",
      "--------------------------------------------------------------------\n",
      "Subtree, depth = 2 (35781 data points).\n",
      "Reached maximum depth. Stopping for now.\n",
      "--------------------------------------------------------------------\n",
      "Subtree, depth = 2 (1443 data points).\n",
      "Reached maximum depth. Stopping for now.\n",
      "=====================================================\n",
      "Adaboost Iteration 10\n",
      "=====================================================\n",
      "--------------------------------------------------------------------\n",
      "Subtree, depth = 1 (37224 data points).\n",
      "Split on feature grade.D. (30465, 6759)\n",
      "--------------------------------------------------------------------\n",
      "Subtree, depth = 2 (30465 data points).\n",
      "Reached maximum depth. Stopping for now.\n",
      "--------------------------------------------------------------------\n",
      "Subtree, depth = 2 (6759 data points).\n",
      "Reached maximum depth. Stopping for now.\n",
      "=====================================================\n",
      "Adaboost Iteration 11\n",
      "=====================================================\n",
      "--------------------------------------------------------------------\n",
      "Subtree, depth = 1 (37224 data points).\n",
      "Split on feature grade.B. (26858, 10366)\n",
      "--------------------------------------------------------------------\n",
      "Subtree, depth = 2 (26858 data points).\n",
      "Reached maximum depth. Stopping for now.\n",
      "--------------------------------------------------------------------\n",
      "Subtree, depth = 2 (10366 data points).\n",
      "Reached maximum depth. Stopping for now.\n",
      "=====================================================\n",
      "Adaboost Iteration 12\n",
      "=====================================================\n",
      "--------------------------------------------------------------------\n",
      "Subtree, depth = 1 (37224 data points).\n",
      "Split on feature emp_length.n/a. (35781, 1443)\n",
      "--------------------------------------------------------------------\n",
      "Subtree, depth = 2 (35781 data points).\n",
      "Reached maximum depth. Stopping for now.\n",
      "--------------------------------------------------------------------\n",
      "Subtree, depth = 2 (1443 data points).\n",
      "Reached maximum depth. Stopping for now.\n",
      "=====================================================\n",
      "Adaboost Iteration 13\n",
      "=====================================================\n",
      "--------------------------------------------------------------------\n",
      "Subtree, depth = 1 (37224 data points).\n",
      "Split on feature emp_length.4 years. (34593, 2631)\n",
      "--------------------------------------------------------------------\n",
      "Subtree, depth = 2 (34593 data points).\n",
      "Reached maximum depth. Stopping for now.\n",
      "--------------------------------------------------------------------\n",
      "Subtree, depth = 2 (2631 data points).\n",
      "Reached maximum depth. Stopping for now.\n",
      "=====================================================\n",
      "Adaboost Iteration 14\n",
      "=====================================================\n",
      "--------------------------------------------------------------------\n",
      "Subtree, depth = 1 (37224 data points).\n",
      "Split on feature emp_length.n/a. (35781, 1443)\n",
      "--------------------------------------------------------------------\n",
      "Subtree, depth = 2 (35781 data points).\n",
      "Reached maximum depth. Stopping for now.\n",
      "--------------------------------------------------------------------\n",
      "Subtree, depth = 2 (1443 data points).\n",
      "Reached maximum depth. Stopping for now.\n",
      "=====================================================\n",
      "Adaboost Iteration 15\n",
      "=====================================================\n",
      "--------------------------------------------------------------------\n",
      "Subtree, depth = 1 (37224 data points).\n",
      "Split on feature grade.C. (27812, 9412)\n",
      "--------------------------------------------------------------------\n",
      "Subtree, depth = 2 (27812 data points).\n",
      "Reached maximum depth. Stopping for now.\n",
      "--------------------------------------------------------------------\n",
      "Subtree, depth = 2 (9412 data points).\n",
      "Reached maximum depth. Stopping for now.\n",
      "=====================================================\n",
      "Adaboost Iteration 16\n",
      "=====================================================\n",
      "--------------------------------------------------------------------\n",
      "Subtree, depth = 1 (37224 data points).\n",
      "Split on feature grade.A. (32094, 5130)\n",
      "--------------------------------------------------------------------\n",
      "Subtree, depth = 2 (32094 data points).\n",
      "Reached maximum depth. Stopping for now.\n",
      "--------------------------------------------------------------------\n",
      "Subtree, depth = 2 (5130 data points).\n",
      "Reached maximum depth. Stopping for now.\n",
      "=====================================================\n",
      "Adaboost Iteration 17\n",
      "=====================================================\n",
      "--------------------------------------------------------------------\n",
      "Subtree, depth = 1 (37224 data points).\n",
      "Split on feature grade.F. (35512, 1712)\n",
      "--------------------------------------------------------------------\n",
      "Subtree, depth = 2 (35512 data points).\n",
      "Reached maximum depth. Stopping for now.\n",
      "--------------------------------------------------------------------\n",
      "Subtree, depth = 2 (1712 data points).\n",
      "Reached maximum depth. Stopping for now.\n",
      "=====================================================\n",
      "Adaboost Iteration 18\n",
      "=====================================================\n",
      "--------------------------------------------------------------------\n",
      "Subtree, depth = 1 (37224 data points).\n",
      "Split on feature term. 36 months. (9223, 28001)\n",
      "--------------------------------------------------------------------\n",
      "Subtree, depth = 2 (9223 data points).\n",
      "Reached maximum depth. Stopping for now.\n",
      "--------------------------------------------------------------------\n",
      "Subtree, depth = 2 (28001 data points).\n",
      "Reached maximum depth. Stopping for now.\n",
      "=====================================================\n",
      "Adaboost Iteration 19\n",
      "=====================================================\n",
      "--------------------------------------------------------------------\n",
      "Subtree, depth = 1 (37224 data points).\n",
      "Split on feature grade.B. (26858, 10366)\n",
      "--------------------------------------------------------------------\n",
      "Subtree, depth = 2 (26858 data points).\n",
      "Reached maximum depth. Stopping for now.\n",
      "--------------------------------------------------------------------\n",
      "Subtree, depth = 2 (10366 data points).\n",
      "Reached maximum depth. Stopping for now.\n",
      "=====================================================\n",
      "Adaboost Iteration 20\n",
      "=====================================================\n",
      "--------------------------------------------------------------------\n",
      "Subtree, depth = 1 (37224 data points).\n",
      "Split on feature emp_length.n/a. (35781, 1443)\n",
      "--------------------------------------------------------------------\n",
      "Subtree, depth = 2 (35781 data points).\n",
      "Reached maximum depth. Stopping for now.\n",
      "--------------------------------------------------------------------\n",
      "Subtree, depth = 2 (1443 data points).\n",
      "Reached maximum depth. Stopping for now.\n",
      "=====================================================\n",
      "Adaboost Iteration 21\n",
      "=====================================================\n",
      "--------------------------------------------------------------------\n",
      "Subtree, depth = 1 (37224 data points).\n",
      "Split on feature grade.D. (30465, 6759)\n",
      "--------------------------------------------------------------------\n",
      "Subtree, depth = 2 (30465 data points).\n",
      "Reached maximum depth. Stopping for now.\n",
      "--------------------------------------------------------------------\n",
      "Subtree, depth = 2 (6759 data points).\n",
      "Reached maximum depth. Stopping for now.\n",
      "=====================================================\n",
      "Adaboost Iteration 22\n",
      "=====================================================\n",
      "--------------------------------------------------------------------\n",
      "Subtree, depth = 1 (37224 data points).\n",
      "Split on feature grade.F. (35512, 1712)\n",
      "--------------------------------------------------------------------\n",
      "Subtree, depth = 2 (35512 data points).\n",
      "Reached maximum depth. Stopping for now.\n",
      "--------------------------------------------------------------------\n",
      "Subtree, depth = 2 (1712 data points).\n",
      "Reached maximum depth. Stopping for now.\n",
      "=====================================================\n",
      "Adaboost Iteration 23\n",
      "=====================================================\n",
      "--------------------------------------------------------------------\n",
      "Subtree, depth = 1 (37224 data points).\n",
      "Split on feature grade.A. (32094, 5130)\n",
      "--------------------------------------------------------------------\n",
      "Subtree, depth = 2 (32094 data points).\n",
      "Reached maximum depth. Stopping for now.\n",
      "--------------------------------------------------------------------\n",
      "Subtree, depth = 2 (5130 data points).\n",
      "Reached maximum depth. Stopping for now.\n",
      "=====================================================\n",
      "Adaboost Iteration 24\n",
      "=====================================================\n",
      "--------------------------------------------------------------------\n",
      "Subtree, depth = 1 (37224 data points).\n",
      "Split on feature emp_length.n/a. (35781, 1443)\n",
      "--------------------------------------------------------------------\n",
      "Subtree, depth = 2 (35781 data points).\n",
      "Reached maximum depth. Stopping for now.\n",
      "--------------------------------------------------------------------\n",
      "Subtree, depth = 2 (1443 data points).\n",
      "Reached maximum depth. Stopping for now.\n",
      "=====================================================\n",
      "Adaboost Iteration 25\n",
      "=====================================================\n",
      "--------------------------------------------------------------------\n",
      "Subtree, depth = 1 (37224 data points).\n",
      "Split on feature emp_length.2 years. (33652, 3572)\n",
      "--------------------------------------------------------------------\n",
      "Subtree, depth = 2 (33652 data points).\n",
      "Reached maximum depth. Stopping for now.\n",
      "--------------------------------------------------------------------\n",
      "Subtree, depth = 2 (3572 data points).\n",
      "Reached maximum depth. Stopping for now.\n",
      "=====================================================\n",
      "Adaboost Iteration 26\n",
      "=====================================================\n",
      "--------------------------------------------------------------------\n",
      "Subtree, depth = 1 (37224 data points).\n",
      "Split on feature grade.F. (35512, 1712)\n",
      "--------------------------------------------------------------------\n",
      "Subtree, depth = 2 (35512 data points).\n",
      "Reached maximum depth. Stopping for now.\n",
      "--------------------------------------------------------------------\n",
      "Subtree, depth = 2 (1712 data points).\n",
      "Reached maximum depth. Stopping for now.\n",
      "=====================================================\n",
      "Adaboost Iteration 27\n",
      "=====================================================\n",
      "--------------------------------------------------------------------\n",
      "Subtree, depth = 1 (37224 data points).\n",
      "Split on feature home_ownership.OWN. (34149, 3075)\n",
      "--------------------------------------------------------------------\n",
      "Subtree, depth = 2 (34149 data points).\n",
      "Reached maximum depth. Stopping for now.\n",
      "--------------------------------------------------------------------\n",
      "Subtree, depth = 2 (3075 data points).\n",
      "Reached maximum depth. Stopping for now.\n",
      "=====================================================\n",
      "Adaboost Iteration 28\n",
      "=====================================================\n",
      "--------------------------------------------------------------------\n",
      "Subtree, depth = 1 (37224 data points).\n",
      "Split on feature emp_length.n/a. (35781, 1443)\n",
      "--------------------------------------------------------------------\n",
      "Subtree, depth = 2 (35781 data points).\n",
      "Reached maximum depth. Stopping for now.\n",
      "--------------------------------------------------------------------\n",
      "Subtree, depth = 2 (1443 data points).\n",
      "Reached maximum depth. Stopping for now.\n",
      "=====================================================\n",
      "Adaboost Iteration 29\n",
      "=====================================================\n",
      "--------------------------------------------------------------------\n",
      "Subtree, depth = 1 (37224 data points).\n",
      "Split on feature grade.C. (27812, 9412)\n",
      "--------------------------------------------------------------------\n",
      "Subtree, depth = 2 (27812 data points).\n",
      "Reached maximum depth. Stopping for now.\n",
      "--------------------------------------------------------------------\n",
      "Subtree, depth = 2 (9412 data points).\n",
      "Reached maximum depth. Stopping for now.\n"
     ]
    }
   ],
   "source": [
    "# this may take a while... \n",
    "stump_weights, tree_stumps = adaboost_with_tree_stumps(train_data, \n",
    "                                 features, target, num_tree_stumps=30)"
   ]
  },
  {
   "cell_type": "markdown",
   "metadata": {},
   "source": [
    "### Computing training error at the end of each iteration\n",
    "\n",
    "Now, we will compute the classification error on the **train_data** and see how it is reduced as trees are added."
   ]
  },
  {
   "cell_type": "code",
   "execution_count": 120,
   "metadata": {
    "collapsed": false
   },
   "outputs": [
    {
     "name": "stdout",
     "output_type": "stream",
     "text": [
      "Iteration 1, training error = 0.421636578551\n",
      "Iteration 2, training error = 0.433430045132\n",
      "Iteration 3, training error = 0.400037610144\n",
      "Iteration 4, training error = 0.400037610144\n",
      "Iteration 5, training error = 0.384724908661\n",
      "Iteration 6, training error = 0.384617451107\n",
      "Iteration 7, training error = 0.382763808296\n",
      "Iteration 8, training error = 0.384617451107\n",
      "Iteration 9, training error = 0.382763808296\n",
      "Iteration 10, training error = 0.384483129164\n",
      "Iteration 11, training error = 0.382736943907\n",
      "Iteration 12, training error = 0.381447453256\n",
      "Iteration 13, training error = 0.381528046422\n",
      "Iteration 14, training error = 0.380560928433\n",
      "Iteration 15, training error = 0.380507199656\n",
      "Iteration 16, training error = 0.378223726628\n",
      "Iteration 17, training error = 0.378277455405\n",
      "Iteration 18, training error = 0.378411777348\n",
      "Iteration 19, training error = 0.378062540297\n",
      "Iteration 20, training error = 0.378761014399\n",
      "Iteration 21, training error = 0.379566946056\n",
      "Iteration 22, training error = 0.378895336342\n",
      "Iteration 23, training error = 0.378895336342\n",
      "Iteration 24, training error = 0.378761014399\n",
      "Iteration 25, training error = 0.378895336342\n",
      "Iteration 26, training error = 0.378975929508\n",
      "Iteration 27, training error = 0.379110251451\n",
      "Iteration 28, training error = 0.378922200731\n",
      "Iteration 29, training error = 0.379029658285\n",
      "Iteration 30, training error = 0.378734150011\n"
     ]
    }
   ],
   "source": [
    "error_all = []\n",
    "for n in xrange(1, 31):\n",
    "    predictions = predict_adaboost(stump_weights[:n], tree_stumps[:n], train_data)\n",
    "    error = 1.0 - graphlab.evaluation.accuracy(train_data[target], predictions)\n",
    "    error_all.append(error)\n",
    "    print \"Iteration %s, training error = %s\" % (n, error_all[n-1])"
   ]
  },
  {
   "cell_type": "markdown",
   "metadata": {},
   "source": [
    "### Visualizing training error vs number of iterations\n",
    "\n",
    "We have provided you with a simple code snippet that plots classification error with the number of iterations. "
   ]
  },
  {
   "cell_type": "code",
   "execution_count": 125,
   "metadata": {
    "collapsed": false
   },
   "outputs": [
    {
     "data": {
      "application/javascript": [
       "/* Put everything inside the global mpl namespace */\n",
       "window.mpl = {};\n",
       "\n",
       "mpl.get_websocket_type = function() {\n",
       "    if (typeof(WebSocket) !== 'undefined') {\n",
       "        return WebSocket;\n",
       "    } else if (typeof(MozWebSocket) !== 'undefined') {\n",
       "        return MozWebSocket;\n",
       "    } else {\n",
       "        alert('Your browser does not have WebSocket support.' +\n",
       "              'Please try Chrome, Safari or Firefox ≥ 6. ' +\n",
       "              'Firefox 4 and 5 are also supported but you ' +\n",
       "              'have to enable WebSockets in about:config.');\n",
       "    };\n",
       "}\n",
       "\n",
       "mpl.figure = function(figure_id, websocket, ondownload, parent_element) {\n",
       "    this.id = figure_id;\n",
       "\n",
       "    this.ws = websocket;\n",
       "\n",
       "    this.supports_binary = (this.ws.binaryType != undefined);\n",
       "\n",
       "    if (!this.supports_binary) {\n",
       "        var warnings = document.getElementById(\"mpl-warnings\");\n",
       "        if (warnings) {\n",
       "            warnings.style.display = 'block';\n",
       "            warnings.textContent = (\n",
       "                \"This browser does not support binary websocket messages. \" +\n",
       "                    \"Performance may be slow.\");\n",
       "        }\n",
       "    }\n",
       "\n",
       "    this.imageObj = new Image();\n",
       "\n",
       "    this.context = undefined;\n",
       "    this.message = undefined;\n",
       "    this.canvas = undefined;\n",
       "    this.rubberband_canvas = undefined;\n",
       "    this.rubberband_context = undefined;\n",
       "    this.format_dropdown = undefined;\n",
       "\n",
       "    this.image_mode = 'full';\n",
       "\n",
       "    this.root = $('<div/>');\n",
       "    this._root_extra_style(this.root)\n",
       "    this.root.attr('style', 'display: inline-block');\n",
       "\n",
       "    $(parent_element).append(this.root);\n",
       "\n",
       "    this._init_header(this);\n",
       "    this._init_canvas(this);\n",
       "    this._init_toolbar(this);\n",
       "\n",
       "    var fig = this;\n",
       "\n",
       "    this.waiting = false;\n",
       "\n",
       "    this.ws.onopen =  function () {\n",
       "            fig.send_message(\"supports_binary\", {value: fig.supports_binary});\n",
       "            fig.send_message(\"send_image_mode\", {});\n",
       "            fig.send_message(\"refresh\", {});\n",
       "        }\n",
       "\n",
       "    this.imageObj.onload = function() {\n",
       "            if (fig.image_mode == 'full') {\n",
       "                // Full images could contain transparency (where diff images\n",
       "                // almost always do), so we need to clear the canvas so that\n",
       "                // there is no ghosting.\n",
       "                fig.context.clearRect(0, 0, fig.canvas.width, fig.canvas.height);\n",
       "            }\n",
       "            fig.context.drawImage(fig.imageObj, 0, 0);\n",
       "        };\n",
       "\n",
       "    this.imageObj.onunload = function() {\n",
       "        this.ws.close();\n",
       "    }\n",
       "\n",
       "    this.ws.onmessage = this._make_on_message_function(this);\n",
       "\n",
       "    this.ondownload = ondownload;\n",
       "}\n",
       "\n",
       "mpl.figure.prototype._init_header = function() {\n",
       "    var titlebar = $(\n",
       "        '<div class=\"ui-dialog-titlebar ui-widget-header ui-corner-all ' +\n",
       "        'ui-helper-clearfix\"/>');\n",
       "    var titletext = $(\n",
       "        '<div class=\"ui-dialog-title\" style=\"width: 100%; ' +\n",
       "        'text-align: center; padding: 3px;\"/>');\n",
       "    titlebar.append(titletext)\n",
       "    this.root.append(titlebar);\n",
       "    this.header = titletext[0];\n",
       "}\n",
       "\n",
       "\n",
       "\n",
       "mpl.figure.prototype._canvas_extra_style = function(canvas_div) {\n",
       "\n",
       "}\n",
       "\n",
       "\n",
       "mpl.figure.prototype._root_extra_style = function(canvas_div) {\n",
       "\n",
       "}\n",
       "\n",
       "mpl.figure.prototype._init_canvas = function() {\n",
       "    var fig = this;\n",
       "\n",
       "    var canvas_div = $('<div/>');\n",
       "\n",
       "    canvas_div.attr('style', 'position: relative; clear: both; outline: 0');\n",
       "\n",
       "    function canvas_keyboard_event(event) {\n",
       "        return fig.key_event(event, event['data']);\n",
       "    }\n",
       "\n",
       "    canvas_div.keydown('key_press', canvas_keyboard_event);\n",
       "    canvas_div.keyup('key_release', canvas_keyboard_event);\n",
       "    this.canvas_div = canvas_div\n",
       "    this._canvas_extra_style(canvas_div)\n",
       "    this.root.append(canvas_div);\n",
       "\n",
       "    var canvas = $('<canvas/>');\n",
       "    canvas.addClass('mpl-canvas');\n",
       "    canvas.attr('style', \"left: 0; top: 0; z-index: 0; outline: 0\")\n",
       "\n",
       "    this.canvas = canvas[0];\n",
       "    this.context = canvas[0].getContext(\"2d\");\n",
       "\n",
       "    var rubberband = $('<canvas/>');\n",
       "    rubberband.attr('style', \"position: absolute; left: 0; top: 0; z-index: 1;\")\n",
       "\n",
       "    var pass_mouse_events = true;\n",
       "\n",
       "    canvas_div.resizable({\n",
       "        start: function(event, ui) {\n",
       "            pass_mouse_events = false;\n",
       "        },\n",
       "        resize: function(event, ui) {\n",
       "            fig.request_resize(ui.size.width, ui.size.height);\n",
       "        },\n",
       "        stop: function(event, ui) {\n",
       "            pass_mouse_events = true;\n",
       "            fig.request_resize(ui.size.width, ui.size.height);\n",
       "        },\n",
       "    });\n",
       "\n",
       "    function mouse_event_fn(event) {\n",
       "        if (pass_mouse_events)\n",
       "            return fig.mouse_event(event, event['data']);\n",
       "    }\n",
       "\n",
       "    rubberband.mousedown('button_press', mouse_event_fn);\n",
       "    rubberband.mouseup('button_release', mouse_event_fn);\n",
       "    // Throttle sequential mouse events to 1 every 20ms.\n",
       "    rubberband.mousemove('motion_notify', mouse_event_fn);\n",
       "\n",
       "    rubberband.mouseenter('figure_enter', mouse_event_fn);\n",
       "    rubberband.mouseleave('figure_leave', mouse_event_fn);\n",
       "\n",
       "    canvas_div.on(\"wheel\", function (event) {\n",
       "        event = event.originalEvent;\n",
       "        event['data'] = 'scroll'\n",
       "        if (event.deltaY < 0) {\n",
       "            event.step = 1;\n",
       "        } else {\n",
       "            event.step = -1;\n",
       "        }\n",
       "        mouse_event_fn(event);\n",
       "    });\n",
       "\n",
       "    canvas_div.append(canvas);\n",
       "    canvas_div.append(rubberband);\n",
       "\n",
       "    this.rubberband = rubberband;\n",
       "    this.rubberband_canvas = rubberband[0];\n",
       "    this.rubberband_context = rubberband[0].getContext(\"2d\");\n",
       "    this.rubberband_context.strokeStyle = \"#000000\";\n",
       "\n",
       "    this._resize_canvas = function(width, height) {\n",
       "        // Keep the size of the canvas, canvas container, and rubber band\n",
       "        // canvas in synch.\n",
       "        canvas_div.css('width', width)\n",
       "        canvas_div.css('height', height)\n",
       "\n",
       "        canvas.attr('width', width);\n",
       "        canvas.attr('height', height);\n",
       "\n",
       "        rubberband.attr('width', width);\n",
       "        rubberband.attr('height', height);\n",
       "    }\n",
       "\n",
       "    // Set the figure to an initial 600x600px, this will subsequently be updated\n",
       "    // upon first draw.\n",
       "    this._resize_canvas(600, 600);\n",
       "\n",
       "    // Disable right mouse context menu.\n",
       "    $(this.rubberband_canvas).bind(\"contextmenu\",function(e){\n",
       "        return false;\n",
       "    });\n",
       "\n",
       "    function set_focus () {\n",
       "        canvas.focus();\n",
       "        canvas_div.focus();\n",
       "    }\n",
       "\n",
       "    window.setTimeout(set_focus, 100);\n",
       "}\n",
       "\n",
       "mpl.figure.prototype._init_toolbar = function() {\n",
       "    var fig = this;\n",
       "\n",
       "    var nav_element = $('<div/>')\n",
       "    nav_element.attr('style', 'width: 100%');\n",
       "    this.root.append(nav_element);\n",
       "\n",
       "    // Define a callback function for later on.\n",
       "    function toolbar_event(event) {\n",
       "        return fig.toolbar_button_onclick(event['data']);\n",
       "    }\n",
       "    function toolbar_mouse_event(event) {\n",
       "        return fig.toolbar_button_onmouseover(event['data']);\n",
       "    }\n",
       "\n",
       "    for(var toolbar_ind in mpl.toolbar_items) {\n",
       "        var name = mpl.toolbar_items[toolbar_ind][0];\n",
       "        var tooltip = mpl.toolbar_items[toolbar_ind][1];\n",
       "        var image = mpl.toolbar_items[toolbar_ind][2];\n",
       "        var method_name = mpl.toolbar_items[toolbar_ind][3];\n",
       "\n",
       "        if (!name) {\n",
       "            // put a spacer in here.\n",
       "            continue;\n",
       "        }\n",
       "        var button = $('<button/>');\n",
       "        button.addClass('ui-button ui-widget ui-state-default ui-corner-all ' +\n",
       "                        'ui-button-icon-only');\n",
       "        button.attr('role', 'button');\n",
       "        button.attr('aria-disabled', 'false');\n",
       "        button.click(method_name, toolbar_event);\n",
       "        button.mouseover(tooltip, toolbar_mouse_event);\n",
       "\n",
       "        var icon_img = $('<span/>');\n",
       "        icon_img.addClass('ui-button-icon-primary ui-icon');\n",
       "        icon_img.addClass(image);\n",
       "        icon_img.addClass('ui-corner-all');\n",
       "\n",
       "        var tooltip_span = $('<span/>');\n",
       "        tooltip_span.addClass('ui-button-text');\n",
       "        tooltip_span.html(tooltip);\n",
       "\n",
       "        button.append(icon_img);\n",
       "        button.append(tooltip_span);\n",
       "\n",
       "        nav_element.append(button);\n",
       "    }\n",
       "\n",
       "    var fmt_picker_span = $('<span/>');\n",
       "\n",
       "    var fmt_picker = $('<select/>');\n",
       "    fmt_picker.addClass('mpl-toolbar-option ui-widget ui-widget-content');\n",
       "    fmt_picker_span.append(fmt_picker);\n",
       "    nav_element.append(fmt_picker_span);\n",
       "    this.format_dropdown = fmt_picker[0];\n",
       "\n",
       "    for (var ind in mpl.extensions) {\n",
       "        var fmt = mpl.extensions[ind];\n",
       "        var option = $(\n",
       "            '<option/>', {selected: fmt === mpl.default_extension}).html(fmt);\n",
       "        fmt_picker.append(option)\n",
       "    }\n",
       "\n",
       "    // Add hover states to the ui-buttons\n",
       "    $( \".ui-button\" ).hover(\n",
       "        function() { $(this).addClass(\"ui-state-hover\");},\n",
       "        function() { $(this).removeClass(\"ui-state-hover\");}\n",
       "    );\n",
       "\n",
       "    var status_bar = $('<span class=\"mpl-message\"/>');\n",
       "    nav_element.append(status_bar);\n",
       "    this.message = status_bar[0];\n",
       "}\n",
       "\n",
       "mpl.figure.prototype.request_resize = function(x_pixels, y_pixels) {\n",
       "    // Request matplotlib to resize the figure. Matplotlib will then trigger a resize in the client,\n",
       "    // which will in turn request a refresh of the image.\n",
       "    this.send_message('resize', {'width': x_pixels, 'height': y_pixels});\n",
       "}\n",
       "\n",
       "mpl.figure.prototype.send_message = function(type, properties) {\n",
       "    properties['type'] = type;\n",
       "    properties['figure_id'] = this.id;\n",
       "    this.ws.send(JSON.stringify(properties));\n",
       "}\n",
       "\n",
       "mpl.figure.prototype.send_draw_message = function() {\n",
       "    if (!this.waiting) {\n",
       "        this.waiting = true;\n",
       "        this.ws.send(JSON.stringify({type: \"draw\", figure_id: this.id}));\n",
       "    }\n",
       "}\n",
       "\n",
       "\n",
       "mpl.figure.prototype.handle_save = function(fig, msg) {\n",
       "    var format_dropdown = fig.format_dropdown;\n",
       "    var format = format_dropdown.options[format_dropdown.selectedIndex].value;\n",
       "    fig.ondownload(fig, format);\n",
       "}\n",
       "\n",
       "\n",
       "mpl.figure.prototype.handle_resize = function(fig, msg) {\n",
       "    var size = msg['size'];\n",
       "    if (size[0] != fig.canvas.width || size[1] != fig.canvas.height) {\n",
       "        fig._resize_canvas(size[0], size[1]);\n",
       "        fig.send_message(\"refresh\", {});\n",
       "    };\n",
       "}\n",
       "\n",
       "mpl.figure.prototype.handle_rubberband = function(fig, msg) {\n",
       "    var x0 = msg['x0'];\n",
       "    var y0 = fig.canvas.height - msg['y0'];\n",
       "    var x1 = msg['x1'];\n",
       "    var y1 = fig.canvas.height - msg['y1'];\n",
       "    x0 = Math.floor(x0) + 0.5;\n",
       "    y0 = Math.floor(y0) + 0.5;\n",
       "    x1 = Math.floor(x1) + 0.5;\n",
       "    y1 = Math.floor(y1) + 0.5;\n",
       "    var min_x = Math.min(x0, x1);\n",
       "    var min_y = Math.min(y0, y1);\n",
       "    var width = Math.abs(x1 - x0);\n",
       "    var height = Math.abs(y1 - y0);\n",
       "\n",
       "    fig.rubberband_context.clearRect(\n",
       "        0, 0, fig.canvas.width, fig.canvas.height);\n",
       "\n",
       "    fig.rubberband_context.strokeRect(min_x, min_y, width, height);\n",
       "}\n",
       "\n",
       "mpl.figure.prototype.handle_figure_label = function(fig, msg) {\n",
       "    // Updates the figure title.\n",
       "    fig.header.textContent = msg['label'];\n",
       "}\n",
       "\n",
       "mpl.figure.prototype.handle_cursor = function(fig, msg) {\n",
       "    var cursor = msg['cursor'];\n",
       "    switch(cursor)\n",
       "    {\n",
       "    case 0:\n",
       "        cursor = 'pointer';\n",
       "        break;\n",
       "    case 1:\n",
       "        cursor = 'default';\n",
       "        break;\n",
       "    case 2:\n",
       "        cursor = 'crosshair';\n",
       "        break;\n",
       "    case 3:\n",
       "        cursor = 'move';\n",
       "        break;\n",
       "    }\n",
       "    fig.rubberband_canvas.style.cursor = cursor;\n",
       "}\n",
       "\n",
       "mpl.figure.prototype.handle_message = function(fig, msg) {\n",
       "    fig.message.textContent = msg['message'];\n",
       "}\n",
       "\n",
       "mpl.figure.prototype.handle_draw = function(fig, msg) {\n",
       "    // Request the server to send over a new figure.\n",
       "    fig.send_draw_message();\n",
       "}\n",
       "\n",
       "mpl.figure.prototype.handle_image_mode = function(fig, msg) {\n",
       "    fig.image_mode = msg['mode'];\n",
       "}\n",
       "\n",
       "mpl.figure.prototype.updated_canvas_event = function() {\n",
       "    // Called whenever the canvas gets updated.\n",
       "    this.send_message(\"ack\", {});\n",
       "}\n",
       "\n",
       "// A function to construct a web socket function for onmessage handling.\n",
       "// Called in the figure constructor.\n",
       "mpl.figure.prototype._make_on_message_function = function(fig) {\n",
       "    return function socket_on_message(evt) {\n",
       "        if (evt.data instanceof Blob) {\n",
       "            /* FIXME: We get \"Resource interpreted as Image but\n",
       "             * transferred with MIME type text/plain:\" errors on\n",
       "             * Chrome.  But how to set the MIME type?  It doesn't seem\n",
       "             * to be part of the websocket stream */\n",
       "            evt.data.type = \"image/png\";\n",
       "\n",
       "            /* Free the memory for the previous frames */\n",
       "            if (fig.imageObj.src) {\n",
       "                (window.URL || window.webkitURL).revokeObjectURL(\n",
       "                    fig.imageObj.src);\n",
       "            }\n",
       "\n",
       "            fig.imageObj.src = (window.URL || window.webkitURL).createObjectURL(\n",
       "                evt.data);\n",
       "            fig.updated_canvas_event();\n",
       "            fig.waiting = false;\n",
       "            return;\n",
       "        }\n",
       "        else if (typeof evt.data === 'string' && evt.data.slice(0, 21) == \"data:image/png;base64\") {\n",
       "            fig.imageObj.src = evt.data;\n",
       "            fig.updated_canvas_event();\n",
       "            fig.waiting = false;\n",
       "            return;\n",
       "        }\n",
       "\n",
       "        var msg = JSON.parse(evt.data);\n",
       "        var msg_type = msg['type'];\n",
       "\n",
       "        // Call the  \"handle_{type}\" callback, which takes\n",
       "        // the figure and JSON message as its only arguments.\n",
       "        try {\n",
       "            var callback = fig[\"handle_\" + msg_type];\n",
       "        } catch (e) {\n",
       "            console.log(\"No handler for the '\" + msg_type + \"' message type: \", msg);\n",
       "            return;\n",
       "        }\n",
       "\n",
       "        if (callback) {\n",
       "            try {\n",
       "                // console.log(\"Handling '\" + msg_type + \"' message: \", msg);\n",
       "                callback(fig, msg);\n",
       "            } catch (e) {\n",
       "                console.log(\"Exception inside the 'handler_\" + msg_type + \"' callback:\", e, e.stack, msg);\n",
       "            }\n",
       "        }\n",
       "    };\n",
       "}\n",
       "\n",
       "// from http://stackoverflow.com/questions/1114465/getting-mouse-location-in-canvas\n",
       "mpl.findpos = function(e) {\n",
       "    //this section is from http://www.quirksmode.org/js/events_properties.html\n",
       "    var targ;\n",
       "    if (!e)\n",
       "        e = window.event;\n",
       "    if (e.target)\n",
       "        targ = e.target;\n",
       "    else if (e.srcElement)\n",
       "        targ = e.srcElement;\n",
       "    if (targ.nodeType == 3) // defeat Safari bug\n",
       "        targ = targ.parentNode;\n",
       "\n",
       "    // jQuery normalizes the pageX and pageY\n",
       "    // pageX,Y are the mouse positions relative to the document\n",
       "    // offset() returns the position of the element relative to the document\n",
       "    var x = e.pageX - $(targ).offset().left;\n",
       "    var y = e.pageY - $(targ).offset().top;\n",
       "\n",
       "    return {\"x\": x, \"y\": y};\n",
       "};\n",
       "\n",
       "/*\n",
       " * return a copy of an object with only non-object keys\n",
       " * we need this to avoid circular references\n",
       " * http://stackoverflow.com/a/24161582/3208463\n",
       " */\n",
       "function simpleKeys (original) {\n",
       "  return Object.keys(original).reduce(function (obj, key) {\n",
       "    if (typeof original[key] !== 'object')\n",
       "        obj[key] = original[key]\n",
       "    return obj;\n",
       "  }, {});\n",
       "}\n",
       "\n",
       "mpl.figure.prototype.mouse_event = function(event, name) {\n",
       "    var canvas_pos = mpl.findpos(event)\n",
       "\n",
       "    if (name === 'button_press')\n",
       "    {\n",
       "        this.canvas.focus();\n",
       "        this.canvas_div.focus();\n",
       "    }\n",
       "\n",
       "    var x = canvas_pos.x;\n",
       "    var y = canvas_pos.y;\n",
       "\n",
       "    this.send_message(name, {x: x, y: y, button: event.button,\n",
       "                             step: event.step,\n",
       "                             guiEvent: simpleKeys(event)});\n",
       "\n",
       "    /* This prevents the web browser from automatically changing to\n",
       "     * the text insertion cursor when the button is pressed.  We want\n",
       "     * to control all of the cursor setting manually through the\n",
       "     * 'cursor' event from matplotlib */\n",
       "    event.preventDefault();\n",
       "    return false;\n",
       "}\n",
       "\n",
       "mpl.figure.prototype._key_event_extra = function(event, name) {\n",
       "    // Handle any extra behaviour associated with a key event\n",
       "}\n",
       "\n",
       "mpl.figure.prototype.key_event = function(event, name) {\n",
       "\n",
       "    // Prevent repeat events\n",
       "    if (name == 'key_press')\n",
       "    {\n",
       "        if (event.which === this._key)\n",
       "            return;\n",
       "        else\n",
       "            this._key = event.which;\n",
       "    }\n",
       "    if (name == 'key_release')\n",
       "        this._key = null;\n",
       "\n",
       "    var value = '';\n",
       "    if (event.ctrlKey && event.which != 17)\n",
       "        value += \"ctrl+\";\n",
       "    if (event.altKey && event.which != 18)\n",
       "        value += \"alt+\";\n",
       "    if (event.shiftKey && event.which != 16)\n",
       "        value += \"shift+\";\n",
       "\n",
       "    value += 'k';\n",
       "    value += event.which.toString();\n",
       "\n",
       "    this._key_event_extra(event, name);\n",
       "\n",
       "    this.send_message(name, {key: value,\n",
       "                             guiEvent: simpleKeys(event)});\n",
       "    return false;\n",
       "}\n",
       "\n",
       "mpl.figure.prototype.toolbar_button_onclick = function(name) {\n",
       "    if (name == 'download') {\n",
       "        this.handle_save(this, null);\n",
       "    } else {\n",
       "        this.send_message(\"toolbar_button\", {name: name});\n",
       "    }\n",
       "};\n",
       "\n",
       "mpl.figure.prototype.toolbar_button_onmouseover = function(tooltip) {\n",
       "    this.message.textContent = tooltip;\n",
       "};\n",
       "mpl.toolbar_items = [[\"Home\", \"Reset original view\", \"fa fa-home icon-home\", \"home\"], [\"Back\", \"Back to  previous view\", \"fa fa-arrow-left icon-arrow-left\", \"back\"], [\"Forward\", \"Forward to next view\", \"fa fa-arrow-right icon-arrow-right\", \"forward\"], [\"\", \"\", \"\", \"\"], [\"Pan\", \"Pan axes with left mouse, zoom with right\", \"fa fa-arrows icon-move\", \"pan\"], [\"Zoom\", \"Zoom to rectangle\", \"fa fa-square-o icon-check-empty\", \"zoom\"], [\"\", \"\", \"\", \"\"], [\"Download\", \"Download plot\", \"fa fa-floppy-o icon-save\", \"download\"]];\n",
       "\n",
       "mpl.extensions = [\"eps\", \"jpeg\", \"pdf\", \"png\", \"ps\", \"raw\", \"svg\", \"tif\"];\n",
       "\n",
       "mpl.default_extension = \"png\";var comm_websocket_adapter = function(comm) {\n",
       "    // Create a \"websocket\"-like object which calls the given IPython comm\n",
       "    // object with the appropriate methods. Currently this is a non binary\n",
       "    // socket, so there is still some room for performance tuning.\n",
       "    var ws = {};\n",
       "\n",
       "    ws.close = function() {\n",
       "        comm.close()\n",
       "    };\n",
       "    ws.send = function(m) {\n",
       "        //console.log('sending', m);\n",
       "        comm.send(m);\n",
       "    };\n",
       "    // Register the callback with on_msg.\n",
       "    comm.on_msg(function(msg) {\n",
       "        //console.log('receiving', msg['content']['data'], msg);\n",
       "        // Pass the mpl event to the overriden (by mpl) onmessage function.\n",
       "        ws.onmessage(msg['content']['data'])\n",
       "    });\n",
       "    return ws;\n",
       "}\n",
       "\n",
       "mpl.mpl_figure_comm = function(comm, msg) {\n",
       "    // This is the function which gets called when the mpl process\n",
       "    // starts-up an IPython Comm through the \"matplotlib\" channel.\n",
       "\n",
       "    var id = msg.content.data.id;\n",
       "    // Get hold of the div created by the display call when the Comm\n",
       "    // socket was opened in Python.\n",
       "    var element = $(\"#\" + id);\n",
       "    var ws_proxy = comm_websocket_adapter(comm)\n",
       "\n",
       "    function ondownload(figure, format) {\n",
       "        window.open(figure.imageObj.src);\n",
       "    }\n",
       "\n",
       "    var fig = new mpl.figure(id, ws_proxy,\n",
       "                           ondownload,\n",
       "                           element.get(0));\n",
       "\n",
       "    // Call onopen now - mpl needs it, as it is assuming we've passed it a real\n",
       "    // web socket which is closed, not our websocket->open comm proxy.\n",
       "    ws_proxy.onopen();\n",
       "\n",
       "    fig.parent_element = element.get(0);\n",
       "    fig.cell_info = mpl.find_output_cell(\"<div id='\" + id + \"'></div>\");\n",
       "    if (!fig.cell_info) {\n",
       "        console.error(\"Failed to find cell for figure\", id, fig);\n",
       "        return;\n",
       "    }\n",
       "\n",
       "    var output_index = fig.cell_info[2]\n",
       "    var cell = fig.cell_info[0];\n",
       "\n",
       "};\n",
       "\n",
       "mpl.figure.prototype.handle_close = function(fig, msg) {\n",
       "    // Update the output cell to use the data from the current canvas.\n",
       "    fig.push_to_output();\n",
       "    var dataURL = fig.canvas.toDataURL();\n",
       "    // Re-enable the keyboard manager in IPython - without this line, in FF,\n",
       "    // the notebook keyboard shortcuts fail.\n",
       "    IPython.keyboard_manager.enable()\n",
       "    $(fig.parent_element).html('<img src=\"' + dataURL + '\">');\n",
       "    fig.send_message('closing', {});\n",
       "    fig.ws.close()\n",
       "}\n",
       "\n",
       "mpl.figure.prototype.push_to_output = function(remove_interactive) {\n",
       "    // Turn the data on the canvas into data in the output cell.\n",
       "    var dataURL = this.canvas.toDataURL();\n",
       "    this.cell_info[1]['text/html'] = '<img src=\"' + dataURL + '\">';\n",
       "}\n",
       "\n",
       "mpl.figure.prototype.updated_canvas_event = function() {\n",
       "    // Tell IPython that the notebook contents must change.\n",
       "    IPython.notebook.set_dirty(true);\n",
       "    this.send_message(\"ack\", {});\n",
       "    var fig = this;\n",
       "    // Wait a second, then push the new image to the DOM so\n",
       "    // that it is saved nicely (might be nice to debounce this).\n",
       "    setTimeout(function () { fig.push_to_output() }, 1000);\n",
       "}\n",
       "\n",
       "mpl.figure.prototype._init_toolbar = function() {\n",
       "    var fig = this;\n",
       "\n",
       "    var nav_element = $('<div/>')\n",
       "    nav_element.attr('style', 'width: 100%');\n",
       "    this.root.append(nav_element);\n",
       "\n",
       "    // Define a callback function for later on.\n",
       "    function toolbar_event(event) {\n",
       "        return fig.toolbar_button_onclick(event['data']);\n",
       "    }\n",
       "    function toolbar_mouse_event(event) {\n",
       "        return fig.toolbar_button_onmouseover(event['data']);\n",
       "    }\n",
       "\n",
       "    for(var toolbar_ind in mpl.toolbar_items){\n",
       "        var name = mpl.toolbar_items[toolbar_ind][0];\n",
       "        var tooltip = mpl.toolbar_items[toolbar_ind][1];\n",
       "        var image = mpl.toolbar_items[toolbar_ind][2];\n",
       "        var method_name = mpl.toolbar_items[toolbar_ind][3];\n",
       "\n",
       "        if (!name) { continue; };\n",
       "\n",
       "        var button = $('<button class=\"btn btn-default\" href=\"#\" title=\"' + name + '\"><i class=\"fa ' + image + ' fa-lg\"></i></button>');\n",
       "        button.click(method_name, toolbar_event);\n",
       "        button.mouseover(tooltip, toolbar_mouse_event);\n",
       "        nav_element.append(button);\n",
       "    }\n",
       "\n",
       "    // Add the status bar.\n",
       "    var status_bar = $('<span class=\"mpl-message\" style=\"text-align:right; float: right;\"/>');\n",
       "    nav_element.append(status_bar);\n",
       "    this.message = status_bar[0];\n",
       "\n",
       "    // Add the close button to the window.\n",
       "    var buttongrp = $('<div class=\"btn-group inline pull-right\"></div>');\n",
       "    var button = $('<button class=\"btn btn-mini btn-danger\" href=\"#\" title=\"Close figure\"><i class=\"fa fa-times icon-remove icon-large\"></i></button>');\n",
       "    button.click(function (evt) { fig.handle_close(fig, {}); } );\n",
       "    button.mouseover('Close figure', toolbar_mouse_event);\n",
       "    buttongrp.append(button);\n",
       "    var titlebar = this.root.find($('.ui-dialog-titlebar'));\n",
       "    titlebar.prepend(buttongrp);\n",
       "}\n",
       "\n",
       "\n",
       "mpl.figure.prototype._canvas_extra_style = function(el){\n",
       "    // this is important to make the div 'focusable\n",
       "    el.attr('tabindex', 0)\n",
       "    // reach out to IPython and tell the keyboard manager to turn it's self\n",
       "    // off when our div gets focus\n",
       "\n",
       "    // location in version 3\n",
       "    if (IPython.notebook.keyboard_manager) {\n",
       "        IPython.notebook.keyboard_manager.register_events(el);\n",
       "    }\n",
       "    else {\n",
       "        // location in version 2\n",
       "        IPython.keyboard_manager.register_events(el);\n",
       "    }\n",
       "\n",
       "}\n",
       "\n",
       "mpl.figure.prototype._key_event_extra = function(event, name) {\n",
       "    var manager = IPython.notebook.keyboard_manager;\n",
       "    if (!manager)\n",
       "        manager = IPython.keyboard_manager;\n",
       "\n",
       "    // Check for shift+enter\n",
       "    if (event.shiftKey && event.which == 13) {\n",
       "        this.canvas_div.blur();\n",
       "        event.shiftKey = false;\n",
       "        // Send a \"J\" for go to next cell\n",
       "        event.which = 74;\n",
       "        event.keyCode = 74;\n",
       "        manager.command_mode();\n",
       "        manager.handle_keydown(event);\n",
       "    }\n",
       "}\n",
       "\n",
       "mpl.figure.prototype.handle_save = function(fig, msg) {\n",
       "    fig.ondownload(fig, null);\n",
       "}\n",
       "\n",
       "\n",
       "mpl.find_output_cell = function(html_output) {\n",
       "    // Return the cell and output element which can be found *uniquely* in the notebook.\n",
       "    // Note - this is a bit hacky, but it is done because the \"notebook_saving.Notebook\"\n",
       "    // IPython event is triggered only after the cells have been serialised, which for\n",
       "    // our purposes (turning an active figure into a static one), is too late.\n",
       "    var cells = IPython.notebook.get_cells();\n",
       "    var ncells = cells.length;\n",
       "    for (var i=0; i<ncells; i++) {\n",
       "        var cell = cells[i];\n",
       "        if (cell.cell_type === 'code'){\n",
       "            for (var j=0; j<cell.output_area.outputs.length; j++) {\n",
       "                var data = cell.output_area.outputs[j];\n",
       "                if (data.data) {\n",
       "                    // IPython >= 3 moved mimebundle to data attribute of output\n",
       "                    data = data.data;\n",
       "                }\n",
       "                if (data['text/html'] == html_output) {\n",
       "                    return [cell, data, j];\n",
       "                }\n",
       "            }\n",
       "        }\n",
       "    }\n",
       "}\n",
       "\n",
       "// Register the function which deals with the matplotlib target/channel.\n",
       "// The kernel may be null if the page has been refreshed.\n",
       "if (IPython.notebook.kernel != null) {\n",
       "    IPython.notebook.kernel.comm_manager.register_target('matplotlib', mpl.mpl_figure_comm);\n",
       "}\n"
      ],
      "text/plain": [
       "<IPython.core.display.Javascript object>"
      ]
     },
     "metadata": {},
     "output_type": "display_data"
    },
    {
     "data": {
      "text/html": [
       "<img src=\"data:image/png;base64,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\">"
      ],
      "text/plain": [
       "<IPython.core.display.HTML object>"
      ]
     },
     "metadata": {},
     "output_type": "display_data"
    }
   ],
   "source": [
    "plt.rcParams['figure.figsize'] = 7, 5\n",
    "plt.plot(range(1,31), error_all, '-', linewidth=4.0, label='Training error')\n",
    "plt.title('Performance of Adaboost ensemble')\n",
    "plt.xlabel('# of iterations')\n",
    "plt.ylabel('Classification error')\n",
    "plt.legend(loc='best', prop={'size':15})\n",
    "\n",
    "plt.rcParams.update({'font.size': 16})"
   ]
  },
  {
   "cell_type": "markdown",
   "metadata": {},
   "source": [
    "**Quiz Question**: Which of the following best describes a **general trend in accuracy** as we add more and more components? Answer based on the 30 components learned so far.\n",
    "\n",
    "1. Training error goes down monotonically, i.e. the training error reduces with each iteration but never increases.\n",
    "2. Training error goes down in general, with some ups and downs in the middle.\n",
    "3. Training error goes up in general, with some ups and downs in the middle.\n",
    "4. Training error goes down in the beginning, achieves the best error, and then goes up sharply.\n",
    "5. None of the above\n",
    "\n",
    "\n",
    "### Evaluation on the test data\n",
    "\n",
    "Performing well on the training data is cheating, so lets make sure it works on the `test_data` as well. Here, we will compute the classification error on the `test_data` at the end of each iteration."
   ]
  },
  {
   "cell_type": "code",
   "execution_count": 122,
   "metadata": {
    "collapsed": false
   },
   "outputs": [
    {
     "name": "stdout",
     "output_type": "stream",
     "text": [
      "Iteration 1, test error = 0.42330891857\n",
      "Iteration 2, test error = 0.428479103835\n",
      "Iteration 3, test error = 0.398104265403\n",
      "Iteration 4, test error = 0.398104265403\n",
      "Iteration 5, test error = 0.379900904782\n",
      "Iteration 6, test error = 0.380008616975\n",
      "Iteration 7, test error = 0.379254631624\n",
      "Iteration 8, test error = 0.380008616975\n",
      "Iteration 9, test error = 0.379254631624\n",
      "Iteration 10, test error = 0.379685480396\n",
      "Iteration 11, test error = 0.379254631624\n",
      "Iteration 12, test error = 0.377962085308\n",
      "Iteration 13, test error = 0.379254631624\n",
      "Iteration 14, test error = 0.377854373115\n",
      "Iteration 15, test error = 0.378500646273\n",
      "Iteration 16, test error = 0.377854373115\n",
      "Iteration 17, test error = 0.377962085308\n",
      "Iteration 18, test error = 0.377854373115\n",
      "Iteration 19, test error = 0.378177509694\n",
      "Iteration 20, test error = 0.376884963378\n",
      "Iteration 21, test error = 0.377531236536\n",
      "Iteration 22, test error = 0.376777251185\n",
      "Iteration 23, test error = 0.376777251185\n",
      "Iteration 24, test error = 0.376884963378\n",
      "Iteration 25, test error = 0.376777251185\n",
      "Iteration 26, test error = 0.376561826799\n",
      "Iteration 27, test error = 0.376454114606\n",
      "Iteration 28, test error = 0.376992675571\n",
      "Iteration 29, test error = 0.376777251185\n",
      "Iteration 30, test error = 0.376777251185\n"
     ]
    }
   ],
   "source": [
    "test_error_all = []\n",
    "for n in xrange(1, 31):\n",
    "    predictions = predict_adaboost(stump_weights[:n], tree_stumps[:n], test_data)\n",
    "    error = 1.0 - graphlab.evaluation.accuracy(test_data[target], predictions)\n",
    "    test_error_all.append(error)\n",
    "    print \"Iteration %s, test error = %s\" % (n, test_error_all[n-1])"
   ]
  },
  {
   "cell_type": "markdown",
   "metadata": {},
   "source": [
    "### Visualize both the training and test errors\n",
    "\n",
    "Now, let us plot the training & test error with the number of iterations."
   ]
  },
  {
   "cell_type": "code",
   "execution_count": 127,
   "metadata": {
    "collapsed": false
   },
   "outputs": [],
   "source": [
    "plt.rcParams['figure.figsize'] = 7, 5\n",
    "plt.plot(range(1,31), error_all, '-', linewidth=4.0, label='Training error')\n",
    "plt.plot(range(1,31), test_error_all, '-', linewidth=4.0, label='Test error')\n",
    "\n",
    "plt.title('Performance of Adaboost ensemble')\n",
    "plt.xlabel('# of iterations')\n",
    "plt.ylabel('Classification error')\n",
    "plt.rcParams.update({'font.size': 16})\n",
    "plt.legend(loc='best', prop={'size':15})\n",
    "plt.tight_layout()"
   ]
  },
  {
   "cell_type": "markdown",
   "metadata": {},
   "source": [
    "** Quiz Question:** From this plot (with 30 trees), is there massive overfitting as the # of iterations increases?"
   ]
  },
  {
   "cell_type": "code",
   "execution_count": null,
   "metadata": {
    "collapsed": true
   },
   "outputs": [],
   "source": []
  }
 ],
 "metadata": {
  "kernelspec": {
   "display_name": "Python 2",
   "language": "python",
   "name": "python2"
  },
  "language_info": {
   "codemirror_mode": {
    "name": "ipython",
    "version": 2
   },
   "file_extension": ".py",
   "mimetype": "text/x-python",
   "name": "python",
   "nbconvert_exporter": "python",
   "pygments_lexer": "ipython2",
   "version": "2.7.6"
  }
 },
 "nbformat": 4,
 "nbformat_minor": 0
}
