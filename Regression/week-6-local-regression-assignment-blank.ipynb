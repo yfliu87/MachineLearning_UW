{
 "cells": [
  {
   "cell_type": "markdown",
   "metadata": {},
   "source": [
    "# Predicting house prices using k-nearest neighbors regression\n",
    "In this notebook, you will implement k-nearest neighbors regression. You will:\n",
    "  * Find the k-nearest neighbors of a given query input\n",
    "  * Predict the output for the query input using the k-nearest neighbors\n",
    "  * Choose the best value of k using a validation set"
   ]
  },
  {
   "cell_type": "markdown",
   "metadata": {},
   "source": [
    "# Fire up GraphLab Create"
   ]
  },
  {
   "cell_type": "code",
   "execution_count": 1,
   "metadata": {
    "collapsed": false
   },
   "outputs": [
    {
     "name": "stderr",
     "output_type": "stream",
     "text": [
      "[WARNING] sklearn version 0.14.1 is not supported. Minimum required version: 0.15. sklearn support will be disabled.\n",
      "[INFO] \u001b[1;32m1450010291 : INFO:     (initialize_globals_from_environment:282): Setting configuration variable GRAPHLAB_FILEIO_ALTERNATIVE_SSL_CERT_FILE to /usr/local/lib/python2.7/dist-packages/certifi/cacert.pem\n",
      "\u001b[0m\u001b[1;32m1450010291 : INFO:     (initialize_globals_from_environment:282): Setting configuration variable GRAPHLAB_FILEIO_ALTERNATIVE_SSL_CERT_DIR to \n",
      "\u001b[0mThis non-commercial license of GraphLab Create is assigned to yfliu87@gmail.com and will expire on November 09, 2016. For commercial licensing options, visit https://dato.com/buy/.\n",
      "\n",
      "[INFO] Start server at: ipc:///tmp/graphlab_server-3634 - Server binary: /usr/local/lib/python2.7/dist-packages/graphlab/unity_server - Server log: /tmp/graphlab_server_1450010292.log\n",
      "[INFO] GraphLab Server Version: 1.7.1\n",
      "[WARNING] Unable to create session in specified location: '/home/yfliu/.graphlab/artifacts'. Using: '/var/tmp/graphlab-yfliu/3634/tmp_session_c97757f0-1644-4d75-894b-bfe48da121ea'\n"
     ]
    }
   ],
   "source": [
    "import graphlab"
   ]
  },
  {
   "cell_type": "markdown",
   "metadata": {},
   "source": [
    "# Load in house sales data"
   ]
  },
  {
   "cell_type": "markdown",
   "metadata": {},
   "source": [
    "For this notebook, we use a subset of the King County housing dataset created by randomly selecting 40% of the houses in the full dataset."
   ]
  },
  {
   "cell_type": "code",
   "execution_count": 2,
   "metadata": {
    "collapsed": false
   },
   "outputs": [],
   "source": [
    "sales = graphlab.SFrame('kc_house_data_small.gl/')"
   ]
  },
  {
   "cell_type": "markdown",
   "metadata": {},
   "source": [
    "# Import useful functions from previous notebooks"
   ]
  },
  {
   "cell_type": "markdown",
   "metadata": {},
   "source": [
    "To efficiently compute pairwise distances among data points, we will convert the SFrame into a 2D Numpy array. First import the numpy library and then copy and paste `get_numpy_data()` from the second notebook of Week 2."
   ]
  },
  {
   "cell_type": "code",
   "execution_count": 3,
   "metadata": {
    "collapsed": true
   },
   "outputs": [],
   "source": [
    "import numpy as np # note this allows us to refer to numpy as np instead"
   ]
  },
  {
   "cell_type": "code",
   "execution_count": 4,
   "metadata": {
    "collapsed": true
   },
   "outputs": [],
   "source": [
    "def get_numpy_data(data_sframe, features, output):\n",
    "    data_sframe['constant'] = 1 # this is how you add a constant column to an SFrame\n",
    "\n",
    "    # add the column 'constant' to the front of the features list so that we can extract it along with the others:\n",
    "    features = ['constant'] + features # this is how you combine two lists\n",
    "    \n",
    "    # select the columns of data_SFrame given by the features list into the SFrame features_sframe (now including constant):\n",
    "    features_sframe = data_sframe[features]\n",
    "    \n",
    "    # the following line will convert the features_SFrame into a numpy matrix:\n",
    "    feature_matrix = features_sframe.to_numpy()\n",
    "    \n",
    "    # assign the column of data_sframe associated with the output to the SArray output_sarray\n",
    "    output_sarray = data_sframe[output]\n",
    "    \n",
    "    # the following will convert the SArray into a numpy array by first converting it to a list\n",
    "    output_array = output_sarray.to_numpy()\n",
    "    \n",
    "    return(feature_matrix, output_array)"
   ]
  },
  {
   "cell_type": "markdown",
   "metadata": {},
   "source": [
    "We will also need the `normalize_features()` function from Week 5 that normalizes all feature columns to unit norm. Paste this function below."
   ]
  },
  {
   "cell_type": "code",
   "execution_count": 5,
   "metadata": {
    "collapsed": true
   },
   "outputs": [],
   "source": [
    "def normalize_features(feature_matrix):\n",
    "    norms = np.linalg.norm(feature_matrix, axis = 0)\n",
    "    normalized_features = feature_matrix/norms\n",
    "    \n",
    "    return (normalized_features, norms)"
   ]
  },
  {
   "cell_type": "markdown",
   "metadata": {},
   "source": [
    "# Split data into training, test, and validation sets"
   ]
  },
  {
   "cell_type": "code",
   "execution_count": 6,
   "metadata": {
    "collapsed": false
   },
   "outputs": [],
   "source": [
    "(train_and_validation, test) = sales.random_split(.8, seed=1) # initial train/test split\n",
    "(train, validation) = train_and_validation.random_split(.8, seed=1) # split training set into training and validation sets"
   ]
  },
  {
   "cell_type": "markdown",
   "metadata": {},
   "source": [
    "# Extract features and normalize"
   ]
  },
  {
   "cell_type": "markdown",
   "metadata": {},
   "source": [
    "Using all of the numerical inputs listed in `feature_list`, transform the training, test, and validation SFrames into Numpy arrays:"
   ]
  },
  {
   "cell_type": "code",
   "execution_count": 7,
   "metadata": {
    "collapsed": false
   },
   "outputs": [],
   "source": [
    "feature_list = ['bedrooms',  \n",
    "                'bathrooms',  \n",
    "                'sqft_living',  \n",
    "                'sqft_lot',  \n",
    "                'floors',\n",
    "                'waterfront',  \n",
    "                'view',  \n",
    "                'condition',  \n",
    "                'grade',  \n",
    "                'sqft_above',  \n",
    "                'sqft_basement',\n",
    "                'yr_built',  \n",
    "                'yr_renovated',  \n",
    "                'lat',  \n",
    "                'long',  \n",
    "                'sqft_living15',  \n",
    "                'sqft_lot15']\n",
    "features_train, output_train = get_numpy_data(train, feature_list, 'price')\n",
    "features_test, output_test = get_numpy_data(test, feature_list, 'price')\n",
    "features_valid, output_valid = get_numpy_data(validation, feature_list, 'price')"
   ]
  },
  {
   "cell_type": "markdown",
   "metadata": {},
   "source": [
    "In computing distances, it is crucial to normalize features. Otherwise, for example, the `sqft_living` feature (typically on the order of thousands) would exert a much larger influence on distance than the `bedrooms` feature (typically on the order of ones). We divide each column of the training feature matrix by its 2-norm, so that the transformed column has unit norm.\n",
    "\n",
    "IMPORTANT: Make sure to store the norms of the features in the training set. The features in the test and validation sets must be divided by these same norms, so that the training, test, and validation sets are normalized consistently."
   ]
  },
  {
   "cell_type": "code",
   "execution_count": 8,
   "metadata": {
    "collapsed": true
   },
   "outputs": [],
   "source": [
    "features_train, norms = normalize_features(features_train) # normalize training set features (columns)\n",
    "features_test = features_test / norms # normalize test set by training set norms\n",
    "features_valid = features_valid / norms # normalize validation set by training set norms"
   ]
  },
  {
   "cell_type": "markdown",
   "metadata": {},
   "source": [
    "# Compute a single distance"
   ]
  },
  {
   "cell_type": "markdown",
   "metadata": {},
   "source": [
    "To start, let's just explore computing the \"distance\" between two given houses.  We will take our **query house** to be the first house of the test set and look at the distance between this house and the 10th house of the training set.\n",
    "\n",
    "To see the features associated with the query house, print the first row (index 0) of the test feature matrix. You should get an 18-dimensional vector whose components are between 0 and 1."
   ]
  },
  {
   "cell_type": "code",
   "execution_count": 10,
   "metadata": {
    "collapsed": false
   },
   "outputs": [
    {
     "name": "stdout",
     "output_type": "stream",
     "text": [
      "[ 0.01345102  0.01551285  0.01807473  0.01759212  0.00160518  0.017059    0.\n",
      "  0.05102365  0.0116321   0.01564352  0.01362084  0.02481682  0.01350306\n",
      "  0.          0.01345386 -0.01346927  0.01375926  0.0016225 ]\n"
     ]
    }
   ],
   "source": [
    "print features_test[0]"
   ]
  },
  {
   "cell_type": "markdown",
   "metadata": {},
   "source": [
    "Now print the 10th row (index 9) of the training feature matrix. Again, you get an 18-dimensional vector with components between 0 and 1."
   ]
  },
  {
   "cell_type": "code",
   "execution_count": 11,
   "metadata": {
    "collapsed": false
   },
   "outputs": [
    {
     "name": "stdout",
     "output_type": "stream",
     "text": [
      "[ 0.01345102  0.01163464  0.02108718  0.00948186  0.00035378  0.02558851\n",
      "  0.          0.          0.0116321   0.01390535  0.01093795  0.\n",
      "  0.01371458  0.          0.01348525 -0.01346613  0.01041589  0.00128421]\n"
     ]
    }
   ],
   "source": [
    "print features_test[9]"
   ]
  },
  {
   "cell_type": "markdown",
   "metadata": {},
   "source": [
    "***QUIZ QUESTION ***\n",
    "\n",
    "What is the Euclidean distance between the query house and the 10th house of the training set? \n",
    "\n",
    "Note: Do not use the `np.linalg.norm` function; use `np.sqrt`, `np.sum`, and the power operator (`**`) instead. The latter approach is more easily adapted to computing multiple distances at once."
   ]
  },
  {
   "cell_type": "code",
   "execution_count": 14,
   "metadata": {
    "collapsed": false
   },
   "outputs": [
    {
     "name": "stdout",
     "output_type": "stream",
     "text": [
      "0.0583528536451\n"
     ]
    }
   ],
   "source": [
    "def euclidean_distance(first, second):\n",
    "    total = 0.0\n",
    "    \n",
    "    for i in range(len(first)):\n",
    "        total += (first[i] - second[i])**2\n",
    "    \n",
    "    return np.sqrt(total)\n",
    "\n",
    "first = features_test[0]\n",
    "second = features_test[9]\n",
    "\n",
    "print euclidean_distance(first, second)"
   ]
  },
  {
   "cell_type": "code",
   "execution_count": null,
   "metadata": {
    "collapsed": true
   },
   "outputs": [],
   "source": []
  },
  {
   "cell_type": "markdown",
   "metadata": {},
   "source": [
    "# Compute multiple distances"
   ]
  },
  {
   "cell_type": "markdown",
   "metadata": {},
   "source": [
    "Of course, to do nearest neighbor regression, we need to compute the distance between our query house and *all* houses in the training set.  \n",
    "\n",
    "To visualize this nearest-neighbor search, let's first compute the distance from our query house (`features_test[0]`) to the first 10 houses of the training set (`features_train[0:10]`) and then search for the nearest neighbor within this small set of houses.  Through restricting ourselves to a small set of houses to begin with, we can visually scan the list of 10 distances to verify that our code for finding the nearest neighbor is working.\n",
    "\n",
    "Write a loop to compute the Euclidean distance from the query house to each of the first 10 houses in the training set."
   ]
  },
  {
   "cell_type": "code",
   "execution_count": 15,
   "metadata": {
    "collapsed": false
   },
   "outputs": [
    {
     "name": "stdout",
     "output_type": "stream",
     "text": [
      "min index: 8\n",
      "min dist: 0.052384\n"
     ]
    }
   ],
   "source": [
    "query = features_test[0]\n",
    "min_index = -1\n",
    "min_dist = None\n",
    "\n",
    "for i in range(10):\n",
    "    target = features_train[i]\n",
    "    \n",
    "    dist = euclidean_distance(query, target)\n",
    "    \n",
    "    if min_dist is None or dist < min_dist:\n",
    "        min_dist = dist\n",
    "        min_index = i\n",
    "        \n",
    "print \"min index: %i\" %min_index\n",
    "print \"min dist: %f\" %min_dist\n"
   ]
  },
  {
   "cell_type": "markdown",
   "metadata": {},
   "source": [
    "*** QUIZ QUESTION ***\n",
    "\n",
    "Among the first 10 training houses, which house is the closest to the query house?"
   ]
  },
  {
   "cell_type": "code",
   "execution_count": null,
   "metadata": {
    "collapsed": false
   },
   "outputs": [],
   "source": []
  },
  {
   "cell_type": "markdown",
   "metadata": {},
   "source": [
    "It is computationally inefficient to loop over computing distances to all houses in our training dataset. Fortunately, many of the Numpy functions can be **vectorized**, applying the same operation over multiple values or vectors.  We now walk through this process."
   ]
  },
  {
   "cell_type": "markdown",
   "metadata": {},
   "source": [
    "Consider the following loop that computes the element-wise difference between the features of the query house (`features_test[0]`) and the first 3 training houses (`features_train[0:3]`):"
   ]
  },
  {
   "cell_type": "code",
   "execution_count": 16,
   "metadata": {
    "collapsed": false,
    "scrolled": false
   },
   "outputs": [
    {
     "name": "stdout",
     "output_type": "stream",
     "text": [
      "[  0.00000000e+00  -3.87821276e-03  -1.20498190e-02  -1.05552733e-02\n",
      "   2.08673616e-04  -8.52950206e-03   0.00000000e+00  -5.10236549e-02\n",
      "   0.00000000e+00  -3.47633726e-03  -5.50336860e-03  -2.48168183e-02\n",
      "  -1.63756198e-04   0.00000000e+00  -1.70072004e-05   1.30577772e-05\n",
      "  -5.14364795e-03   6.69281453e-04]\n",
      "[  0.00000000e+00  -3.87821276e-03  -4.51868214e-03  -2.26610387e-03\n",
      "   7.19763456e-04   0.00000000e+00   0.00000000e+00  -5.10236549e-02\n",
      "   0.00000000e+00  -3.47633726e-03   1.30705004e-03  -1.45830788e-02\n",
      "  -1.91048898e-04   6.65082271e-02   4.23240653e-05   6.22415897e-06\n",
      "  -2.89330197e-03   1.47606982e-03]\n",
      "[  0.00000000e+00  -7.75642553e-03  -1.20498190e-02  -1.30002801e-02\n",
      "   1.60518166e-03  -8.52950206e-03   0.00000000e+00  -5.10236549e-02\n",
      "   0.00000000e+00  -5.21450589e-03  -8.32384500e-03  -2.48168183e-02\n",
      "  -3.13866046e-04   0.00000000e+00   4.71047219e-05   1.56530415e-05\n",
      "   3.72914476e-03   1.64764925e-03]\n"
     ]
    }
   ],
   "source": [
    "for i in xrange(3):\n",
    "    print features_train[i]-features_test[0]\n",
    "    # should print 3 vectors of length 18"
   ]
  },
  {
   "cell_type": "markdown",
   "metadata": {},
   "source": [
    "The subtraction operator (`-`) in Numpy is vectorized as follows:"
   ]
  },
  {
   "cell_type": "code",
   "execution_count": 17,
   "metadata": {
    "collapsed": false
   },
   "outputs": [
    {
     "name": "stdout",
     "output_type": "stream",
     "text": [
      "[[  0.00000000e+00  -3.87821276e-03  -1.20498190e-02  -1.05552733e-02\n",
      "    2.08673616e-04  -8.52950206e-03   0.00000000e+00  -5.10236549e-02\n",
      "    0.00000000e+00  -3.47633726e-03  -5.50336860e-03  -2.48168183e-02\n",
      "   -1.63756198e-04   0.00000000e+00  -1.70072004e-05   1.30577772e-05\n",
      "   -5.14364795e-03   6.69281453e-04]\n",
      " [  0.00000000e+00  -3.87821276e-03  -4.51868214e-03  -2.26610387e-03\n",
      "    7.19763456e-04   0.00000000e+00   0.00000000e+00  -5.10236549e-02\n",
      "    0.00000000e+00  -3.47633726e-03   1.30705004e-03  -1.45830788e-02\n",
      "   -1.91048898e-04   6.65082271e-02   4.23240653e-05   6.22415897e-06\n",
      "   -2.89330197e-03   1.47606982e-03]\n",
      " [  0.00000000e+00  -7.75642553e-03  -1.20498190e-02  -1.30002801e-02\n",
      "    1.60518166e-03  -8.52950206e-03   0.00000000e+00  -5.10236549e-02\n",
      "    0.00000000e+00  -5.21450589e-03  -8.32384500e-03  -2.48168183e-02\n",
      "   -3.13866046e-04   0.00000000e+00   4.71047219e-05   1.56530415e-05\n",
      "    3.72914476e-03   1.64764925e-03]]\n"
     ]
    }
   ],
   "source": [
    "print features_train[0:3] - features_test[0]"
   ]
  },
  {
   "cell_type": "markdown",
   "metadata": {},
   "source": [
    "Note that the output of this vectorized operation is identical to that of the loop above, which can be verified below:"
   ]
  },
  {
   "cell_type": "code",
   "execution_count": 18,
   "metadata": {
    "collapsed": false
   },
   "outputs": [
    {
     "name": "stdout",
     "output_type": "stream",
     "text": [
      "[ 0.  0.  0.  0.  0.  0.  0.  0.  0.  0.  0.  0.  0.  0.  0.  0.  0.  0.]\n",
      "[ 0.  0.  0.  0.  0.  0.  0.  0.  0.  0.  0.  0.  0.  0.  0.  0.  0.  0.]\n",
      "[ 0.  0.  0.  0.  0.  0.  0.  0.  0.  0.  0.  0.  0.  0.  0.  0.  0.  0.]\n"
     ]
    }
   ],
   "source": [
    "# verify that vectorization works\n",
    "results = features_train[0:3] - features_test[0]\n",
    "print results[0] - (features_train[0]-features_test[0])\n",
    "# should print all 0's if results[0] == (features_train[0]-features_test[0])\n",
    "print results[1] - (features_train[1]-features_test[0])\n",
    "# should print all 0's if results[1] == (features_train[1]-features_test[0])\n",
    "print results[2] - (features_train[2]-features_test[0])\n",
    "# should print all 0's if results[2] == (features_train[2]-features_test[0])"
   ]
  },
  {
   "cell_type": "markdown",
   "metadata": {},
   "source": [
    "Aside: it is a good idea to write tests like this cell whenever you are vectorizing a complicated operation."
   ]
  },
  {
   "cell_type": "markdown",
   "metadata": {},
   "source": [
    "# Perform 1-nearest neighbor regression\n",
    "\n",
    "Now that we have the element-wise differences, it is not too hard to compute the Euclidean distances between our query house and all of the training houses. First, write a single-line expression to define a variable `diff` such that `diff[i]` gives the element-wise difference between the features of the query house and the `i`-th training house."
   ]
  },
  {
   "cell_type": "code",
   "execution_count": 21,
   "metadata": {
    "collapsed": false
   },
   "outputs": [],
   "source": [
    "diff = features_train[:] - features_test[0]"
   ]
  },
  {
   "cell_type": "markdown",
   "metadata": {},
   "source": [
    "To test the code above, run the following cell, which should output a value -0.0934339605842:"
   ]
  },
  {
   "cell_type": "code",
   "execution_count": 22,
   "metadata": {
    "collapsed": false
   },
   "outputs": [
    {
     "name": "stdout",
     "output_type": "stream",
     "text": [
      "-0.0934339605842\n"
     ]
    }
   ],
   "source": [
    "print diff[-1].sum() # sum of the feature differences between the query and last training house\n",
    "# should print -0.0934339605842"
   ]
  },
  {
   "cell_type": "markdown",
   "metadata": {},
   "source": [
    "The next step in computing the Euclidean distances is to take these feature-by-feature differences in `diff`, square each, and take the sum over feature indices.  That is, compute the sum of square feature differences for each training house (row in `diff`).\n",
    "\n",
    "By default, `np.sum` sums up everything in the matrix and returns a single number. To instead sum only over a row or column, we need to specifiy the `axis` parameter described in the `np.sum` [documentation](http://docs.scipy.org/doc/numpy-1.10.1/reference/generated/numpy.sum.html). In particular, `axis=1` computes the sum across each row.\n",
    "\n",
    "Below, we compute this sum of square feature differences for all training houses and verify that the output for the 16th house in the training set is equivalent to having examined only the 16th row of `diff` and computing the sum of squares on that row alone."
   ]
  },
  {
   "cell_type": "code",
   "execution_count": 23,
   "metadata": {
    "collapsed": false
   },
   "outputs": [
    {
     "name": "stdout",
     "output_type": "stream",
     "text": [
      "0.00330705902879\n",
      "0.00330705902879\n"
     ]
    }
   ],
   "source": [
    "print np.sum(diff**2, axis=1)[15] # take sum of squares across each row, and print the 16th sum\n",
    "print np.sum(diff[15]**2) # print the sum of squares for the 16th row -- should be same as above"
   ]
  },
  {
   "cell_type": "markdown",
   "metadata": {},
   "source": [
    "With this result in mind, write a single-line expression to compute the Euclidean distances between the query house and all houses in the training set. Assign the result to a variable `distances`.\n",
    "\n",
    "**Hint**: Do not forget to take the square root of the sum of squares."
   ]
  },
  {
   "cell_type": "code",
   "execution_count": 40,
   "metadata": {
    "collapsed": false
   },
   "outputs": [
    {
     "name": "stdout",
     "output_type": "stream",
     "text": [
      "[ 0.06027471  0.08546881  0.06149946 ...,  0.05716729  0.05705739\n",
      "  0.05846758]\n"
     ]
    }
   ],
   "source": [
    "distances = np.sqrt(np.sum(diff**2, axis=1))\n",
    "print distances"
   ]
  },
  {
   "cell_type": "markdown",
   "metadata": {},
   "source": [
    "To test the code above, run the following cell, which should output a value 0.0237082324496:"
   ]
  },
  {
   "cell_type": "code",
   "execution_count": 41,
   "metadata": {
    "collapsed": false
   },
   "outputs": [
    {
     "name": "stdout",
     "output_type": "stream",
     "text": [
      "0.0237082324496\n"
     ]
    }
   ],
   "source": [
    "print distances[100] # Euclidean distance between the query house and the 101th training house\n",
    "# should print 0.0237082324496"
   ]
  },
  {
   "cell_type": "markdown",
   "metadata": {},
   "source": [
    "Now you are ready to write a function that computes the distances from a query house to all training houses. The function should take two parameters: (i) the matrix of training features and (ii) the single feature vector associated with the query."
   ]
  },
  {
   "cell_type": "code",
   "execution_count": 54,
   "metadata": {
    "collapsed": false
   },
   "outputs": [],
   "source": [
    "def compute_distance(feature_matrix, feature_vector):\n",
    "    min_index = -1\n",
    "    min_dist = None\n",
    "    diff = feature_matrix[:] - feature_vector\n",
    "    dist = np.sqrt(np.sum(diff**2, axis=1))\n",
    "    \n",
    "    for i in range(len(dist)):\n",
    "        if min_dist is None or dist[i] < min_dist:\n",
    "            min_dist = dist[i]\n",
    "            min_index = i\n",
    "            \n",
    "    return (min_index, min_dist)"
   ]
  },
  {
   "cell_type": "markdown",
   "metadata": {
    "collapsed": false
   },
   "source": [
    "*** QUIZ QUESTIONS ***\n",
    "\n",
    "1.  Take the query house to be third house of the test set (`features_test[2]`).  What is the index of the house in the training set that is closest to this query house?\n",
    "2.  What is the predicted value of the query house based on 1-nearest neighbor regression?"
   ]
  },
  {
   "cell_type": "code",
   "execution_count": 55,
   "metadata": {
    "collapsed": false
   },
   "outputs": [
    {
     "name": "stdout",
     "output_type": "stream",
     "text": [
      "382 0.00286049526751\n"
     ]
    }
   ],
   "source": [
    "house_index, distance = compute_distance(features_train, features_test[2])\n",
    "print house_index, distance"
   ]
  },
  {
   "cell_type": "code",
   "execution_count": 56,
   "metadata": {
    "collapsed": false
   },
   "outputs": [
    {
     "name": "stdout",
     "output_type": "stream",
     "text": [
      "249000\n"
     ]
    }
   ],
   "source": [
    "print train['price'][house_index]"
   ]
  },
  {
   "cell_type": "markdown",
   "metadata": {},
   "source": [
    "Make sure you get this question right before moving on to other questions in the quiz."
   ]
  },
  {
   "cell_type": "markdown",
   "metadata": {},
   "source": [
    "# Perform k-nearest neighbor regression"
   ]
  },
  {
   "cell_type": "markdown",
   "metadata": {},
   "source": [
    "For k-nearest neighbors, we need to find a *set* of k houses in the training set closest to a given query house. We then make predictions based on these k nearest neighbors."
   ]
  },
  {
   "cell_type": "markdown",
   "metadata": {},
   "source": [
    "## Fetch k-nearest neighbors\n",
    "\n",
    "Using the functions above, implement a function that takes in\n",
    " * the value of k;\n",
    " * the feature matrix for the training houses; and\n",
    " * the feature vector of the query house\n",
    " \n",
    "and returns the indices of the k closest training houses. For instance, with 2-nearest neighbor, a return value of [5, 10] would indicate that the 6th and 11th training houses are closest to the query house.\n",
    "\n",
    "**Hint**: Look at the [documentation for `np.argsort`](http://docs.scipy.org/doc/numpy/reference/generated/numpy.argsort.html)."
   ]
  },
  {
   "cell_type": "code",
   "execution_count": 57,
   "metadata": {
    "collapsed": false
   },
   "outputs": [],
   "source": [
    "def KNN_distance(k, feature_matrix, feature_vector):\n",
    "    diff = feature_matrix[:] - feature_vector    \n",
    "    dist = np.sqrt(np.sum(diff**2, axis=1))\n",
    "    sorted_index = np.argsort(dist)\n",
    "    \n",
    "    return sorted_index[:k]"
   ]
  },
  {
   "cell_type": "markdown",
   "metadata": {},
   "source": [
    "*** QUIZ QUESTION ***\n",
    "\n",
    "Take the query house to be third house of the test set (`features_test[2]`).  What are the indices of the 4 training houses closest to the query house?"
   ]
  },
  {
   "cell_type": "code",
   "execution_count": 58,
   "metadata": {
    "collapsed": false
   },
   "outputs": [
    {
     "name": "stdout",
     "output_type": "stream",
     "text": [
      "[ 382 1149 4087 3142]\n"
     ]
    }
   ],
   "source": [
    "print KNN_distance(4, features_train, features_test[2])"
   ]
  },
  {
   "cell_type": "markdown",
   "metadata": {},
   "source": [
    "Make sure you get this question right before moving on to other questions in the quiz."
   ]
  },
  {
   "cell_type": "markdown",
   "metadata": {},
   "source": [
    "## Make a single prediction by averaging k nearest neighbor outputs"
   ]
  },
  {
   "cell_type": "markdown",
   "metadata": {},
   "source": [
    "Now that we know how to find the k-nearest neighbors, write a function that predicts the value of a given query house. **For simplicity, take the average of the prices of the k nearest neighbors in the training set**. The function should have the following parameters:\n",
    " * the value of k;\n",
    " * the feature matrix for the training houses;\n",
    " * the output values (prices) of the training houses; and\n",
    " * the feature vector of the query house, whose price we are predicting.\n",
    " \n",
    "The function should return a predicted value of the query house.\n",
    "\n",
    "**Hint**: You can extract multiple items from a Numpy array using a list of indices. For instance, `output_train[[6, 10]]` returns the prices of the 7th and 11th training houses."
   ]
  },
  {
   "cell_type": "code",
   "execution_count": 64,
   "metadata": {
    "collapsed": false
   },
   "outputs": [],
   "source": [
    "def predict_KNN(k, feature_matrix, output, feature_vector):\n",
    "    target_index = KNN_distance(k, feature_matrix, feature_vector)\n",
    "    \n",
    "    total = 0.0\n",
    "    for i in target_index:\n",
    "        total += output[i]\n",
    "        \n",
    "    return total/k"
   ]
  },
  {
   "cell_type": "markdown",
   "metadata": {},
   "source": [
    "*** QUIZ QUESTION ***\n",
    "\n",
    "Again taking the query house to be third house of the test set (`features_test[2]`), predict the value of the query house using k-nearest neighbors with `k=4` and the simple averaging method described and implemented above."
   ]
  },
  {
   "cell_type": "code",
   "execution_count": 65,
   "metadata": {
    "collapsed": false
   },
   "outputs": [
    {
     "name": "stdout",
     "output_type": "stream",
     "text": [
      "413987.5\n"
     ]
    }
   ],
   "source": [
    "print predict_KNN(4, features_train, train['price'], features_test[2])"
   ]
  },
  {
   "cell_type": "markdown",
   "metadata": {},
   "source": [
    "Compare this predicted value using 4-nearest neighbors to the predicted value using 1-nearest neighbor computed earlier."
   ]
  },
  {
   "cell_type": "markdown",
   "metadata": {},
   "source": [
    "## Make multiple predictions"
   ]
  },
  {
   "cell_type": "markdown",
   "metadata": {},
   "source": [
    "Write a function to predict the value of *each and every* house in a query set. (The query set can be any subset of the dataset, be it the test set or validation set.) The idea is to have a loop where we take each house in the query set as the query house and make a prediction for that specific house. The new function should take the following parameters:\n",
    " * the value of k;\n",
    " * the feature matrix for the training houses;\n",
    " * the output values (prices) of the training houses; and\n",
    " * the feature matrix for the query set.\n",
    " \n",
    "The function should return a set of predicted values, one for each house in the query set.\n",
    "\n",
    "**Hint**: To get the number of houses in the query set, use the `.shape` field of the query features matrix. See [the documentation](http://docs.scipy.org/doc/numpy-1.10.1/reference/generated/numpy.ndarray.shape.html)."
   ]
  },
  {
   "cell_type": "code",
   "execution_count": 68,
   "metadata": {
    "collapsed": true
   },
   "outputs": [],
   "source": [
    "def multiple_KNN_prediction(k, feature_matrix, output, query_matrix):\n",
    "    predicted_prices = []\n",
    "    \n",
    "    for query in query_matrix:\n",
    "        predicted_prices.append(predict_KNN(k, feature_matrix, output, query))\n",
    "        \n",
    "    return predicted_prices"
   ]
  },
  {
   "cell_type": "markdown",
   "metadata": {},
   "source": [
    "*** QUIZ QUESTION ***\n",
    "\n",
    "Make predictions for the first 10 houses in the test set using k-nearest neighbors with `k=10`. \n",
    "\n",
    "1. What is the index of the house in this query set that has the lowest predicted value? \n",
    "2. What is the predicted value of this house?"
   ]
  },
  {
   "cell_type": "code",
   "execution_count": 69,
   "metadata": {
    "collapsed": false
   },
   "outputs": [
    {
     "name": "stdout",
     "output_type": "stream",
     "text": [
      "[881300.0, 431860.0, 460595.0, 430200.0, 766750.0, 667420.0, 350032.0, 512800.7, 484000.0, 457235.0]\n"
     ]
    }
   ],
   "source": [
    "print multiple_KNN_prediction(10, features_train, train['price'], features_test[:10])"
   ]
  },
  {
   "cell_type": "markdown",
   "metadata": {},
   "source": [
    "## Choosing the best value of k using a validation set"
   ]
  },
  {
   "cell_type": "markdown",
   "metadata": {},
   "source": [
    "There remains a question of choosing the value of k to use in making predictions. Here, we use a validation set to choose this value. Write a loop that does the following:\n",
    "\n",
    "* For `k` in [1, 2, ..., 15]:\n",
    "    * Makes predictions for each house in the VALIDATION set using the k-nearest neighbors from the TRAINING set.\n",
    "    * Computes the RSS for these predictions on the VALIDATION set\n",
    "    * Stores the RSS computed above in `rss_all`\n",
    "* Report which `k` produced the lowest RSS on VALIDATION set."
   ]
  },
  {
   "cell_type": "markdown",
   "metadata": {},
   "source": [
    "(Depending on your computing environment, this computation may take 10-15 minutes.)"
   ]
  },
  {
   "cell_type": "code",
   "execution_count": 85,
   "metadata": {
    "collapsed": false
   },
   "outputs": [
    {
     "name": "stdout",
     "output_type": "stream",
     "text": [
      "(1, 105453830251561.0)\n",
      "(2, 83445073504025.5)\n",
      "(3, 72692096019202.8)\n",
      "(4, 71946721652091.69)\n",
      "(5, 69846517419718.586)\n",
      "(6, 68899544353181.09)\n",
      "(7, 68341973450051.055)\n",
      "(8, 67361678735491.5)\n",
      "(9, 68372727958976.336)\n",
      "(10, 69335048668556.7)\n",
      "(11, 69523855215598.875)\n",
      "(12, 69049969587246.45)\n",
      "(13, 70011254508263.625)\n",
      "(14, 70908698869034.44)\n",
      "(15, 71106928385945.36)\n"
     ]
    }
   ],
   "source": [
    "rss_all = []\n",
    "for k in range(1, 16):\n",
    "    RSS = 0.0\n",
    "    \n",
    "    for i in range(len(features_valid)):\n",
    "        predicted_price = predict_KNN(k, features_train, train['price'], features_valid[i])\n",
    "        RSS += (predicted_price - validation[i]['price'])**2\n",
    "    \n",
    "    rss_all.append(RSS)\n",
    "    \n",
    "    print (k, RSS)"
   ]
  },
  {
   "cell_type": "markdown",
   "metadata": {
    "collapsed": false
   },
   "source": [
    "To visualize the performance as a function of `k`, plot the RSS on the VALIDATION set for each considered `k` value:"
   ]
  },
  {
   "cell_type": "code",
   "execution_count": 86,
   "metadata": {
    "collapsed": false
   },
   "outputs": [
    {
     "data": {
      "application/javascript": [
       "/* Put everything inside the global mpl namespace */\n",
       "window.mpl = {};\n",
       "\n",
       "mpl.get_websocket_type = function() {\n",
       "    if (typeof(WebSocket) !== 'undefined') {\n",
       "        return WebSocket;\n",
       "    } else if (typeof(MozWebSocket) !== 'undefined') {\n",
       "        return MozWebSocket;\n",
       "    } else {\n",
       "        alert('Your browser does not have WebSocket support.' +\n",
       "              'Please try Chrome, Safari or Firefox ≥ 6. ' +\n",
       "              'Firefox 4 and 5 are also supported but you ' +\n",
       "              'have to enable WebSockets in about:config.');\n",
       "    };\n",
       "}\n",
       "\n",
       "mpl.figure = function(figure_id, websocket, ondownload, parent_element) {\n",
       "    this.id = figure_id;\n",
       "\n",
       "    this.ws = websocket;\n",
       "\n",
       "    this.supports_binary = (this.ws.binaryType != undefined);\n",
       "\n",
       "    if (!this.supports_binary) {\n",
       "        var warnings = document.getElementById(\"mpl-warnings\");\n",
       "        if (warnings) {\n",
       "            warnings.style.display = 'block';\n",
       "            warnings.textContent = (\n",
       "                \"This browser does not support binary websocket messages. \" +\n",
       "                    \"Performance may be slow.\");\n",
       "        }\n",
       "    }\n",
       "\n",
       "    this.imageObj = new Image();\n",
       "\n",
       "    this.context = undefined;\n",
       "    this.message = undefined;\n",
       "    this.canvas = undefined;\n",
       "    this.rubberband_canvas = undefined;\n",
       "    this.rubberband_context = undefined;\n",
       "    this.format_dropdown = undefined;\n",
       "\n",
       "    this.image_mode = 'full';\n",
       "\n",
       "    this.root = $('<div/>');\n",
       "    this._root_extra_style(this.root)\n",
       "    this.root.attr('style', 'display: inline-block');\n",
       "\n",
       "    $(parent_element).append(this.root);\n",
       "\n",
       "    this._init_header(this);\n",
       "    this._init_canvas(this);\n",
       "    this._init_toolbar(this);\n",
       "\n",
       "    var fig = this;\n",
       "\n",
       "    this.waiting = false;\n",
       "\n",
       "    this.ws.onopen =  function () {\n",
       "            fig.send_message(\"supports_binary\", {value: fig.supports_binary});\n",
       "            fig.send_message(\"send_image_mode\", {});\n",
       "            fig.send_message(\"refresh\", {});\n",
       "        }\n",
       "\n",
       "    this.imageObj.onload = function() {\n",
       "            if (fig.image_mode == 'full') {\n",
       "                // Full images could contain transparency (where diff images\n",
       "                // almost always do), so we need to clear the canvas so that\n",
       "                // there is no ghosting.\n",
       "                fig.context.clearRect(0, 0, fig.canvas.width, fig.canvas.height);\n",
       "            }\n",
       "            fig.context.drawImage(fig.imageObj, 0, 0);\n",
       "        };\n",
       "\n",
       "    this.imageObj.onunload = function() {\n",
       "        this.ws.close();\n",
       "    }\n",
       "\n",
       "    this.ws.onmessage = this._make_on_message_function(this);\n",
       "\n",
       "    this.ondownload = ondownload;\n",
       "}\n",
       "\n",
       "mpl.figure.prototype._init_header = function() {\n",
       "    var titlebar = $(\n",
       "        '<div class=\"ui-dialog-titlebar ui-widget-header ui-corner-all ' +\n",
       "        'ui-helper-clearfix\"/>');\n",
       "    var titletext = $(\n",
       "        '<div class=\"ui-dialog-title\" style=\"width: 100%; ' +\n",
       "        'text-align: center; padding: 3px;\"/>');\n",
       "    titlebar.append(titletext)\n",
       "    this.root.append(titlebar);\n",
       "    this.header = titletext[0];\n",
       "}\n",
       "\n",
       "\n",
       "\n",
       "mpl.figure.prototype._canvas_extra_style = function(canvas_div) {\n",
       "\n",
       "}\n",
       "\n",
       "\n",
       "mpl.figure.prototype._root_extra_style = function(canvas_div) {\n",
       "\n",
       "}\n",
       "\n",
       "mpl.figure.prototype._init_canvas = function() {\n",
       "    var fig = this;\n",
       "\n",
       "    var canvas_div = $('<div/>');\n",
       "\n",
       "    canvas_div.attr('style', 'position: relative; clear: both; outline: 0');\n",
       "\n",
       "    function canvas_keyboard_event(event) {\n",
       "        return fig.key_event(event, event['data']);\n",
       "    }\n",
       "\n",
       "    canvas_div.keydown('key_press', canvas_keyboard_event);\n",
       "    canvas_div.keyup('key_release', canvas_keyboard_event);\n",
       "    this.canvas_div = canvas_div\n",
       "    this._canvas_extra_style(canvas_div)\n",
       "    this.root.append(canvas_div);\n",
       "\n",
       "    var canvas = $('<canvas/>');\n",
       "    canvas.addClass('mpl-canvas');\n",
       "    canvas.attr('style', \"left: 0; top: 0; z-index: 0; outline: 0\")\n",
       "\n",
       "    this.canvas = canvas[0];\n",
       "    this.context = canvas[0].getContext(\"2d\");\n",
       "\n",
       "    var rubberband = $('<canvas/>');\n",
       "    rubberband.attr('style', \"position: absolute; left: 0; top: 0; z-index: 1;\")\n",
       "\n",
       "    var pass_mouse_events = true;\n",
       "\n",
       "    canvas_div.resizable({\n",
       "        start: function(event, ui) {\n",
       "            pass_mouse_events = false;\n",
       "        },\n",
       "        resize: function(event, ui) {\n",
       "            fig.request_resize(ui.size.width, ui.size.height);\n",
       "        },\n",
       "        stop: function(event, ui) {\n",
       "            pass_mouse_events = true;\n",
       "            fig.request_resize(ui.size.width, ui.size.height);\n",
       "        },\n",
       "    });\n",
       "\n",
       "    function mouse_event_fn(event) {\n",
       "        if (pass_mouse_events)\n",
       "            return fig.mouse_event(event, event['data']);\n",
       "    }\n",
       "\n",
       "    rubberband.mousedown('button_press', mouse_event_fn);\n",
       "    rubberband.mouseup('button_release', mouse_event_fn);\n",
       "    // Throttle sequential mouse events to 1 every 20ms.\n",
       "    rubberband.mousemove('motion_notify', mouse_event_fn);\n",
       "\n",
       "    rubberband.mouseenter('figure_enter', mouse_event_fn);\n",
       "    rubberband.mouseleave('figure_leave', mouse_event_fn);\n",
       "\n",
       "    canvas_div.on(\"wheel\", function (event) {\n",
       "        event = event.originalEvent;\n",
       "        event['data'] = 'scroll'\n",
       "        if (event.deltaY < 0) {\n",
       "            event.step = 1;\n",
       "        } else {\n",
       "            event.step = -1;\n",
       "        }\n",
       "        mouse_event_fn(event);\n",
       "    });\n",
       "\n",
       "    canvas_div.append(canvas);\n",
       "    canvas_div.append(rubberband);\n",
       "\n",
       "    this.rubberband = rubberband;\n",
       "    this.rubberband_canvas = rubberband[0];\n",
       "    this.rubberband_context = rubberband[0].getContext(\"2d\");\n",
       "    this.rubberband_context.strokeStyle = \"#000000\";\n",
       "\n",
       "    this._resize_canvas = function(width, height) {\n",
       "        // Keep the size of the canvas, canvas container, and rubber band\n",
       "        // canvas in synch.\n",
       "        canvas_div.css('width', width)\n",
       "        canvas_div.css('height', height)\n",
       "\n",
       "        canvas.attr('width', width);\n",
       "        canvas.attr('height', height);\n",
       "\n",
       "        rubberband.attr('width', width);\n",
       "        rubberband.attr('height', height);\n",
       "    }\n",
       "\n",
       "    // Set the figure to an initial 600x600px, this will subsequently be updated\n",
       "    // upon first draw.\n",
       "    this._resize_canvas(600, 600);\n",
       "\n",
       "    // Disable right mouse context menu.\n",
       "    $(this.rubberband_canvas).bind(\"contextmenu\",function(e){\n",
       "        return false;\n",
       "    });\n",
       "\n",
       "    function set_focus () {\n",
       "        canvas.focus();\n",
       "        canvas_div.focus();\n",
       "    }\n",
       "\n",
       "    window.setTimeout(set_focus, 100);\n",
       "}\n",
       "\n",
       "mpl.figure.prototype._init_toolbar = function() {\n",
       "    var fig = this;\n",
       "\n",
       "    var nav_element = $('<div/>')\n",
       "    nav_element.attr('style', 'width: 100%');\n",
       "    this.root.append(nav_element);\n",
       "\n",
       "    // Define a callback function for later on.\n",
       "    function toolbar_event(event) {\n",
       "        return fig.toolbar_button_onclick(event['data']);\n",
       "    }\n",
       "    function toolbar_mouse_event(event) {\n",
       "        return fig.toolbar_button_onmouseover(event['data']);\n",
       "    }\n",
       "\n",
       "    for(var toolbar_ind in mpl.toolbar_items) {\n",
       "        var name = mpl.toolbar_items[toolbar_ind][0];\n",
       "        var tooltip = mpl.toolbar_items[toolbar_ind][1];\n",
       "        var image = mpl.toolbar_items[toolbar_ind][2];\n",
       "        var method_name = mpl.toolbar_items[toolbar_ind][3];\n",
       "\n",
       "        if (!name) {\n",
       "            // put a spacer in here.\n",
       "            continue;\n",
       "        }\n",
       "        var button = $('<button/>');\n",
       "        button.addClass('ui-button ui-widget ui-state-default ui-corner-all ' +\n",
       "                        'ui-button-icon-only');\n",
       "        button.attr('role', 'button');\n",
       "        button.attr('aria-disabled', 'false');\n",
       "        button.click(method_name, toolbar_event);\n",
       "        button.mouseover(tooltip, toolbar_mouse_event);\n",
       "\n",
       "        var icon_img = $('<span/>');\n",
       "        icon_img.addClass('ui-button-icon-primary ui-icon');\n",
       "        icon_img.addClass(image);\n",
       "        icon_img.addClass('ui-corner-all');\n",
       "\n",
       "        var tooltip_span = $('<span/>');\n",
       "        tooltip_span.addClass('ui-button-text');\n",
       "        tooltip_span.html(tooltip);\n",
       "\n",
       "        button.append(icon_img);\n",
       "        button.append(tooltip_span);\n",
       "\n",
       "        nav_element.append(button);\n",
       "    }\n",
       "\n",
       "    var fmt_picker_span = $('<span/>');\n",
       "\n",
       "    var fmt_picker = $('<select/>');\n",
       "    fmt_picker.addClass('mpl-toolbar-option ui-widget ui-widget-content');\n",
       "    fmt_picker_span.append(fmt_picker);\n",
       "    nav_element.append(fmt_picker_span);\n",
       "    this.format_dropdown = fmt_picker[0];\n",
       "\n",
       "    for (var ind in mpl.extensions) {\n",
       "        var fmt = mpl.extensions[ind];\n",
       "        var option = $(\n",
       "            '<option/>', {selected: fmt === mpl.default_extension}).html(fmt);\n",
       "        fmt_picker.append(option)\n",
       "    }\n",
       "\n",
       "    // Add hover states to the ui-buttons\n",
       "    $( \".ui-button\" ).hover(\n",
       "        function() { $(this).addClass(\"ui-state-hover\");},\n",
       "        function() { $(this).removeClass(\"ui-state-hover\");}\n",
       "    );\n",
       "\n",
       "    var status_bar = $('<span class=\"mpl-message\"/>');\n",
       "    nav_element.append(status_bar);\n",
       "    this.message = status_bar[0];\n",
       "}\n",
       "\n",
       "mpl.figure.prototype.request_resize = function(x_pixels, y_pixels) {\n",
       "    // Request matplotlib to resize the figure. Matplotlib will then trigger a resize in the client,\n",
       "    // which will in turn request a refresh of the image.\n",
       "    this.send_message('resize', {'width': x_pixels, 'height': y_pixels});\n",
       "}\n",
       "\n",
       "mpl.figure.prototype.send_message = function(type, properties) {\n",
       "    properties['type'] = type;\n",
       "    properties['figure_id'] = this.id;\n",
       "    this.ws.send(JSON.stringify(properties));\n",
       "}\n",
       "\n",
       "mpl.figure.prototype.send_draw_message = function() {\n",
       "    if (!this.waiting) {\n",
       "        this.waiting = true;\n",
       "        this.ws.send(JSON.stringify({type: \"draw\", figure_id: this.id}));\n",
       "    }\n",
       "}\n",
       "\n",
       "\n",
       "mpl.figure.prototype.handle_save = function(fig, msg) {\n",
       "    var format_dropdown = fig.format_dropdown;\n",
       "    var format = format_dropdown.options[format_dropdown.selectedIndex].value;\n",
       "    fig.ondownload(fig, format);\n",
       "}\n",
       "\n",
       "\n",
       "mpl.figure.prototype.handle_resize = function(fig, msg) {\n",
       "    var size = msg['size'];\n",
       "    if (size[0] != fig.canvas.width || size[1] != fig.canvas.height) {\n",
       "        fig._resize_canvas(size[0], size[1]);\n",
       "        fig.send_message(\"refresh\", {});\n",
       "    };\n",
       "}\n",
       "\n",
       "mpl.figure.prototype.handle_rubberband = function(fig, msg) {\n",
       "    var x0 = msg['x0'];\n",
       "    var y0 = fig.canvas.height - msg['y0'];\n",
       "    var x1 = msg['x1'];\n",
       "    var y1 = fig.canvas.height - msg['y1'];\n",
       "    x0 = Math.floor(x0) + 0.5;\n",
       "    y0 = Math.floor(y0) + 0.5;\n",
       "    x1 = Math.floor(x1) + 0.5;\n",
       "    y1 = Math.floor(y1) + 0.5;\n",
       "    var min_x = Math.min(x0, x1);\n",
       "    var min_y = Math.min(y0, y1);\n",
       "    var width = Math.abs(x1 - x0);\n",
       "    var height = Math.abs(y1 - y0);\n",
       "\n",
       "    fig.rubberband_context.clearRect(\n",
       "        0, 0, fig.canvas.width, fig.canvas.height);\n",
       "\n",
       "    fig.rubberband_context.strokeRect(min_x, min_y, width, height);\n",
       "}\n",
       "\n",
       "mpl.figure.prototype.handle_figure_label = function(fig, msg) {\n",
       "    // Updates the figure title.\n",
       "    fig.header.textContent = msg['label'];\n",
       "}\n",
       "\n",
       "mpl.figure.prototype.handle_cursor = function(fig, msg) {\n",
       "    var cursor = msg['cursor'];\n",
       "    switch(cursor)\n",
       "    {\n",
       "    case 0:\n",
       "        cursor = 'pointer';\n",
       "        break;\n",
       "    case 1:\n",
       "        cursor = 'default';\n",
       "        break;\n",
       "    case 2:\n",
       "        cursor = 'crosshair';\n",
       "        break;\n",
       "    case 3:\n",
       "        cursor = 'move';\n",
       "        break;\n",
       "    }\n",
       "    fig.rubberband_canvas.style.cursor = cursor;\n",
       "}\n",
       "\n",
       "mpl.figure.prototype.handle_message = function(fig, msg) {\n",
       "    fig.message.textContent = msg['message'];\n",
       "}\n",
       "\n",
       "mpl.figure.prototype.handle_draw = function(fig, msg) {\n",
       "    // Request the server to send over a new figure.\n",
       "    fig.send_draw_message();\n",
       "}\n",
       "\n",
       "mpl.figure.prototype.handle_image_mode = function(fig, msg) {\n",
       "    fig.image_mode = msg['mode'];\n",
       "}\n",
       "\n",
       "mpl.figure.prototype.updated_canvas_event = function() {\n",
       "    // Called whenever the canvas gets updated.\n",
       "    this.send_message(\"ack\", {});\n",
       "}\n",
       "\n",
       "// A function to construct a web socket function for onmessage handling.\n",
       "// Called in the figure constructor.\n",
       "mpl.figure.prototype._make_on_message_function = function(fig) {\n",
       "    return function socket_on_message(evt) {\n",
       "        if (evt.data instanceof Blob) {\n",
       "            /* FIXME: We get \"Resource interpreted as Image but\n",
       "             * transferred with MIME type text/plain:\" errors on\n",
       "             * Chrome.  But how to set the MIME type?  It doesn't seem\n",
       "             * to be part of the websocket stream */\n",
       "            evt.data.type = \"image/png\";\n",
       "\n",
       "            /* Free the memory for the previous frames */\n",
       "            if (fig.imageObj.src) {\n",
       "                (window.URL || window.webkitURL).revokeObjectURL(\n",
       "                    fig.imageObj.src);\n",
       "            }\n",
       "\n",
       "            fig.imageObj.src = (window.URL || window.webkitURL).createObjectURL(\n",
       "                evt.data);\n",
       "            fig.updated_canvas_event();\n",
       "            fig.waiting = false;\n",
       "            return;\n",
       "        }\n",
       "        else if (typeof evt.data === 'string' && evt.data.slice(0, 21) == \"data:image/png;base64\") {\n",
       "            fig.imageObj.src = evt.data;\n",
       "            fig.updated_canvas_event();\n",
       "            fig.waiting = false;\n",
       "            return;\n",
       "        }\n",
       "\n",
       "        var msg = JSON.parse(evt.data);\n",
       "        var msg_type = msg['type'];\n",
       "\n",
       "        // Call the  \"handle_{type}\" callback, which takes\n",
       "        // the figure and JSON message as its only arguments.\n",
       "        try {\n",
       "            var callback = fig[\"handle_\" + msg_type];\n",
       "        } catch (e) {\n",
       "            console.log(\"No handler for the '\" + msg_type + \"' message type: \", msg);\n",
       "            return;\n",
       "        }\n",
       "\n",
       "        if (callback) {\n",
       "            try {\n",
       "                // console.log(\"Handling '\" + msg_type + \"' message: \", msg);\n",
       "                callback(fig, msg);\n",
       "            } catch (e) {\n",
       "                console.log(\"Exception inside the 'handler_\" + msg_type + \"' callback:\", e, e.stack, msg);\n",
       "            }\n",
       "        }\n",
       "    };\n",
       "}\n",
       "\n",
       "// from http://stackoverflow.com/questions/1114465/getting-mouse-location-in-canvas\n",
       "mpl.findpos = function(e) {\n",
       "    //this section is from http://www.quirksmode.org/js/events_properties.html\n",
       "    var targ;\n",
       "    if (!e)\n",
       "        e = window.event;\n",
       "    if (e.target)\n",
       "        targ = e.target;\n",
       "    else if (e.srcElement)\n",
       "        targ = e.srcElement;\n",
       "    if (targ.nodeType == 3) // defeat Safari bug\n",
       "        targ = targ.parentNode;\n",
       "\n",
       "    // jQuery normalizes the pageX and pageY\n",
       "    // pageX,Y are the mouse positions relative to the document\n",
       "    // offset() returns the position of the element relative to the document\n",
       "    var x = e.pageX - $(targ).offset().left;\n",
       "    var y = e.pageY - $(targ).offset().top;\n",
       "\n",
       "    return {\"x\": x, \"y\": y};\n",
       "};\n",
       "\n",
       "/*\n",
       " * return a copy of an object with only non-object keys\n",
       " * we need this to avoid circular references\n",
       " * http://stackoverflow.com/a/24161582/3208463\n",
       " */\n",
       "function simpleKeys (original) {\n",
       "  return Object.keys(original).reduce(function (obj, key) {\n",
       "    if (typeof original[key] !== 'object')\n",
       "        obj[key] = original[key]\n",
       "    return obj;\n",
       "  }, {});\n",
       "}\n",
       "\n",
       "mpl.figure.prototype.mouse_event = function(event, name) {\n",
       "    var canvas_pos = mpl.findpos(event)\n",
       "\n",
       "    if (name === 'button_press')\n",
       "    {\n",
       "        this.canvas.focus();\n",
       "        this.canvas_div.focus();\n",
       "    }\n",
       "\n",
       "    var x = canvas_pos.x;\n",
       "    var y = canvas_pos.y;\n",
       "\n",
       "    this.send_message(name, {x: x, y: y, button: event.button,\n",
       "                             step: event.step,\n",
       "                             guiEvent: simpleKeys(event)});\n",
       "\n",
       "    /* This prevents the web browser from automatically changing to\n",
       "     * the text insertion cursor when the button is pressed.  We want\n",
       "     * to control all of the cursor setting manually through the\n",
       "     * 'cursor' event from matplotlib */\n",
       "    event.preventDefault();\n",
       "    return false;\n",
       "}\n",
       "\n",
       "mpl.figure.prototype._key_event_extra = function(event, name) {\n",
       "    // Handle any extra behaviour associated with a key event\n",
       "}\n",
       "\n",
       "mpl.figure.prototype.key_event = function(event, name) {\n",
       "\n",
       "    // Prevent repeat events\n",
       "    if (name == 'key_press')\n",
       "    {\n",
       "        if (event.which === this._key)\n",
       "            return;\n",
       "        else\n",
       "            this._key = event.which;\n",
       "    }\n",
       "    if (name == 'key_release')\n",
       "        this._key = null;\n",
       "\n",
       "    var value = '';\n",
       "    if (event.ctrlKey && event.which != 17)\n",
       "        value += \"ctrl+\";\n",
       "    if (event.altKey && event.which != 18)\n",
       "        value += \"alt+\";\n",
       "    if (event.shiftKey && event.which != 16)\n",
       "        value += \"shift+\";\n",
       "\n",
       "    value += 'k';\n",
       "    value += event.which.toString();\n",
       "\n",
       "    this._key_event_extra(event, name);\n",
       "\n",
       "    this.send_message(name, {key: value,\n",
       "                             guiEvent: simpleKeys(event)});\n",
       "    return false;\n",
       "}\n",
       "\n",
       "mpl.figure.prototype.toolbar_button_onclick = function(name) {\n",
       "    if (name == 'download') {\n",
       "        this.handle_save(this, null);\n",
       "    } else {\n",
       "        this.send_message(\"toolbar_button\", {name: name});\n",
       "    }\n",
       "};\n",
       "\n",
       "mpl.figure.prototype.toolbar_button_onmouseover = function(tooltip) {\n",
       "    this.message.textContent = tooltip;\n",
       "};\n",
       "mpl.toolbar_items = [[\"Home\", \"Reset original view\", \"fa fa-home icon-home\", \"home\"], [\"Back\", \"Back to  previous view\", \"fa fa-arrow-left icon-arrow-left\", \"back\"], [\"Forward\", \"Forward to next view\", \"fa fa-arrow-right icon-arrow-right\", \"forward\"], [\"\", \"\", \"\", \"\"], [\"Pan\", \"Pan axes with left mouse, zoom with right\", \"fa fa-arrows icon-move\", \"pan\"], [\"Zoom\", \"Zoom to rectangle\", \"fa fa-square-o icon-check-empty\", \"zoom\"], [\"\", \"\", \"\", \"\"], [\"Download\", \"Download plot\", \"fa fa-floppy-o icon-save\", \"download\"]];\n",
       "\n",
       "mpl.extensions = [\"eps\", \"jpeg\", \"pdf\", \"png\", \"ps\", \"raw\", \"svg\", \"tif\"];\n",
       "\n",
       "mpl.default_extension = \"png\";var comm_websocket_adapter = function(comm) {\n",
       "    // Create a \"websocket\"-like object which calls the given IPython comm\n",
       "    // object with the appropriate methods. Currently this is a non binary\n",
       "    // socket, so there is still some room for performance tuning.\n",
       "    var ws = {};\n",
       "\n",
       "    ws.close = function() {\n",
       "        comm.close()\n",
       "    };\n",
       "    ws.send = function(m) {\n",
       "        //console.log('sending', m);\n",
       "        comm.send(m);\n",
       "    };\n",
       "    // Register the callback with on_msg.\n",
       "    comm.on_msg(function(msg) {\n",
       "        //console.log('receiving', msg['content']['data'], msg);\n",
       "        // Pass the mpl event to the overriden (by mpl) onmessage function.\n",
       "        ws.onmessage(msg['content']['data'])\n",
       "    });\n",
       "    return ws;\n",
       "}\n",
       "\n",
       "mpl.mpl_figure_comm = function(comm, msg) {\n",
       "    // This is the function which gets called when the mpl process\n",
       "    // starts-up an IPython Comm through the \"matplotlib\" channel.\n",
       "\n",
       "    var id = msg.content.data.id;\n",
       "    // Get hold of the div created by the display call when the Comm\n",
       "    // socket was opened in Python.\n",
       "    var element = $(\"#\" + id);\n",
       "    var ws_proxy = comm_websocket_adapter(comm)\n",
       "\n",
       "    function ondownload(figure, format) {\n",
       "        window.open(figure.imageObj.src);\n",
       "    }\n",
       "\n",
       "    var fig = new mpl.figure(id, ws_proxy,\n",
       "                           ondownload,\n",
       "                           element.get(0));\n",
       "\n",
       "    // Call onopen now - mpl needs it, as it is assuming we've passed it a real\n",
       "    // web socket which is closed, not our websocket->open comm proxy.\n",
       "    ws_proxy.onopen();\n",
       "\n",
       "    fig.parent_element = element.get(0);\n",
       "    fig.cell_info = mpl.find_output_cell(\"<div id='\" + id + \"'></div>\");\n",
       "    if (!fig.cell_info) {\n",
       "        console.error(\"Failed to find cell for figure\", id, fig);\n",
       "        return;\n",
       "    }\n",
       "\n",
       "    var output_index = fig.cell_info[2]\n",
       "    var cell = fig.cell_info[0];\n",
       "\n",
       "};\n",
       "\n",
       "mpl.figure.prototype.handle_close = function(fig, msg) {\n",
       "    // Update the output cell to use the data from the current canvas.\n",
       "    fig.push_to_output();\n",
       "    var dataURL = fig.canvas.toDataURL();\n",
       "    // Re-enable the keyboard manager in IPython - without this line, in FF,\n",
       "    // the notebook keyboard shortcuts fail.\n",
       "    IPython.keyboard_manager.enable()\n",
       "    $(fig.parent_element).html('<img src=\"' + dataURL + '\">');\n",
       "    fig.send_message('closing', {});\n",
       "    fig.ws.close()\n",
       "}\n",
       "\n",
       "mpl.figure.prototype.push_to_output = function(remove_interactive) {\n",
       "    // Turn the data on the canvas into data in the output cell.\n",
       "    var dataURL = this.canvas.toDataURL();\n",
       "    this.cell_info[1]['text/html'] = '<img src=\"' + dataURL + '\">';\n",
       "}\n",
       "\n",
       "mpl.figure.prototype.updated_canvas_event = function() {\n",
       "    // Tell IPython that the notebook contents must change.\n",
       "    IPython.notebook.set_dirty(true);\n",
       "    this.send_message(\"ack\", {});\n",
       "    var fig = this;\n",
       "    // Wait a second, then push the new image to the DOM so\n",
       "    // that it is saved nicely (might be nice to debounce this).\n",
       "    setTimeout(function () { fig.push_to_output() }, 1000);\n",
       "}\n",
       "\n",
       "mpl.figure.prototype._init_toolbar = function() {\n",
       "    var fig = this;\n",
       "\n",
       "    var nav_element = $('<div/>')\n",
       "    nav_element.attr('style', 'width: 100%');\n",
       "    this.root.append(nav_element);\n",
       "\n",
       "    // Define a callback function for later on.\n",
       "    function toolbar_event(event) {\n",
       "        return fig.toolbar_button_onclick(event['data']);\n",
       "    }\n",
       "    function toolbar_mouse_event(event) {\n",
       "        return fig.toolbar_button_onmouseover(event['data']);\n",
       "    }\n",
       "\n",
       "    for(var toolbar_ind in mpl.toolbar_items){\n",
       "        var name = mpl.toolbar_items[toolbar_ind][0];\n",
       "        var tooltip = mpl.toolbar_items[toolbar_ind][1];\n",
       "        var image = mpl.toolbar_items[toolbar_ind][2];\n",
       "        var method_name = mpl.toolbar_items[toolbar_ind][3];\n",
       "\n",
       "        if (!name) { continue; };\n",
       "\n",
       "        var button = $('<button class=\"btn btn-default\" href=\"#\" title=\"' + name + '\"><i class=\"fa ' + image + ' fa-lg\"></i></button>');\n",
       "        button.click(method_name, toolbar_event);\n",
       "        button.mouseover(tooltip, toolbar_mouse_event);\n",
       "        nav_element.append(button);\n",
       "    }\n",
       "\n",
       "    // Add the status bar.\n",
       "    var status_bar = $('<span class=\"mpl-message\" style=\"text-align:right; float: right;\"/>');\n",
       "    nav_element.append(status_bar);\n",
       "    this.message = status_bar[0];\n",
       "\n",
       "    // Add the close button to the window.\n",
       "    var buttongrp = $('<div class=\"btn-group inline pull-right\"></div>');\n",
       "    var button = $('<button class=\"btn btn-mini btn-danger\" href=\"#\" title=\"Close figure\"><i class=\"fa fa-times icon-remove icon-large\"></i></button>');\n",
       "    button.click(function (evt) { fig.handle_close(fig, {}); } );\n",
       "    button.mouseover('Close figure', toolbar_mouse_event);\n",
       "    buttongrp.append(button);\n",
       "    var titlebar = this.root.find($('.ui-dialog-titlebar'));\n",
       "    titlebar.prepend(buttongrp);\n",
       "}\n",
       "\n",
       "\n",
       "mpl.figure.prototype._canvas_extra_style = function(el){\n",
       "    // this is important to make the div 'focusable\n",
       "    el.attr('tabindex', 0)\n",
       "    // reach out to IPython and tell the keyboard manager to turn it's self\n",
       "    // off when our div gets focus\n",
       "\n",
       "    // location in version 3\n",
       "    if (IPython.notebook.keyboard_manager) {\n",
       "        IPython.notebook.keyboard_manager.register_events(el);\n",
       "    }\n",
       "    else {\n",
       "        // location in version 2\n",
       "        IPython.keyboard_manager.register_events(el);\n",
       "    }\n",
       "\n",
       "}\n",
       "\n",
       "mpl.figure.prototype._key_event_extra = function(event, name) {\n",
       "    var manager = IPython.notebook.keyboard_manager;\n",
       "    if (!manager)\n",
       "        manager = IPython.keyboard_manager;\n",
       "\n",
       "    // Check for shift+enter\n",
       "    if (event.shiftKey && event.which == 13) {\n",
       "        this.canvas_div.blur();\n",
       "        event.shiftKey = false;\n",
       "        // Send a \"J\" for go to next cell\n",
       "        event.which = 74;\n",
       "        event.keyCode = 74;\n",
       "        manager.command_mode();\n",
       "        manager.handle_keydown(event);\n",
       "    }\n",
       "}\n",
       "\n",
       "mpl.figure.prototype.handle_save = function(fig, msg) {\n",
       "    fig.ondownload(fig, null);\n",
       "}\n",
       "\n",
       "\n",
       "mpl.find_output_cell = function(html_output) {\n",
       "    // Return the cell and output element which can be found *uniquely* in the notebook.\n",
       "    // Note - this is a bit hacky, but it is done because the \"notebook_saving.Notebook\"\n",
       "    // IPython event is triggered only after the cells have been serialised, which for\n",
       "    // our purposes (turning an active figure into a static one), is too late.\n",
       "    var cells = IPython.notebook.get_cells();\n",
       "    var ncells = cells.length;\n",
       "    for (var i=0; i<ncells; i++) {\n",
       "        var cell = cells[i];\n",
       "        if (cell.cell_type === 'code'){\n",
       "            for (var j=0; j<cell.output_area.outputs.length; j++) {\n",
       "                var data = cell.output_area.outputs[j];\n",
       "                if (data.data) {\n",
       "                    // IPython >= 3 moved mimebundle to data attribute of output\n",
       "                    data = data.data;\n",
       "                }\n",
       "                if (data['text/html'] == html_output) {\n",
       "                    return [cell, data, j];\n",
       "                }\n",
       "            }\n",
       "        }\n",
       "    }\n",
       "}\n",
       "\n",
       "// Register the function which deals with the matplotlib target/channel.\n",
       "// The kernel may be null if the page has been refreshed.\n",
       "if (IPython.notebook.kernel != null) {\n",
       "    IPython.notebook.kernel.comm_manager.register_target('matplotlib', mpl.mpl_figure_comm);\n",
       "}\n"
      ],
      "text/plain": [
       "<IPython.core.display.Javascript object>"
      ]
     },
     "metadata": {},
     "output_type": "display_data"
    },
    {
     "data": {
      "text/html": [
       "<img src=\"data:image/png;base64,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\">"
      ],
      "text/plain": [
       "<IPython.core.display.HTML object>"
      ]
     },
     "metadata": {},
     "output_type": "display_data"
    },
    {
     "data": {
      "text/plain": [
       "[<matplotlib.lines.Line2D at 0x7fae8b9d4210>]"
      ]
     },
     "execution_count": 86,
     "metadata": {},
     "output_type": "execute_result"
    }
   ],
   "source": [
    "import matplotlib.pyplot as plt\n",
    "%matplotlib notebook\n",
    "\n",
    "kvals = range(1, 16)\n",
    "plt.plot(kvals, rss_all,'bo-')"
   ]
  },
  {
   "cell_type": "markdown",
   "metadata": {},
   "source": [
    "***QUIZ QUESTION ***\n",
    "\n",
    "What is the RSS on the TEST data using the value of k found above?  To be clear, sum over all houses in the TEST set."
   ]
  },
  {
   "cell_type": "code",
   "execution_count": 87,
   "metadata": {
    "collapsed": false
   },
   "outputs": [
    {
     "name": "stdout",
     "output_type": "stream",
     "text": [
      "1.33118823552e+14\n"
     ]
    }
   ],
   "source": [
    "RSS = 0.0\n",
    "for i in range(len(features_test)):\n",
    "    predicted_price = predict_KNN(8, features_train, train['price'], features_test[i])\n",
    "    RSS += (predicted_price - test[i]['price'])**2\n",
    "\n",
    "print RSS"
   ]
  },
  {
   "cell_type": "code",
   "execution_count": null,
   "metadata": {
    "collapsed": true
   },
   "outputs": [],
   "source": []
  }
 ],
 "metadata": {
  "kernelspec": {
   "display_name": "Python 2",
   "language": "python",
   "name": "python2"
  },
  "language_info": {
   "codemirror_mode": {
    "name": "ipython",
    "version": 2
   },
   "file_extension": ".py",
   "mimetype": "text/x-python",
   "name": "python",
   "nbconvert_exporter": "python",
   "pygments_lexer": "ipython2",
   "version": "2.7.6"
  }
 },
 "nbformat": 4,
 "nbformat_minor": 0
}
