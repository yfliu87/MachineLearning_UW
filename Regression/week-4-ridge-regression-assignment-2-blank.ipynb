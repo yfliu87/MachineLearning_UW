{
 "cells": [
  {
   "cell_type": "markdown",
   "metadata": {},
   "source": [
    "# Regression Week 4: Ridge Regression (gradient descent)"
   ]
  },
  {
   "cell_type": "markdown",
   "metadata": {},
   "source": [
    "In this notebook, you will implement ridge regression via gradient descent. You will:\n",
    "* Convert an SFrame into a Numpy array\n",
    "* Write a Numpy function to compute the derivative of the regression weights with respect to a single feature\n",
    "* Write gradient descent function to compute the regression weights given an initial weight vector, step size, tolerance, and L2 penalty"
   ]
  },
  {
   "cell_type": "markdown",
   "metadata": {},
   "source": [
    "# Fire up graphlab create"
   ]
  },
  {
   "cell_type": "markdown",
   "metadata": {},
   "source": [
    "Make sure you have the latest version of GraphLab Create (>= 1.7)"
   ]
  },
  {
   "cell_type": "code",
   "execution_count": 1,
   "metadata": {
    "collapsed": false
   },
   "outputs": [
    {
     "name": "stderr",
     "output_type": "stream",
     "text": [
      "[WARNING] sklearn version 0.14.1 is not supported. Minimum required version: 0.15. sklearn support will be disabled.\n",
      "[WARNING] Unable to write current GraphLab Create license to /home/yfliu/.graphlab/config. Ensure that this user account has write permission to /home/yfliu/.graphlab/config to save the license for offline use.\n",
      "[INFO] \u001b[1;32m1449750164 : INFO:     (initialize_globals_from_environment:282): Setting configuration variable GRAPHLAB_FILEIO_ALTERNATIVE_SSL_CERT_FILE to /usr/local/lib/python2.7/dist-packages/certifi/cacert.pem\n",
      "\u001b[0m\u001b[1;32m1449750164 : INFO:     (initialize_globals_from_environment:282): Setting configuration variable GRAPHLAB_FILEIO_ALTERNATIVE_SSL_CERT_DIR to \n",
      "\u001b[0mThis non-commercial license of GraphLab Create is assigned to yfliu87@gmail.com and will expire on November 09, 2016. For commercial licensing options, visit https://dato.com/buy/.\n",
      "\n",
      "[INFO] Start server at: ipc:///tmp/graphlab_server-2941 - Server binary: /usr/local/lib/python2.7/dist-packages/graphlab/unity_server - Server log: /tmp/graphlab_server_1449750164.log\n",
      "[INFO] GraphLab Server Version: 1.7.1\n",
      "[WARNING] Unable to create session in specified location: '/home/yfliu/.graphlab/artifacts'. Using: '/var/tmp/graphlab-yfliu/2941/tmp_session_c9284390-43ad-455f-b475-ec1cbee84b54'\n"
     ]
    }
   ],
   "source": [
    "import graphlab"
   ]
  },
  {
   "cell_type": "markdown",
   "metadata": {},
   "source": [
    "# Load in house sales data\n",
    "\n",
    "Dataset is from house sales in King County, the region where the city of Seattle, WA is located."
   ]
  },
  {
   "cell_type": "code",
   "execution_count": 2,
   "metadata": {
    "collapsed": false
   },
   "outputs": [],
   "source": [
    "sales = graphlab.SFrame('kc_house_data.gl/')"
   ]
  },
  {
   "cell_type": "markdown",
   "metadata": {},
   "source": [
    "If we want to do any \"feature engineering\" like creating new features or adjusting existing ones we should do this directly using the SFrames as seen in the first notebook of Week 2. For this notebook, however, we will work with the existing features."
   ]
  },
  {
   "cell_type": "markdown",
   "metadata": {},
   "source": [
    "# Import useful functions from previous notebook"
   ]
  },
  {
   "cell_type": "markdown",
   "metadata": {},
   "source": [
    "As in Week 2, we convert the SFrame into a 2D Numpy array. Copy and paste `get_num_data()` from the second notebook of Week 2."
   ]
  },
  {
   "cell_type": "code",
   "execution_count": 3,
   "metadata": {
    "collapsed": true
   },
   "outputs": [],
   "source": [
    "import numpy as np # note this allows us to refer to numpy as np instead "
   ]
  },
  {
   "cell_type": "code",
   "execution_count": 4,
   "metadata": {
    "collapsed": true
   },
   "outputs": [],
   "source": [
    "def get_numpy_data(data_sframe, features, output):\n",
    "    data_sframe['constant'] = 1\n",
    "    features = ['constant'] + features    \n",
    "    features_sframe = data_sframe[features]\n",
    "    feature_matrix = features_sframe.to_numpy()    \n",
    "    output_sarray = data_sframe[output]\n",
    "    output_array = output_sarray.to_numpy()\n",
    "    \n",
    "    return(feature_matrix, output_array)"
   ]
  },
  {
   "cell_type": "markdown",
   "metadata": {},
   "source": [
    "Also, copy and paste the `predict_output()` function to compute the predictions for an entire matrix of features given the matrix and the weights:"
   ]
  },
  {
   "cell_type": "code",
   "execution_count": 5,
   "metadata": {
    "collapsed": true
   },
   "outputs": [],
   "source": [
    "def predict_output(feature_matrix, weights):\n",
    "    predictions = np.dot(feature_matrix, weights)\n",
    "\n",
    "    return(predictions)"
   ]
  },
  {
   "cell_type": "markdown",
   "metadata": {},
   "source": [
    "# Computing the Derivative"
   ]
  },
  {
   "cell_type": "markdown",
   "metadata": {},
   "source": [
    "We are now going to move to computing the derivative of the regression cost function. Recall that the cost function is the sum over the data points of the squared difference between an observed output and a predicted output, plus the L2 penalty term.\n",
    "```\n",
    "Cost(w)\n",
    "= SUM[ (prediction - output)^2 ]\n",
    "+ l2_penalty*(w[0]^2 + w[1]^2 + ... + w[k]^2).\n",
    "```\n",
    "\n",
    "Since the derivative of a sum is the sum of the derivatives, we can take the derivative of the first part (the RSS) as we did in the notebook for the unregularized case in Week 2 and add the derivative of the regularization part.  As we saw, the derivative of the RSS with respect to `w[i]` can be written as: \n",
    "```\n",
    "2*SUM[ error*[feature_i] ].\n",
    "```\n",
    "The derivative of the regularization term with respect to `w[i]` is:\n",
    "```\n",
    "2*l2_penalty*w[i].\n",
    "```\n",
    "Summing both, we get\n",
    "```\n",
    "2*SUM[ error*[feature_i] ] + 2*l2_penalty*w[i].\n",
    "```\n",
    "That is, the derivative for the weight for feature i is the sum (over data points) of 2 times the product of the error and the feature itself, plus `2*l2_penalty*w[i]`. \n",
    "\n",
    "**We will not regularize the constant.**  Thus, in the case of the constant, the derivative is just twice the sum of the errors (without the `2*l2_penalty*w[0]` term).\n",
    "\n",
    "Recall that twice the sum of the product of two vectors is just twice the dot product of the two vectors. Therefore the derivative for the weight for feature_i is just two times the dot product between the values of feature_i and the current errors, plus `2*l2_penalty*w[i]`.\n",
    "\n",
    "With this in mind complete the following derivative function which computes the derivative of the weight given the value of the feature (over all data points) and the errors (over all data points).  To decide when to we are dealing with the constant (so we don't regularize it) we added the extra parameter to the call `feature_is_constant` which you should set to `True` when computing the derivative of the constant and `False` otherwise."
   ]
  },
  {
   "cell_type": "code",
   "execution_count": 6,
   "metadata": {
    "collapsed": true
   },
   "outputs": [],
   "source": [
    "def feature_derivative_ridge(errors, feature, weight, l2_penalty, feature_is_constant):\n",
    "    # If feature_is_constant is True, derivative is twice the dot product of errors and feature\n",
    "    if feature_is_constant:\n",
    "        derivative = 2 * np.dot(errors, feature)\n",
    "        \n",
    "    # Otherwise, derivative is twice the dot product plus 2*l2_penalty*weight\n",
    "    else:\n",
    "        derivative = 2 * np.dot(errors, feature) + 2 * l2_penalty * weight\n",
    "        \n",
    "    return derivative"
   ]
  },
  {
   "cell_type": "markdown",
   "metadata": {},
   "source": [
    "To test your feature derivartive run the following:"
   ]
  },
  {
   "cell_type": "code",
   "execution_count": 7,
   "metadata": {
    "collapsed": false
   },
   "outputs": [
    {
     "name": "stdout",
     "output_type": "stream",
     "text": [
      "-5.65541667824e+13\n",
      "-5.65541667824e+13\n",
      "\n",
      "-22446749336.0\n",
      "-22446749336.0\n"
     ]
    }
   ],
   "source": [
    "(example_features, example_output) = get_numpy_data(sales, ['sqft_living'], 'price') \n",
    "my_weights = np.array([1., 10.])\n",
    "test_predictions = predict_output(example_features, my_weights) \n",
    "errors = test_predictions - example_output # prediction errors\n",
    "\n",
    "# next two lines should print the same values\n",
    "print feature_derivative_ridge(errors, example_features[:,1], my_weights[1], 1, False)\n",
    "print np.sum(errors*example_features[:,1])*2+20.\n",
    "print ''\n",
    "\n",
    "# next two lines should print the same values\n",
    "print feature_derivative_ridge(errors, example_features[:,0], my_weights[0], 1, True)\n",
    "print np.sum(errors)*2."
   ]
  },
  {
   "cell_type": "markdown",
   "metadata": {},
   "source": [
    "# Gradient Descent"
   ]
  },
  {
   "cell_type": "markdown",
   "metadata": {},
   "source": [
    "Now we will write a function that performs a gradient descent. The basic premise is simple. Given a starting point we update the current weights by moving in the negative gradient direction. Recall that the gradient is the direction of *increase* and therefore the negative gradient is the direction of *decrease* and we're trying to *minimize* a cost function. \n",
    "\n",
    "The amount by which we move in the negative gradient *direction*  is called the 'step size'. We stop when we are 'sufficiently close' to the optimum. Unlike in Week 2, this time we will set a **maximum number of iterations** and take gradient steps until we reach this maximum number. If no maximum number is supplied, the maximum should be set 100 by default. (Use default parameter values in Python.)\n",
    "\n",
    "With this in mind, complete the following gradient descent function below using your derivative function above. For each step in the gradient descent, we update the weight for each feature before computing our stopping criteria."
   ]
  },
  {
   "cell_type": "code",
   "execution_count": 55,
   "metadata": {
    "collapsed": false
   },
   "outputs": [],
   "source": [
    "def ridge_regression_gradient_descent(feature_matrix, output, initial_weights, step_size, l2_penalty, max_iterations=100):\n",
    "    weights = np.array(initial_weights) # make sure it's a numpy array\n",
    "    \n",
    "    #while not reached maximum number of iterations:\n",
    "    for index in range(0, max_iterations):\n",
    "        # compute the predictions based on feature_matrix and weights using your predict_output() function\n",
    "        prediction = predict_output(feature_matrix, weights)\n",
    "        \n",
    "        # compute the errors as predictions - output\n",
    "        error = prediction - output\n",
    "        \n",
    "        for i in xrange(len(weights)): # loop over each weight\n",
    "            # Recall that feature_matrix[:,i] is the feature column associated with weights[i]\n",
    "            # compute the derivative for weight[i].\n",
    "            #(Remember: when i=0, you are computing the derivative of the constant!)\n",
    "            if i == 0:\n",
    "                derivative = feature_derivative_ridge(error, feature_matrix[:,i], weights[i], l2_penalty, True)\n",
    "            else:\n",
    "                derivative = feature_derivative_ridge(error, feature_matrix[:,i], weights[i], l2_penalty, False)\n",
    "            \n",
    "            # subtract the step size times the derivative from the current weight\n",
    "            weights[i] -= step_size * derivative\n",
    "\n",
    "            \n",
    "    return weights"
   ]
  },
  {
   "cell_type": "markdown",
   "metadata": {},
   "source": [
    "# Visualizing effect of L2 penalty"
   ]
  },
  {
   "cell_type": "markdown",
   "metadata": {},
   "source": [
    "The L2 penalty gets its name because it causes weights to have small L2 norms than otherwise. Let's see how large weights get penalized. Let us consider a simple model with 1 feature:"
   ]
  },
  {
   "cell_type": "code",
   "execution_count": 56,
   "metadata": {
    "collapsed": true
   },
   "outputs": [],
   "source": [
    "simple_features = ['sqft_living']\n",
    "my_output = 'price'"
   ]
  },
  {
   "cell_type": "markdown",
   "metadata": {},
   "source": [
    "Let us split the dataset into training set and test set. Make sure to use `seed=0`:"
   ]
  },
  {
   "cell_type": "code",
   "execution_count": 57,
   "metadata": {
    "collapsed": true
   },
   "outputs": [],
   "source": [
    "train_data,test_data = sales.random_split(.8,seed=0)"
   ]
  },
  {
   "cell_type": "markdown",
   "metadata": {},
   "source": [
    "In this part, we will only use `'sqft_living'` to predict `'price'`. Use the `get_numpy_data` function to get a Numpy versions of your data with only this feature, for both the `train_data` and the `test_data`. "
   ]
  },
  {
   "cell_type": "code",
   "execution_count": 58,
   "metadata": {
    "collapsed": false
   },
   "outputs": [],
   "source": [
    "(simple_feature_matrix, output) = get_numpy_data(train_data, simple_features, my_output)\n",
    "(simple_test_feature_matrix, test_output) = get_numpy_data(test_data, simple_features, my_output)"
   ]
  },
  {
   "cell_type": "markdown",
   "metadata": {},
   "source": [
    "Let's set the parameters for our optimization:"
   ]
  },
  {
   "cell_type": "code",
   "execution_count": 59,
   "metadata": {
    "collapsed": true
   },
   "outputs": [],
   "source": [
    "initial_weights = np.array([0., 0.])\n",
    "step_size = 1e-12\n",
    "max_iterations=1000"
   ]
  },
  {
   "cell_type": "markdown",
   "metadata": {},
   "source": [
    "First, let's consider no regularization.  Set the `l2_penalty` to `0.0` and run your ridge regression algorithm to learn the weights of your model.  Call your weights:\n",
    "\n",
    "`simple_weights_0_penalty`\n",
    "\n",
    "we'll use them later."
   ]
  },
  {
   "cell_type": "code",
   "execution_count": 60,
   "metadata": {
    "collapsed": false
   },
   "outputs": [
    {
     "name": "stdout",
     "output_type": "stream",
     "text": [
      "[ -1.63113501e-01   2.63024369e+02]\n"
     ]
    }
   ],
   "source": [
    "simple_weights_0_penalty = ridge_regression_gradient_descent(simple_feature_matrix, output, initial_weights, step_size, 0.0, max_iterations=1000)\n",
    "print simple_weights_0_penalty"
   ]
  },
  {
   "cell_type": "markdown",
   "metadata": {},
   "source": [
    "Next, let's consider high regularization.  Set the `l2_penalty` to `1e11` and run your ridge regression algorithm to learn the weights of your model.  Call your weights:\n",
    "\n",
    "`simple_weights_high_penalty`\n",
    "\n",
    "we'll use them later."
   ]
  },
  {
   "cell_type": "code",
   "execution_count": 61,
   "metadata": {
    "collapsed": false
   },
   "outputs": [
    {
     "name": "stdout",
     "output_type": "stream",
     "text": [
      "[   9.76730383  124.57217565]\n"
     ]
    }
   ],
   "source": [
    "simple_weights_high_penalty = ridge_regression_gradient_descent(simple_feature_matrix, output, initial_weights, step_size, 1e11, max_iterations=1000)\n",
    "print simple_weights_high_penalty"
   ]
  },
  {
   "cell_type": "markdown",
   "metadata": {},
   "source": [
    "This code will plot the two learned models.  (The blue line is for the model with no regularization and the red line is for the one with high regularization.)"
   ]
  },
  {
   "cell_type": "code",
   "execution_count": 15,
   "metadata": {
    "collapsed": false
   },
   "outputs": [
    {
     "data": {
      "application/javascript": [
       "/* Put everything inside the global mpl namespace */\n",
       "window.mpl = {};\n",
       "\n",
       "mpl.get_websocket_type = function() {\n",
       "    if (typeof(WebSocket) !== 'undefined') {\n",
       "        return WebSocket;\n",
       "    } else if (typeof(MozWebSocket) !== 'undefined') {\n",
       "        return MozWebSocket;\n",
       "    } else {\n",
       "        alert('Your browser does not have WebSocket support.' +\n",
       "              'Please try Chrome, Safari or Firefox ≥ 6. ' +\n",
       "              'Firefox 4 and 5 are also supported but you ' +\n",
       "              'have to enable WebSockets in about:config.');\n",
       "    };\n",
       "}\n",
       "\n",
       "mpl.figure = function(figure_id, websocket, ondownload, parent_element) {\n",
       "    this.id = figure_id;\n",
       "\n",
       "    this.ws = websocket;\n",
       "\n",
       "    this.supports_binary = (this.ws.binaryType != undefined);\n",
       "\n",
       "    if (!this.supports_binary) {\n",
       "        var warnings = document.getElementById(\"mpl-warnings\");\n",
       "        if (warnings) {\n",
       "            warnings.style.display = 'block';\n",
       "            warnings.textContent = (\n",
       "                \"This browser does not support binary websocket messages. \" +\n",
       "                    \"Performance may be slow.\");\n",
       "        }\n",
       "    }\n",
       "\n",
       "    this.imageObj = new Image();\n",
       "\n",
       "    this.context = undefined;\n",
       "    this.message = undefined;\n",
       "    this.canvas = undefined;\n",
       "    this.rubberband_canvas = undefined;\n",
       "    this.rubberband_context = undefined;\n",
       "    this.format_dropdown = undefined;\n",
       "\n",
       "    this.image_mode = 'full';\n",
       "\n",
       "    this.root = $('<div/>');\n",
       "    this._root_extra_style(this.root)\n",
       "    this.root.attr('style', 'display: inline-block');\n",
       "\n",
       "    $(parent_element).append(this.root);\n",
       "\n",
       "    this._init_header(this);\n",
       "    this._init_canvas(this);\n",
       "    this._init_toolbar(this);\n",
       "\n",
       "    var fig = this;\n",
       "\n",
       "    this.waiting = false;\n",
       "\n",
       "    this.ws.onopen =  function () {\n",
       "            fig.send_message(\"supports_binary\", {value: fig.supports_binary});\n",
       "            fig.send_message(\"send_image_mode\", {});\n",
       "            fig.send_message(\"refresh\", {});\n",
       "        }\n",
       "\n",
       "    this.imageObj.onload = function() {\n",
       "            if (fig.image_mode == 'full') {\n",
       "                // Full images could contain transparency (where diff images\n",
       "                // almost always do), so we need to clear the canvas so that\n",
       "                // there is no ghosting.\n",
       "                fig.context.clearRect(0, 0, fig.canvas.width, fig.canvas.height);\n",
       "            }\n",
       "            fig.context.drawImage(fig.imageObj, 0, 0);\n",
       "        };\n",
       "\n",
       "    this.imageObj.onunload = function() {\n",
       "        this.ws.close();\n",
       "    }\n",
       "\n",
       "    this.ws.onmessage = this._make_on_message_function(this);\n",
       "\n",
       "    this.ondownload = ondownload;\n",
       "}\n",
       "\n",
       "mpl.figure.prototype._init_header = function() {\n",
       "    var titlebar = $(\n",
       "        '<div class=\"ui-dialog-titlebar ui-widget-header ui-corner-all ' +\n",
       "        'ui-helper-clearfix\"/>');\n",
       "    var titletext = $(\n",
       "        '<div class=\"ui-dialog-title\" style=\"width: 100%; ' +\n",
       "        'text-align: center; padding: 3px;\"/>');\n",
       "    titlebar.append(titletext)\n",
       "    this.root.append(titlebar);\n",
       "    this.header = titletext[0];\n",
       "}\n",
       "\n",
       "\n",
       "\n",
       "mpl.figure.prototype._canvas_extra_style = function(canvas_div) {\n",
       "\n",
       "}\n",
       "\n",
       "\n",
       "mpl.figure.prototype._root_extra_style = function(canvas_div) {\n",
       "\n",
       "}\n",
       "\n",
       "mpl.figure.prototype._init_canvas = function() {\n",
       "    var fig = this;\n",
       "\n",
       "    var canvas_div = $('<div/>');\n",
       "\n",
       "    canvas_div.attr('style', 'position: relative; clear: both; outline: 0');\n",
       "\n",
       "    function canvas_keyboard_event(event) {\n",
       "        return fig.key_event(event, event['data']);\n",
       "    }\n",
       "\n",
       "    canvas_div.keydown('key_press', canvas_keyboard_event);\n",
       "    canvas_div.keyup('key_release', canvas_keyboard_event);\n",
       "    this.canvas_div = canvas_div\n",
       "    this._canvas_extra_style(canvas_div)\n",
       "    this.root.append(canvas_div);\n",
       "\n",
       "    var canvas = $('<canvas/>');\n",
       "    canvas.addClass('mpl-canvas');\n",
       "    canvas.attr('style', \"left: 0; top: 0; z-index: 0; outline: 0\")\n",
       "\n",
       "    this.canvas = canvas[0];\n",
       "    this.context = canvas[0].getContext(\"2d\");\n",
       "\n",
       "    var rubberband = $('<canvas/>');\n",
       "    rubberband.attr('style', \"position: absolute; left: 0; top: 0; z-index: 1;\")\n",
       "\n",
       "    var pass_mouse_events = true;\n",
       "\n",
       "    canvas_div.resizable({\n",
       "        start: function(event, ui) {\n",
       "            pass_mouse_events = false;\n",
       "        },\n",
       "        resize: function(event, ui) {\n",
       "            fig.request_resize(ui.size.width, ui.size.height);\n",
       "        },\n",
       "        stop: function(event, ui) {\n",
       "            pass_mouse_events = true;\n",
       "            fig.request_resize(ui.size.width, ui.size.height);\n",
       "        },\n",
       "    });\n",
       "\n",
       "    function mouse_event_fn(event) {\n",
       "        if (pass_mouse_events)\n",
       "            return fig.mouse_event(event, event['data']);\n",
       "    }\n",
       "\n",
       "    rubberband.mousedown('button_press', mouse_event_fn);\n",
       "    rubberband.mouseup('button_release', mouse_event_fn);\n",
       "    // Throttle sequential mouse events to 1 every 20ms.\n",
       "    rubberband.mousemove('motion_notify', mouse_event_fn);\n",
       "\n",
       "    rubberband.mouseenter('figure_enter', mouse_event_fn);\n",
       "    rubberband.mouseleave('figure_leave', mouse_event_fn);\n",
       "\n",
       "    canvas_div.on(\"wheel\", function (event) {\n",
       "        event = event.originalEvent;\n",
       "        event['data'] = 'scroll'\n",
       "        if (event.deltaY < 0) {\n",
       "            event.step = 1;\n",
       "        } else {\n",
       "            event.step = -1;\n",
       "        }\n",
       "        mouse_event_fn(event);\n",
       "    });\n",
       "\n",
       "    canvas_div.append(canvas);\n",
       "    canvas_div.append(rubberband);\n",
       "\n",
       "    this.rubberband = rubberband;\n",
       "    this.rubberband_canvas = rubberband[0];\n",
       "    this.rubberband_context = rubberband[0].getContext(\"2d\");\n",
       "    this.rubberband_context.strokeStyle = \"#000000\";\n",
       "\n",
       "    this._resize_canvas = function(width, height) {\n",
       "        // Keep the size of the canvas, canvas container, and rubber band\n",
       "        // canvas in synch.\n",
       "        canvas_div.css('width', width)\n",
       "        canvas_div.css('height', height)\n",
       "\n",
       "        canvas.attr('width', width);\n",
       "        canvas.attr('height', height);\n",
       "\n",
       "        rubberband.attr('width', width);\n",
       "        rubberband.attr('height', height);\n",
       "    }\n",
       "\n",
       "    // Set the figure to an initial 600x600px, this will subsequently be updated\n",
       "    // upon first draw.\n",
       "    this._resize_canvas(600, 600);\n",
       "\n",
       "    // Disable right mouse context menu.\n",
       "    $(this.rubberband_canvas).bind(\"contextmenu\",function(e){\n",
       "        return false;\n",
       "    });\n",
       "\n",
       "    function set_focus () {\n",
       "        canvas.focus();\n",
       "        canvas_div.focus();\n",
       "    }\n",
       "\n",
       "    window.setTimeout(set_focus, 100);\n",
       "}\n",
       "\n",
       "mpl.figure.prototype._init_toolbar = function() {\n",
       "    var fig = this;\n",
       "\n",
       "    var nav_element = $('<div/>')\n",
       "    nav_element.attr('style', 'width: 100%');\n",
       "    this.root.append(nav_element);\n",
       "\n",
       "    // Define a callback function for later on.\n",
       "    function toolbar_event(event) {\n",
       "        return fig.toolbar_button_onclick(event['data']);\n",
       "    }\n",
       "    function toolbar_mouse_event(event) {\n",
       "        return fig.toolbar_button_onmouseover(event['data']);\n",
       "    }\n",
       "\n",
       "    for(var toolbar_ind in mpl.toolbar_items) {\n",
       "        var name = mpl.toolbar_items[toolbar_ind][0];\n",
       "        var tooltip = mpl.toolbar_items[toolbar_ind][1];\n",
       "        var image = mpl.toolbar_items[toolbar_ind][2];\n",
       "        var method_name = mpl.toolbar_items[toolbar_ind][3];\n",
       "\n",
       "        if (!name) {\n",
       "            // put a spacer in here.\n",
       "            continue;\n",
       "        }\n",
       "        var button = $('<button/>');\n",
       "        button.addClass('ui-button ui-widget ui-state-default ui-corner-all ' +\n",
       "                        'ui-button-icon-only');\n",
       "        button.attr('role', 'button');\n",
       "        button.attr('aria-disabled', 'false');\n",
       "        button.click(method_name, toolbar_event);\n",
       "        button.mouseover(tooltip, toolbar_mouse_event);\n",
       "\n",
       "        var icon_img = $('<span/>');\n",
       "        icon_img.addClass('ui-button-icon-primary ui-icon');\n",
       "        icon_img.addClass(image);\n",
       "        icon_img.addClass('ui-corner-all');\n",
       "\n",
       "        var tooltip_span = $('<span/>');\n",
       "        tooltip_span.addClass('ui-button-text');\n",
       "        tooltip_span.html(tooltip);\n",
       "\n",
       "        button.append(icon_img);\n",
       "        button.append(tooltip_span);\n",
       "\n",
       "        nav_element.append(button);\n",
       "    }\n",
       "\n",
       "    var fmt_picker_span = $('<span/>');\n",
       "\n",
       "    var fmt_picker = $('<select/>');\n",
       "    fmt_picker.addClass('mpl-toolbar-option ui-widget ui-widget-content');\n",
       "    fmt_picker_span.append(fmt_picker);\n",
       "    nav_element.append(fmt_picker_span);\n",
       "    this.format_dropdown = fmt_picker[0];\n",
       "\n",
       "    for (var ind in mpl.extensions) {\n",
       "        var fmt = mpl.extensions[ind];\n",
       "        var option = $(\n",
       "            '<option/>', {selected: fmt === mpl.default_extension}).html(fmt);\n",
       "        fmt_picker.append(option)\n",
       "    }\n",
       "\n",
       "    // Add hover states to the ui-buttons\n",
       "    $( \".ui-button\" ).hover(\n",
       "        function() { $(this).addClass(\"ui-state-hover\");},\n",
       "        function() { $(this).removeClass(\"ui-state-hover\");}\n",
       "    );\n",
       "\n",
       "    var status_bar = $('<span class=\"mpl-message\"/>');\n",
       "    nav_element.append(status_bar);\n",
       "    this.message = status_bar[0];\n",
       "}\n",
       "\n",
       "mpl.figure.prototype.request_resize = function(x_pixels, y_pixels) {\n",
       "    // Request matplotlib to resize the figure. Matplotlib will then trigger a resize in the client,\n",
       "    // which will in turn request a refresh of the image.\n",
       "    this.send_message('resize', {'width': x_pixels, 'height': y_pixels});\n",
       "}\n",
       "\n",
       "mpl.figure.prototype.send_message = function(type, properties) {\n",
       "    properties['type'] = type;\n",
       "    properties['figure_id'] = this.id;\n",
       "    this.ws.send(JSON.stringify(properties));\n",
       "}\n",
       "\n",
       "mpl.figure.prototype.send_draw_message = function() {\n",
       "    if (!this.waiting) {\n",
       "        this.waiting = true;\n",
       "        this.ws.send(JSON.stringify({type: \"draw\", figure_id: this.id}));\n",
       "    }\n",
       "}\n",
       "\n",
       "\n",
       "mpl.figure.prototype.handle_save = function(fig, msg) {\n",
       "    var format_dropdown = fig.format_dropdown;\n",
       "    var format = format_dropdown.options[format_dropdown.selectedIndex].value;\n",
       "    fig.ondownload(fig, format);\n",
       "}\n",
       "\n",
       "\n",
       "mpl.figure.prototype.handle_resize = function(fig, msg) {\n",
       "    var size = msg['size'];\n",
       "    if (size[0] != fig.canvas.width || size[1] != fig.canvas.height) {\n",
       "        fig._resize_canvas(size[0], size[1]);\n",
       "        fig.send_message(\"refresh\", {});\n",
       "    };\n",
       "}\n",
       "\n",
       "mpl.figure.prototype.handle_rubberband = function(fig, msg) {\n",
       "    var x0 = msg['x0'];\n",
       "    var y0 = fig.canvas.height - msg['y0'];\n",
       "    var x1 = msg['x1'];\n",
       "    var y1 = fig.canvas.height - msg['y1'];\n",
       "    x0 = Math.floor(x0) + 0.5;\n",
       "    y0 = Math.floor(y0) + 0.5;\n",
       "    x1 = Math.floor(x1) + 0.5;\n",
       "    y1 = Math.floor(y1) + 0.5;\n",
       "    var min_x = Math.min(x0, x1);\n",
       "    var min_y = Math.min(y0, y1);\n",
       "    var width = Math.abs(x1 - x0);\n",
       "    var height = Math.abs(y1 - y0);\n",
       "\n",
       "    fig.rubberband_context.clearRect(\n",
       "        0, 0, fig.canvas.width, fig.canvas.height);\n",
       "\n",
       "    fig.rubberband_context.strokeRect(min_x, min_y, width, height);\n",
       "}\n",
       "\n",
       "mpl.figure.prototype.handle_figure_label = function(fig, msg) {\n",
       "    // Updates the figure title.\n",
       "    fig.header.textContent = msg['label'];\n",
       "}\n",
       "\n",
       "mpl.figure.prototype.handle_cursor = function(fig, msg) {\n",
       "    var cursor = msg['cursor'];\n",
       "    switch(cursor)\n",
       "    {\n",
       "    case 0:\n",
       "        cursor = 'pointer';\n",
       "        break;\n",
       "    case 1:\n",
       "        cursor = 'default';\n",
       "        break;\n",
       "    case 2:\n",
       "        cursor = 'crosshair';\n",
       "        break;\n",
       "    case 3:\n",
       "        cursor = 'move';\n",
       "        break;\n",
       "    }\n",
       "    fig.rubberband_canvas.style.cursor = cursor;\n",
       "}\n",
       "\n",
       "mpl.figure.prototype.handle_message = function(fig, msg) {\n",
       "    fig.message.textContent = msg['message'];\n",
       "}\n",
       "\n",
       "mpl.figure.prototype.handle_draw = function(fig, msg) {\n",
       "    // Request the server to send over a new figure.\n",
       "    fig.send_draw_message();\n",
       "}\n",
       "\n",
       "mpl.figure.prototype.handle_image_mode = function(fig, msg) {\n",
       "    fig.image_mode = msg['mode'];\n",
       "}\n",
       "\n",
       "mpl.figure.prototype.updated_canvas_event = function() {\n",
       "    // Called whenever the canvas gets updated.\n",
       "    this.send_message(\"ack\", {});\n",
       "}\n",
       "\n",
       "// A function to construct a web socket function for onmessage handling.\n",
       "// Called in the figure constructor.\n",
       "mpl.figure.prototype._make_on_message_function = function(fig) {\n",
       "    return function socket_on_message(evt) {\n",
       "        if (evt.data instanceof Blob) {\n",
       "            /* FIXME: We get \"Resource interpreted as Image but\n",
       "             * transferred with MIME type text/plain:\" errors on\n",
       "             * Chrome.  But how to set the MIME type?  It doesn't seem\n",
       "             * to be part of the websocket stream */\n",
       "            evt.data.type = \"image/png\";\n",
       "\n",
       "            /* Free the memory for the previous frames */\n",
       "            if (fig.imageObj.src) {\n",
       "                (window.URL || window.webkitURL).revokeObjectURL(\n",
       "                    fig.imageObj.src);\n",
       "            }\n",
       "\n",
       "            fig.imageObj.src = (window.URL || window.webkitURL).createObjectURL(\n",
       "                evt.data);\n",
       "            fig.updated_canvas_event();\n",
       "            fig.waiting = false;\n",
       "            return;\n",
       "        }\n",
       "        else if (typeof evt.data === 'string' && evt.data.slice(0, 21) == \"data:image/png;base64\") {\n",
       "            fig.imageObj.src = evt.data;\n",
       "            fig.updated_canvas_event();\n",
       "            fig.waiting = false;\n",
       "            return;\n",
       "        }\n",
       "\n",
       "        var msg = JSON.parse(evt.data);\n",
       "        var msg_type = msg['type'];\n",
       "\n",
       "        // Call the  \"handle_{type}\" callback, which takes\n",
       "        // the figure and JSON message as its only arguments.\n",
       "        try {\n",
       "            var callback = fig[\"handle_\" + msg_type];\n",
       "        } catch (e) {\n",
       "            console.log(\"No handler for the '\" + msg_type + \"' message type: \", msg);\n",
       "            return;\n",
       "        }\n",
       "\n",
       "        if (callback) {\n",
       "            try {\n",
       "                // console.log(\"Handling '\" + msg_type + \"' message: \", msg);\n",
       "                callback(fig, msg);\n",
       "            } catch (e) {\n",
       "                console.log(\"Exception inside the 'handler_\" + msg_type + \"' callback:\", e, e.stack, msg);\n",
       "            }\n",
       "        }\n",
       "    };\n",
       "}\n",
       "\n",
       "// from http://stackoverflow.com/questions/1114465/getting-mouse-location-in-canvas\n",
       "mpl.findpos = function(e) {\n",
       "    //this section is from http://www.quirksmode.org/js/events_properties.html\n",
       "    var targ;\n",
       "    if (!e)\n",
       "        e = window.event;\n",
       "    if (e.target)\n",
       "        targ = e.target;\n",
       "    else if (e.srcElement)\n",
       "        targ = e.srcElement;\n",
       "    if (targ.nodeType == 3) // defeat Safari bug\n",
       "        targ = targ.parentNode;\n",
       "\n",
       "    // jQuery normalizes the pageX and pageY\n",
       "    // pageX,Y are the mouse positions relative to the document\n",
       "    // offset() returns the position of the element relative to the document\n",
       "    var x = e.pageX - $(targ).offset().left;\n",
       "    var y = e.pageY - $(targ).offset().top;\n",
       "\n",
       "    return {\"x\": x, \"y\": y};\n",
       "};\n",
       "\n",
       "/*\n",
       " * return a copy of an object with only non-object keys\n",
       " * we need this to avoid circular references\n",
       " * http://stackoverflow.com/a/24161582/3208463\n",
       " */\n",
       "function simpleKeys (original) {\n",
       "  return Object.keys(original).reduce(function (obj, key) {\n",
       "    if (typeof original[key] !== 'object')\n",
       "        obj[key] = original[key]\n",
       "    return obj;\n",
       "  }, {});\n",
       "}\n",
       "\n",
       "mpl.figure.prototype.mouse_event = function(event, name) {\n",
       "    var canvas_pos = mpl.findpos(event)\n",
       "\n",
       "    if (name === 'button_press')\n",
       "    {\n",
       "        this.canvas.focus();\n",
       "        this.canvas_div.focus();\n",
       "    }\n",
       "\n",
       "    var x = canvas_pos.x;\n",
       "    var y = canvas_pos.y;\n",
       "\n",
       "    this.send_message(name, {x: x, y: y, button: event.button,\n",
       "                             step: event.step,\n",
       "                             guiEvent: simpleKeys(event)});\n",
       "\n",
       "    /* This prevents the web browser from automatically changing to\n",
       "     * the text insertion cursor when the button is pressed.  We want\n",
       "     * to control all of the cursor setting manually through the\n",
       "     * 'cursor' event from matplotlib */\n",
       "    event.preventDefault();\n",
       "    return false;\n",
       "}\n",
       "\n",
       "mpl.figure.prototype._key_event_extra = function(event, name) {\n",
       "    // Handle any extra behaviour associated with a key event\n",
       "}\n",
       "\n",
       "mpl.figure.prototype.key_event = function(event, name) {\n",
       "\n",
       "    // Prevent repeat events\n",
       "    if (name == 'key_press')\n",
       "    {\n",
       "        if (event.which === this._key)\n",
       "            return;\n",
       "        else\n",
       "            this._key = event.which;\n",
       "    }\n",
       "    if (name == 'key_release')\n",
       "        this._key = null;\n",
       "\n",
       "    var value = '';\n",
       "    if (event.ctrlKey && event.which != 17)\n",
       "        value += \"ctrl+\";\n",
       "    if (event.altKey && event.which != 18)\n",
       "        value += \"alt+\";\n",
       "    if (event.shiftKey && event.which != 16)\n",
       "        value += \"shift+\";\n",
       "\n",
       "    value += 'k';\n",
       "    value += event.which.toString();\n",
       "\n",
       "    this._key_event_extra(event, name);\n",
       "\n",
       "    this.send_message(name, {key: value,\n",
       "                             guiEvent: simpleKeys(event)});\n",
       "    return false;\n",
       "}\n",
       "\n",
       "mpl.figure.prototype.toolbar_button_onclick = function(name) {\n",
       "    if (name == 'download') {\n",
       "        this.handle_save(this, null);\n",
       "    } else {\n",
       "        this.send_message(\"toolbar_button\", {name: name});\n",
       "    }\n",
       "};\n",
       "\n",
       "mpl.figure.prototype.toolbar_button_onmouseover = function(tooltip) {\n",
       "    this.message.textContent = tooltip;\n",
       "};\n",
       "mpl.toolbar_items = [[\"Home\", \"Reset original view\", \"fa fa-home icon-home\", \"home\"], [\"Back\", \"Back to  previous view\", \"fa fa-arrow-left icon-arrow-left\", \"back\"], [\"Forward\", \"Forward to next view\", \"fa fa-arrow-right icon-arrow-right\", \"forward\"], [\"\", \"\", \"\", \"\"], [\"Pan\", \"Pan axes with left mouse, zoom with right\", \"fa fa-arrows icon-move\", \"pan\"], [\"Zoom\", \"Zoom to rectangle\", \"fa fa-square-o icon-check-empty\", \"zoom\"], [\"\", \"\", \"\", \"\"], [\"Download\", \"Download plot\", \"fa fa-floppy-o icon-save\", \"download\"]];\n",
       "\n",
       "mpl.extensions = [\"eps\", \"jpeg\", \"pdf\", \"png\", \"ps\", \"raw\", \"svg\", \"tif\"];\n",
       "\n",
       "mpl.default_extension = \"png\";var comm_websocket_adapter = function(comm) {\n",
       "    // Create a \"websocket\"-like object which calls the given IPython comm\n",
       "    // object with the appropriate methods. Currently this is a non binary\n",
       "    // socket, so there is still some room for performance tuning.\n",
       "    var ws = {};\n",
       "\n",
       "    ws.close = function() {\n",
       "        comm.close()\n",
       "    };\n",
       "    ws.send = function(m) {\n",
       "        //console.log('sending', m);\n",
       "        comm.send(m);\n",
       "    };\n",
       "    // Register the callback with on_msg.\n",
       "    comm.on_msg(function(msg) {\n",
       "        //console.log('receiving', msg['content']['data'], msg);\n",
       "        // Pass the mpl event to the overriden (by mpl) onmessage function.\n",
       "        ws.onmessage(msg['content']['data'])\n",
       "    });\n",
       "    return ws;\n",
       "}\n",
       "\n",
       "mpl.mpl_figure_comm = function(comm, msg) {\n",
       "    // This is the function which gets called when the mpl process\n",
       "    // starts-up an IPython Comm through the \"matplotlib\" channel.\n",
       "\n",
       "    var id = msg.content.data.id;\n",
       "    // Get hold of the div created by the display call when the Comm\n",
       "    // socket was opened in Python.\n",
       "    var element = $(\"#\" + id);\n",
       "    var ws_proxy = comm_websocket_adapter(comm)\n",
       "\n",
       "    function ondownload(figure, format) {\n",
       "        window.open(figure.imageObj.src);\n",
       "    }\n",
       "\n",
       "    var fig = new mpl.figure(id, ws_proxy,\n",
       "                           ondownload,\n",
       "                           element.get(0));\n",
       "\n",
       "    // Call onopen now - mpl needs it, as it is assuming we've passed it a real\n",
       "    // web socket which is closed, not our websocket->open comm proxy.\n",
       "    ws_proxy.onopen();\n",
       "\n",
       "    fig.parent_element = element.get(0);\n",
       "    fig.cell_info = mpl.find_output_cell(\"<div id='\" + id + \"'></div>\");\n",
       "    if (!fig.cell_info) {\n",
       "        console.error(\"Failed to find cell for figure\", id, fig);\n",
       "        return;\n",
       "    }\n",
       "\n",
       "    var output_index = fig.cell_info[2]\n",
       "    var cell = fig.cell_info[0];\n",
       "\n",
       "};\n",
       "\n",
       "mpl.figure.prototype.handle_close = function(fig, msg) {\n",
       "    // Update the output cell to use the data from the current canvas.\n",
       "    fig.push_to_output();\n",
       "    var dataURL = fig.canvas.toDataURL();\n",
       "    // Re-enable the keyboard manager in IPython - without this line, in FF,\n",
       "    // the notebook keyboard shortcuts fail.\n",
       "    IPython.keyboard_manager.enable()\n",
       "    $(fig.parent_element).html('<img src=\"' + dataURL + '\">');\n",
       "    fig.send_message('closing', {});\n",
       "    fig.ws.close()\n",
       "}\n",
       "\n",
       "mpl.figure.prototype.push_to_output = function(remove_interactive) {\n",
       "    // Turn the data on the canvas into data in the output cell.\n",
       "    var dataURL = this.canvas.toDataURL();\n",
       "    this.cell_info[1]['text/html'] = '<img src=\"' + dataURL + '\">';\n",
       "}\n",
       "\n",
       "mpl.figure.prototype.updated_canvas_event = function() {\n",
       "    // Tell IPython that the notebook contents must change.\n",
       "    IPython.notebook.set_dirty(true);\n",
       "    this.send_message(\"ack\", {});\n",
       "    var fig = this;\n",
       "    // Wait a second, then push the new image to the DOM so\n",
       "    // that it is saved nicely (might be nice to debounce this).\n",
       "    setTimeout(function () { fig.push_to_output() }, 1000);\n",
       "}\n",
       "\n",
       "mpl.figure.prototype._init_toolbar = function() {\n",
       "    var fig = this;\n",
       "\n",
       "    var nav_element = $('<div/>')\n",
       "    nav_element.attr('style', 'width: 100%');\n",
       "    this.root.append(nav_element);\n",
       "\n",
       "    // Define a callback function for later on.\n",
       "    function toolbar_event(event) {\n",
       "        return fig.toolbar_button_onclick(event['data']);\n",
       "    }\n",
       "    function toolbar_mouse_event(event) {\n",
       "        return fig.toolbar_button_onmouseover(event['data']);\n",
       "    }\n",
       "\n",
       "    for(var toolbar_ind in mpl.toolbar_items){\n",
       "        var name = mpl.toolbar_items[toolbar_ind][0];\n",
       "        var tooltip = mpl.toolbar_items[toolbar_ind][1];\n",
       "        var image = mpl.toolbar_items[toolbar_ind][2];\n",
       "        var method_name = mpl.toolbar_items[toolbar_ind][3];\n",
       "\n",
       "        if (!name) { continue; };\n",
       "\n",
       "        var button = $('<button class=\"btn btn-default\" href=\"#\" title=\"' + name + '\"><i class=\"fa ' + image + ' fa-lg\"></i></button>');\n",
       "        button.click(method_name, toolbar_event);\n",
       "        button.mouseover(tooltip, toolbar_mouse_event);\n",
       "        nav_element.append(button);\n",
       "    }\n",
       "\n",
       "    // Add the status bar.\n",
       "    var status_bar = $('<span class=\"mpl-message\" style=\"text-align:right; float: right;\"/>');\n",
       "    nav_element.append(status_bar);\n",
       "    this.message = status_bar[0];\n",
       "\n",
       "    // Add the close button to the window.\n",
       "    var buttongrp = $('<div class=\"btn-group inline pull-right\"></div>');\n",
       "    var button = $('<button class=\"btn btn-mini btn-danger\" href=\"#\" title=\"Close figure\"><i class=\"fa fa-times icon-remove icon-large\"></i></button>');\n",
       "    button.click(function (evt) { fig.handle_close(fig, {}); } );\n",
       "    button.mouseover('Close figure', toolbar_mouse_event);\n",
       "    buttongrp.append(button);\n",
       "    var titlebar = this.root.find($('.ui-dialog-titlebar'));\n",
       "    titlebar.prepend(buttongrp);\n",
       "}\n",
       "\n",
       "\n",
       "mpl.figure.prototype._canvas_extra_style = function(el){\n",
       "    // this is important to make the div 'focusable\n",
       "    el.attr('tabindex', 0)\n",
       "    // reach out to IPython and tell the keyboard manager to turn it's self\n",
       "    // off when our div gets focus\n",
       "\n",
       "    // location in version 3\n",
       "    if (IPython.notebook.keyboard_manager) {\n",
       "        IPython.notebook.keyboard_manager.register_events(el);\n",
       "    }\n",
       "    else {\n",
       "        // location in version 2\n",
       "        IPython.keyboard_manager.register_events(el);\n",
       "    }\n",
       "\n",
       "}\n",
       "\n",
       "mpl.figure.prototype._key_event_extra = function(event, name) {\n",
       "    var manager = IPython.notebook.keyboard_manager;\n",
       "    if (!manager)\n",
       "        manager = IPython.keyboard_manager;\n",
       "\n",
       "    // Check for shift+enter\n",
       "    if (event.shiftKey && event.which == 13) {\n",
       "        this.canvas_div.blur();\n",
       "        event.shiftKey = false;\n",
       "        // Send a \"J\" for go to next cell\n",
       "        event.which = 74;\n",
       "        event.keyCode = 74;\n",
       "        manager.command_mode();\n",
       "        manager.handle_keydown(event);\n",
       "    }\n",
       "}\n",
       "\n",
       "mpl.figure.prototype.handle_save = function(fig, msg) {\n",
       "    fig.ondownload(fig, null);\n",
       "}\n",
       "\n",
       "\n",
       "mpl.find_output_cell = function(html_output) {\n",
       "    // Return the cell and output element which can be found *uniquely* in the notebook.\n",
       "    // Note - this is a bit hacky, but it is done because the \"notebook_saving.Notebook\"\n",
       "    // IPython event is triggered only after the cells have been serialised, which for\n",
       "    // our purposes (turning an active figure into a static one), is too late.\n",
       "    var cells = IPython.notebook.get_cells();\n",
       "    var ncells = cells.length;\n",
       "    for (var i=0; i<ncells; i++) {\n",
       "        var cell = cells[i];\n",
       "        if (cell.cell_type === 'code'){\n",
       "            for (var j=0; j<cell.output_area.outputs.length; j++) {\n",
       "                var data = cell.output_area.outputs[j];\n",
       "                if (data.data) {\n",
       "                    // IPython >= 3 moved mimebundle to data attribute of output\n",
       "                    data = data.data;\n",
       "                }\n",
       "                if (data['text/html'] == html_output) {\n",
       "                    return [cell, data, j];\n",
       "                }\n",
       "            }\n",
       "        }\n",
       "    }\n",
       "}\n",
       "\n",
       "// Register the function which deals with the matplotlib target/channel.\n",
       "// The kernel may be null if the page has been refreshed.\n",
       "if (IPython.notebook.kernel != null) {\n",
       "    IPython.notebook.kernel.comm_manager.register_target('matplotlib', mpl.mpl_figure_comm);\n",
       "}\n"
      ],
      "text/plain": [
       "<IPython.core.display.Javascript object>"
      ]
     },
     "metadata": {},
     "output_type": "display_data"
    },
    {
     "data": {
      "text/html": [
       "<img src=\"data:image/png;base64,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\">"
      ],
      "text/plain": [
       "<IPython.core.display.HTML object>"
      ]
     },
     "metadata": {},
     "output_type": "display_data"
    },
    {
     "data": {
      "text/plain": [
       "[<matplotlib.lines.Line2D at 0x7fd47f2f8c50>,\n",
       " <matplotlib.lines.Line2D at 0x7fd47f2f8d50>,\n",
       " <matplotlib.lines.Line2D at 0x7fd47f2f8f10>,\n",
       " <matplotlib.lines.Line2D at 0x7fd47f28ab10>,\n",
       " <matplotlib.lines.Line2D at 0x7fd47f28ac50>,\n",
       " <matplotlib.lines.Line2D at 0x7fd47f2957d0>]"
      ]
     },
     "execution_count": 15,
     "metadata": {},
     "output_type": "execute_result"
    }
   ],
   "source": [
    "import matplotlib.pyplot as plt\n",
    "%matplotlib notebook\n",
    "plt.plot(simple_feature_matrix,output,'k.',\n",
    "         simple_feature_matrix,predict_output(simple_feature_matrix, simple_weights_0_penalty),'b-',\n",
    "        simple_feature_matrix,predict_output(simple_feature_matrix, simple_weights_high_penalty),'r-')"
   ]
  },
  {
   "cell_type": "markdown",
   "metadata": {},
   "source": [
    "Compute the RSS on the TEST data for the following three sets of weights:\n",
    "1. The initial weights (all zeros)\n",
    "2. The weights learned with no regularization\n",
    "3. The weights learned with high regularization\n",
    "\n",
    "Which weights perform best?"
   ]
  },
  {
   "cell_type": "code",
   "execution_count": 39,
   "metadata": {
    "collapsed": false
   },
   "outputs": [
    {
     "name": "stdout",
     "output_type": "stream",
     "text": [
      "1.78427328252e+15\n"
     ]
    }
   ],
   "source": [
    "initial_RSS = sum((test_output - predict_output(simple_test_feature_matrix, initial_weights))**2)\n",
    "print initial_RSS"
   ]
  },
  {
   "cell_type": "code",
   "execution_count": 40,
   "metadata": {
    "collapsed": false
   },
   "outputs": [
    {
     "name": "stdout",
     "output_type": "stream",
     "text": [
      "2.75723634598e+14\n"
     ]
    }
   ],
   "source": [
    "no_regularization_RSS = sum((test_output - predict_output(simple_test_feature_matrix, simple_weights_0_penalty))**2)\n",
    "print no_regularization_RSS"
   ]
  },
  {
   "cell_type": "code",
   "execution_count": 41,
   "metadata": {
    "collapsed": false
   },
   "outputs": [
    {
     "name": "stdout",
     "output_type": "stream",
     "text": [
      "6.94642100914e+14\n"
     ]
    }
   ],
   "source": [
    "high_regularization_RSS = sum((test_output - predict_output(simple_test_feature_matrix, simple_weights_high_penalty))**2)\n",
    "print high_regularization_RSS"
   ]
  },
  {
   "cell_type": "markdown",
   "metadata": {
    "collapsed": false
   },
   "source": [
    "***QUIZ QUESTIONS***\n",
    "1. What is the value of the coefficient for `sqft_living` that you learned with no regularization, rounded to 1 decimal place?  What about the one with high regularization?\n",
    "2. Comparing the lines you fit with the with no regularization versus high regularization, which one is steeper?\n",
    "3. What are the RSS on the test data for each of the set of weights above (initial, no regularization, high regularization)? \n"
   ]
  },
  {
   "cell_type": "markdown",
   "metadata": {},
   "source": [
    "# Running a multiple regression with L2 penalty"
   ]
  },
  {
   "cell_type": "markdown",
   "metadata": {},
   "source": [
    "Let us now consider a model with 2 features: `['sqft_living', 'sqft_living15']`."
   ]
  },
  {
   "cell_type": "markdown",
   "metadata": {},
   "source": [
    "First, create Numpy versions of your training and test data with these two features. "
   ]
  },
  {
   "cell_type": "code",
   "execution_count": 42,
   "metadata": {
    "collapsed": true
   },
   "outputs": [],
   "source": [
    "model_features = ['sqft_living', 'sqft_living15'] # sqft_living15 is the average squarefeet for the nearest 15 neighbors. \n",
    "my_output = 'price'\n",
    "(feature_matrix, output) = get_numpy_data(train_data, model_features, my_output)\n",
    "(test_feature_matrix, test_output) = get_numpy_data(test_data, model_features, my_output)"
   ]
  },
  {
   "cell_type": "markdown",
   "metadata": {},
   "source": [
    "We need to re-inialize the weights, since we have one extra parameter. Let us also set the step size and maximum number of iterations."
   ]
  },
  {
   "cell_type": "code",
   "execution_count": 43,
   "metadata": {
    "collapsed": true
   },
   "outputs": [],
   "source": [
    "initial_weights = np.array([0.0,0.0,0.0])\n",
    "step_size = 1e-12\n",
    "max_iterations = 1000"
   ]
  },
  {
   "cell_type": "markdown",
   "metadata": {},
   "source": [
    "First, let's consider no regularization.  Set the `l2_penalty` to `0.0` and run your ridge regression algorithm to learn the weights of your model.  Call your weights:\n",
    "\n",
    "`multiple_weights_0_penalty`"
   ]
  },
  {
   "cell_type": "code",
   "execution_count": 44,
   "metadata": {
    "collapsed": false
   },
   "outputs": [
    {
     "name": "stdout",
     "output_type": "stream",
     "text": [
      "[  -0.35743482  243.0541689    22.41481594]\n"
     ]
    }
   ],
   "source": [
    "multiple_weights_0_penalty = ridge_regression_gradient_descent(feature_matrix, output, initial_weights, step_size, 0.0, max_iterations=1000)\n",
    "print multiple_weights_0_penalty"
   ]
  },
  {
   "cell_type": "markdown",
   "metadata": {},
   "source": [
    "Next, let's consider high regularization.  Set the `l2_penalty` to `1e11` and run your ridge regression algorithm to learn the weights of your model.  Call your weights:\n",
    "\n",
    "`multiple_weights_high_penalty`"
   ]
  },
  {
   "cell_type": "code",
   "execution_count": 45,
   "metadata": {
    "collapsed": false
   },
   "outputs": [
    {
     "name": "stdout",
     "output_type": "stream",
     "text": [
      "[  6.7429658   91.48927361  78.43658768]\n"
     ]
    }
   ],
   "source": [
    "multiple_weights_high_penalty = ridge_regression_gradient_descent(feature_matrix, output, initial_weights, step_size, 1e11, max_iterations=1000)\n",
    "print multiple_weights_high_penalty"
   ]
  },
  {
   "cell_type": "markdown",
   "metadata": {},
   "source": [
    "Compute the RSS on the TEST data for the following three sets of weights:\n",
    "1. The initial weights (all zeros)\n",
    "2. The weights learned with no regularization\n",
    "3. The weights learned with high regularization\n",
    "\n",
    "Which weights perform best?"
   ]
  },
  {
   "cell_type": "code",
   "execution_count": 46,
   "metadata": {
    "collapsed": false
   },
   "outputs": [
    {
     "name": "stdout",
     "output_type": "stream",
     "text": [
      "1.78427328252e+15\n"
     ]
    }
   ],
   "source": [
    "initial_RSS = sum((test_output - predict_output(test_feature_matrix, initial_weights))**2)\n",
    "print initial_RSS"
   ]
  },
  {
   "cell_type": "code",
   "execution_count": 47,
   "metadata": {
    "collapsed": false
   },
   "outputs": [
    {
     "name": "stdout",
     "output_type": "stream",
     "text": [
      "2.74067618287e+14\n"
     ]
    }
   ],
   "source": [
    "no_regularization_RSS = sum((test_output - predict_output(test_feature_matrix, multiple_weights_0_penalty))**2)\n",
    "print no_regularization_RSS"
   ]
  },
  {
   "cell_type": "code",
   "execution_count": 48,
   "metadata": {
    "collapsed": false
   },
   "outputs": [
    {
     "name": "stdout",
     "output_type": "stream",
     "text": [
      "5.0040480058e+14\n"
     ]
    }
   ],
   "source": [
    "high_regularization_RSS = sum((test_output - predict_output(test_feature_matrix, multiple_weights_high_penalty))**2)\n",
    "print high_regularization_RSS"
   ]
  },
  {
   "cell_type": "markdown",
   "metadata": {},
   "source": [
    "Predict the house price for the 1st house in the test set using the no regularization and high regularization models. (Remember that python starts indexing from 0.) How far is the prediction from the actual price?  Which weights perform best for the 1st house?"
   ]
  },
  {
   "cell_type": "code",
   "execution_count": 49,
   "metadata": {
    "collapsed": false
   },
   "outputs": [
    {
     "name": "stdout",
     "output_type": "stream",
     "text": [
      "-77465.4764647\n"
     ]
    }
   ],
   "source": [
    "print test_output[0] - predict_output(test_feature_matrix, multiple_weights_0_penalty)[0]"
   ]
  },
  {
   "cell_type": "code",
   "execution_count": 50,
   "metadata": {
    "collapsed": false
   },
   "outputs": [
    {
     "name": "stdout",
     "output_type": "stream",
     "text": [
      "39546.4696951\n"
     ]
    }
   ],
   "source": [
    "print test_output[0] - predict_output(test_feature_matrix, multiple_weights_high_penalty)[0]"
   ]
  },
  {
   "cell_type": "markdown",
   "metadata": {
    "collapsed": true
   },
   "source": [
    "***QUIZ QUESTIONS***\n",
    "1. What is the value of the coefficient for `sqft_living` that you learned with no regularization, rounded to 1 decimal place?  What about the one with high regularization?\n",
    "2. What are the RSS on the test data for each of the set of weights above (initial, no regularization, high regularization)? \n",
    "3. We make prediction for the first house in the test set using two sets of weights (no regularization vs high regularization). Which weights make better prediction <u>for that particular house</u>?"
   ]
  },
  {
   "cell_type": "code",
   "execution_count": null,
   "metadata": {
    "collapsed": true
   },
   "outputs": [],
   "source": []
  }
 ],
 "metadata": {
  "kernelspec": {
   "display_name": "Python 2",
   "language": "python",
   "name": "python2"
  },
  "language_info": {
   "codemirror_mode": {
    "name": "ipython",
    "version": 2
   },
   "file_extension": ".py",
   "mimetype": "text/x-python",
   "name": "python",
   "nbconvert_exporter": "python",
   "pygments_lexer": "ipython2",
   "version": "2.7.6"
  }
 },
 "nbformat": 4,
 "nbformat_minor": 0
}
